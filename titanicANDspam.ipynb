{
  "nbformat": 4,
  "nbformat_minor": 0,
  "metadata": {
    "colab": {
      "name": "titanicANDspam.ipynb",
      "provenance": [],
      "collapsed_sections": [],
      "authorship_tag": "ABX9TyO9OxakPw7EuhqWzO6gUwGd",
      "include_colab_link": true
    },
    "kernelspec": {
      "name": "python3",
      "display_name": "Python 3"
    },
    "accelerator": "TPU"
  },
  "cells": [
    {
      "cell_type": "markdown",
      "metadata": {
        "id": "view-in-github",
        "colab_type": "text"
      },
      "source": [
        "<a href=\"https://colab.research.google.com/github/victoriousvictor42/titanic/blob/master/titanicANDspam.ipynb\" target=\"_parent\"><img src=\"https://colab.research.google.com/assets/colab-badge.svg\" alt=\"Open In Colab\"/></a>"
      ]
    },
    {
      "cell_type": "markdown",
      "metadata": {
        "id": "kLG2VTrnTvYL",
        "colab_type": "text"
      },
      "source": [
        "## 1. Defining the Question"
      ]
    },
    {
      "cell_type": "markdown",
      "metadata": {
        "id": "XecOwPNorl2W",
        "colab_type": "text"
      },
      "source": [
        "### a) Specifying the Data Analytic Question"
      ]
    },
    {
      "cell_type": "markdown",
      "metadata": {
        "id": "9ozBnKfehSAw",
        "colab_type": "text"
      },
      "source": [
        "> make a prediction of the titanic disaster using K-nearest Neighbour classifier and detecting spam messages using Naive Bayes Classifier"
      ]
    },
    {
      "cell_type": "markdown",
      "metadata": {
        "id": "J4wfHZwQrs-t",
        "colab_type": "text"
      },
      "source": [
        "### b) Defining the Metric for Success"
      ]
    },
    {
      "cell_type": "markdown",
      "metadata": {
        "id": "c9osIZWTRJUH",
        "colab_type": "text"
      },
      "source": [
        "*   Data understanding \n",
        "*   Data Wrangling\n",
        "*   Feature engineering\n",
        "*   Modelling using K-nearest neighbour classifier and Naive Bayes classifier\n",
        "\n"
      ]
    },
    {
      "cell_type": "markdown",
      "metadata": {
        "id": "a9BPYqunry97",
        "colab_type": "text"
      },
      "source": [
        "### c) Understanding the context "
      ]
    },
    {
      "cell_type": "markdown",
      "metadata": {
        "id": "9ehdVAZwIPx5",
        "colab_type": "text"
      },
      "source": [
        "making predictions using Knearest neighbours and naive bayes claasifier"
      ]
    },
    {
      "cell_type": "markdown",
      "metadata": {
        "id": "7KMRBJ7zr9HD",
        "colab_type": "text"
      },
      "source": [
        "### d) Recording the Experimental Design"
      ]
    },
    {
      "cell_type": "markdown",
      "metadata": {
        "id": "hABeE9YxRh6U",
        "colab_type": "text"
      },
      "source": [
        "\n",
        "\n",
        "1.   KNN\n",
        "2.   Naive Bayes\n",
        "\n"
      ]
    },
    {
      "cell_type": "markdown",
      "metadata": {
        "id": "zSGyg6kWsBUl",
        "colab_type": "text"
      },
      "source": [
        "### e) Data Relevance"
      ]
    },
    {
      "cell_type": "markdown",
      "metadata": {
        "id": "bn7enkDSIc_j",
        "colab_type": "text"
      },
      "source": [
        "these datasets are from kaggle. Its genuine since the samesame dataset were used in many hackathons."
      ]
    },
    {
      "cell_type": "markdown",
      "metadata": {
        "id": "iUNbvIvnT7ep",
        "colab_type": "text"
      },
      "source": [
        "## 2. Reading the Data"
      ]
    },
    {
      "cell_type": "markdown",
      "metadata": {
        "id": "HoBX5_BrItTp",
        "colab_type": "text"
      },
      "source": [
        "we are going to import the necessary libraries thatwill enable us to read the data."
      ]
    },
    {
      "cell_type": "code",
      "metadata": {
        "id": "QPWydjNuIsRf",
        "colab_type": "code",
        "colab": {}
      },
      "source": [
        "#importing the necessary libraries\n",
        "import pandas as pd\n",
        "import numpy as np\n",
        "import matplotlib.pyplot as plt\n",
        "import seaborn as sns"
      ],
      "execution_count": 0,
      "outputs": []
    },
    {
      "cell_type": "code",
      "metadata": {
        "id": "E128Y6YYJP4H",
        "colab_type": "code",
        "colab": {}
      },
      "source": [
        "# loading the datasets\n",
        "titanic = pd.read_csv('train.csv')\n",
        "spambase = pd.read_csv('spambase.data')\n",
        "\n"
      ],
      "execution_count": 0,
      "outputs": []
    },
    {
      "cell_type": "markdown",
      "metadata": {
        "id": "OI3P3YnHUEBk",
        "colab_type": "text"
      },
      "source": [
        "\n",
        "\n",
        "## 3. Checking the Data"
      ]
    },
    {
      "cell_type": "markdown",
      "metadata": {
        "id": "OG8N5FhlJkVu",
        "colab_type": "text"
      },
      "source": [
        "we are now going to see the layout of the data"
      ]
    },
    {
      "cell_type": "code",
      "metadata": {
        "id": "8atgM_WoJug3",
        "colab_type": "code",
        "colab": {
          "base_uri": "https://localhost:8080/",
          "height": 377
        },
        "outputId": "07a358c2-27c9-46d8-cea5-37d198ced3a5"
      },
      "source": [
        "# previewing the top of the datasets\n",
        "print(titanic.head())\n",
        "print('*'*200)\n",
        "spambase.head()\n"
      ],
      "execution_count": 4,
      "outputs": [
        {
          "output_type": "stream",
          "text": [
            "   PassengerId  Survived  Pclass  ...     Fare Cabin  Embarked\n",
            "0            1         0       3  ...   7.2500   NaN         S\n",
            "1            2         1       1  ...  71.2833   C85         C\n",
            "2            3         1       3  ...   7.9250   NaN         S\n",
            "3            4         1       1  ...  53.1000  C123         S\n",
            "4            5         0       3  ...   8.0500   NaN         S\n",
            "\n",
            "[5 rows x 12 columns]\n",
            "********************************************************************************************************************************************************************************************************\n"
          ],
          "name": "stdout"
        },
        {
          "output_type": "execute_result",
          "data": {
            "text/html": [
              "<div>\n",
              "<style scoped>\n",
              "    .dataframe tbody tr th:only-of-type {\n",
              "        vertical-align: middle;\n",
              "    }\n",
              "\n",
              "    .dataframe tbody tr th {\n",
              "        vertical-align: top;\n",
              "    }\n",
              "\n",
              "    .dataframe thead th {\n",
              "        text-align: right;\n",
              "    }\n",
              "</style>\n",
              "<table border=\"1\" class=\"dataframe\">\n",
              "  <thead>\n",
              "    <tr style=\"text-align: right;\">\n",
              "      <th></th>\n",
              "      <th>0</th>\n",
              "      <th>0.64</th>\n",
              "      <th>0.64.1</th>\n",
              "      <th>0.1</th>\n",
              "      <th>0.32</th>\n",
              "      <th>0.2</th>\n",
              "      <th>0.3</th>\n",
              "      <th>0.4</th>\n",
              "      <th>0.5</th>\n",
              "      <th>0.6</th>\n",
              "      <th>0.7</th>\n",
              "      <th>0.64.2</th>\n",
              "      <th>0.8</th>\n",
              "      <th>0.9</th>\n",
              "      <th>0.10</th>\n",
              "      <th>0.32.1</th>\n",
              "      <th>0.11</th>\n",
              "      <th>1.29</th>\n",
              "      <th>1.93</th>\n",
              "      <th>0.12</th>\n",
              "      <th>0.96</th>\n",
              "      <th>0.13</th>\n",
              "      <th>0.14</th>\n",
              "      <th>0.15</th>\n",
              "      <th>0.16</th>\n",
              "      <th>0.17</th>\n",
              "      <th>0.18</th>\n",
              "      <th>0.19</th>\n",
              "      <th>0.20</th>\n",
              "      <th>0.21</th>\n",
              "      <th>0.22</th>\n",
              "      <th>0.23</th>\n",
              "      <th>0.24</th>\n",
              "      <th>0.25</th>\n",
              "      <th>0.26</th>\n",
              "      <th>0.27</th>\n",
              "      <th>0.28</th>\n",
              "      <th>0.29</th>\n",
              "      <th>0.30</th>\n",
              "      <th>0.31</th>\n",
              "      <th>0.32.2</th>\n",
              "      <th>0.33</th>\n",
              "      <th>0.34</th>\n",
              "      <th>0.35</th>\n",
              "      <th>0.36</th>\n",
              "      <th>0.37</th>\n",
              "      <th>0.38</th>\n",
              "      <th>0.39</th>\n",
              "      <th>0.40</th>\n",
              "      <th>0.41</th>\n",
              "      <th>0.42</th>\n",
              "      <th>0.778</th>\n",
              "      <th>0.43</th>\n",
              "      <th>0.44</th>\n",
              "      <th>3.756</th>\n",
              "      <th>61</th>\n",
              "      <th>278</th>\n",
              "      <th>1</th>\n",
              "    </tr>\n",
              "  </thead>\n",
              "  <tbody>\n",
              "    <tr>\n",
              "      <th>0</th>\n",
              "      <td>0.21</td>\n",
              "      <td>0.28</td>\n",
              "      <td>0.50</td>\n",
              "      <td>0.0</td>\n",
              "      <td>0.14</td>\n",
              "      <td>0.28</td>\n",
              "      <td>0.21</td>\n",
              "      <td>0.07</td>\n",
              "      <td>0.00</td>\n",
              "      <td>0.94</td>\n",
              "      <td>0.21</td>\n",
              "      <td>0.79</td>\n",
              "      <td>0.65</td>\n",
              "      <td>0.21</td>\n",
              "      <td>0.14</td>\n",
              "      <td>0.14</td>\n",
              "      <td>0.07</td>\n",
              "      <td>0.28</td>\n",
              "      <td>3.47</td>\n",
              "      <td>0.00</td>\n",
              "      <td>1.59</td>\n",
              "      <td>0.0</td>\n",
              "      <td>0.43</td>\n",
              "      <td>0.43</td>\n",
              "      <td>0.0</td>\n",
              "      <td>0.0</td>\n",
              "      <td>0.0</td>\n",
              "      <td>0.0</td>\n",
              "      <td>0.0</td>\n",
              "      <td>0.0</td>\n",
              "      <td>0.0</td>\n",
              "      <td>0.0</td>\n",
              "      <td>0.0</td>\n",
              "      <td>0.0</td>\n",
              "      <td>0.0</td>\n",
              "      <td>0.0</td>\n",
              "      <td>0.07</td>\n",
              "      <td>0.0</td>\n",
              "      <td>0.0</td>\n",
              "      <td>0.00</td>\n",
              "      <td>0.0</td>\n",
              "      <td>0.0</td>\n",
              "      <td>0.00</td>\n",
              "      <td>0.0</td>\n",
              "      <td>0.00</td>\n",
              "      <td>0.00</td>\n",
              "      <td>0.0</td>\n",
              "      <td>0.0</td>\n",
              "      <td>0.00</td>\n",
              "      <td>0.132</td>\n",
              "      <td>0.0</td>\n",
              "      <td>0.372</td>\n",
              "      <td>0.180</td>\n",
              "      <td>0.048</td>\n",
              "      <td>5.114</td>\n",
              "      <td>101</td>\n",
              "      <td>1028</td>\n",
              "      <td>1</td>\n",
              "    </tr>\n",
              "    <tr>\n",
              "      <th>1</th>\n",
              "      <td>0.06</td>\n",
              "      <td>0.00</td>\n",
              "      <td>0.71</td>\n",
              "      <td>0.0</td>\n",
              "      <td>1.23</td>\n",
              "      <td>0.19</td>\n",
              "      <td>0.19</td>\n",
              "      <td>0.12</td>\n",
              "      <td>0.64</td>\n",
              "      <td>0.25</td>\n",
              "      <td>0.38</td>\n",
              "      <td>0.45</td>\n",
              "      <td>0.12</td>\n",
              "      <td>0.00</td>\n",
              "      <td>1.75</td>\n",
              "      <td>0.06</td>\n",
              "      <td>0.06</td>\n",
              "      <td>1.03</td>\n",
              "      <td>1.36</td>\n",
              "      <td>0.32</td>\n",
              "      <td>0.51</td>\n",
              "      <td>0.0</td>\n",
              "      <td>1.16</td>\n",
              "      <td>0.06</td>\n",
              "      <td>0.0</td>\n",
              "      <td>0.0</td>\n",
              "      <td>0.0</td>\n",
              "      <td>0.0</td>\n",
              "      <td>0.0</td>\n",
              "      <td>0.0</td>\n",
              "      <td>0.0</td>\n",
              "      <td>0.0</td>\n",
              "      <td>0.0</td>\n",
              "      <td>0.0</td>\n",
              "      <td>0.0</td>\n",
              "      <td>0.0</td>\n",
              "      <td>0.00</td>\n",
              "      <td>0.0</td>\n",
              "      <td>0.0</td>\n",
              "      <td>0.06</td>\n",
              "      <td>0.0</td>\n",
              "      <td>0.0</td>\n",
              "      <td>0.12</td>\n",
              "      <td>0.0</td>\n",
              "      <td>0.06</td>\n",
              "      <td>0.06</td>\n",
              "      <td>0.0</td>\n",
              "      <td>0.0</td>\n",
              "      <td>0.01</td>\n",
              "      <td>0.143</td>\n",
              "      <td>0.0</td>\n",
              "      <td>0.276</td>\n",
              "      <td>0.184</td>\n",
              "      <td>0.010</td>\n",
              "      <td>9.821</td>\n",
              "      <td>485</td>\n",
              "      <td>2259</td>\n",
              "      <td>1</td>\n",
              "    </tr>\n",
              "    <tr>\n",
              "      <th>2</th>\n",
              "      <td>0.00</td>\n",
              "      <td>0.00</td>\n",
              "      <td>0.00</td>\n",
              "      <td>0.0</td>\n",
              "      <td>0.63</td>\n",
              "      <td>0.00</td>\n",
              "      <td>0.31</td>\n",
              "      <td>0.63</td>\n",
              "      <td>0.31</td>\n",
              "      <td>0.63</td>\n",
              "      <td>0.31</td>\n",
              "      <td>0.31</td>\n",
              "      <td>0.31</td>\n",
              "      <td>0.00</td>\n",
              "      <td>0.00</td>\n",
              "      <td>0.31</td>\n",
              "      <td>0.00</td>\n",
              "      <td>0.00</td>\n",
              "      <td>3.18</td>\n",
              "      <td>0.00</td>\n",
              "      <td>0.31</td>\n",
              "      <td>0.0</td>\n",
              "      <td>0.00</td>\n",
              "      <td>0.00</td>\n",
              "      <td>0.0</td>\n",
              "      <td>0.0</td>\n",
              "      <td>0.0</td>\n",
              "      <td>0.0</td>\n",
              "      <td>0.0</td>\n",
              "      <td>0.0</td>\n",
              "      <td>0.0</td>\n",
              "      <td>0.0</td>\n",
              "      <td>0.0</td>\n",
              "      <td>0.0</td>\n",
              "      <td>0.0</td>\n",
              "      <td>0.0</td>\n",
              "      <td>0.00</td>\n",
              "      <td>0.0</td>\n",
              "      <td>0.0</td>\n",
              "      <td>0.00</td>\n",
              "      <td>0.0</td>\n",
              "      <td>0.0</td>\n",
              "      <td>0.00</td>\n",
              "      <td>0.0</td>\n",
              "      <td>0.00</td>\n",
              "      <td>0.00</td>\n",
              "      <td>0.0</td>\n",
              "      <td>0.0</td>\n",
              "      <td>0.00</td>\n",
              "      <td>0.137</td>\n",
              "      <td>0.0</td>\n",
              "      <td>0.137</td>\n",
              "      <td>0.000</td>\n",
              "      <td>0.000</td>\n",
              "      <td>3.537</td>\n",
              "      <td>40</td>\n",
              "      <td>191</td>\n",
              "      <td>1</td>\n",
              "    </tr>\n",
              "    <tr>\n",
              "      <th>3</th>\n",
              "      <td>0.00</td>\n",
              "      <td>0.00</td>\n",
              "      <td>0.00</td>\n",
              "      <td>0.0</td>\n",
              "      <td>0.63</td>\n",
              "      <td>0.00</td>\n",
              "      <td>0.31</td>\n",
              "      <td>0.63</td>\n",
              "      <td>0.31</td>\n",
              "      <td>0.63</td>\n",
              "      <td>0.31</td>\n",
              "      <td>0.31</td>\n",
              "      <td>0.31</td>\n",
              "      <td>0.00</td>\n",
              "      <td>0.00</td>\n",
              "      <td>0.31</td>\n",
              "      <td>0.00</td>\n",
              "      <td>0.00</td>\n",
              "      <td>3.18</td>\n",
              "      <td>0.00</td>\n",
              "      <td>0.31</td>\n",
              "      <td>0.0</td>\n",
              "      <td>0.00</td>\n",
              "      <td>0.00</td>\n",
              "      <td>0.0</td>\n",
              "      <td>0.0</td>\n",
              "      <td>0.0</td>\n",
              "      <td>0.0</td>\n",
              "      <td>0.0</td>\n",
              "      <td>0.0</td>\n",
              "      <td>0.0</td>\n",
              "      <td>0.0</td>\n",
              "      <td>0.0</td>\n",
              "      <td>0.0</td>\n",
              "      <td>0.0</td>\n",
              "      <td>0.0</td>\n",
              "      <td>0.00</td>\n",
              "      <td>0.0</td>\n",
              "      <td>0.0</td>\n",
              "      <td>0.00</td>\n",
              "      <td>0.0</td>\n",
              "      <td>0.0</td>\n",
              "      <td>0.00</td>\n",
              "      <td>0.0</td>\n",
              "      <td>0.00</td>\n",
              "      <td>0.00</td>\n",
              "      <td>0.0</td>\n",
              "      <td>0.0</td>\n",
              "      <td>0.00</td>\n",
              "      <td>0.135</td>\n",
              "      <td>0.0</td>\n",
              "      <td>0.135</td>\n",
              "      <td>0.000</td>\n",
              "      <td>0.000</td>\n",
              "      <td>3.537</td>\n",
              "      <td>40</td>\n",
              "      <td>191</td>\n",
              "      <td>1</td>\n",
              "    </tr>\n",
              "    <tr>\n",
              "      <th>4</th>\n",
              "      <td>0.00</td>\n",
              "      <td>0.00</td>\n",
              "      <td>0.00</td>\n",
              "      <td>0.0</td>\n",
              "      <td>1.85</td>\n",
              "      <td>0.00</td>\n",
              "      <td>0.00</td>\n",
              "      <td>1.85</td>\n",
              "      <td>0.00</td>\n",
              "      <td>0.00</td>\n",
              "      <td>0.00</td>\n",
              "      <td>0.00</td>\n",
              "      <td>0.00</td>\n",
              "      <td>0.00</td>\n",
              "      <td>0.00</td>\n",
              "      <td>0.00</td>\n",
              "      <td>0.00</td>\n",
              "      <td>0.00</td>\n",
              "      <td>0.00</td>\n",
              "      <td>0.00</td>\n",
              "      <td>0.00</td>\n",
              "      <td>0.0</td>\n",
              "      <td>0.00</td>\n",
              "      <td>0.00</td>\n",
              "      <td>0.0</td>\n",
              "      <td>0.0</td>\n",
              "      <td>0.0</td>\n",
              "      <td>0.0</td>\n",
              "      <td>0.0</td>\n",
              "      <td>0.0</td>\n",
              "      <td>0.0</td>\n",
              "      <td>0.0</td>\n",
              "      <td>0.0</td>\n",
              "      <td>0.0</td>\n",
              "      <td>0.0</td>\n",
              "      <td>0.0</td>\n",
              "      <td>0.00</td>\n",
              "      <td>0.0</td>\n",
              "      <td>0.0</td>\n",
              "      <td>0.00</td>\n",
              "      <td>0.0</td>\n",
              "      <td>0.0</td>\n",
              "      <td>0.00</td>\n",
              "      <td>0.0</td>\n",
              "      <td>0.00</td>\n",
              "      <td>0.00</td>\n",
              "      <td>0.0</td>\n",
              "      <td>0.0</td>\n",
              "      <td>0.00</td>\n",
              "      <td>0.223</td>\n",
              "      <td>0.0</td>\n",
              "      <td>0.000</td>\n",
              "      <td>0.000</td>\n",
              "      <td>0.000</td>\n",
              "      <td>3.000</td>\n",
              "      <td>15</td>\n",
              "      <td>54</td>\n",
              "      <td>1</td>\n",
              "    </tr>\n",
              "  </tbody>\n",
              "</table>\n",
              "</div>"
            ],
            "text/plain": [
              "      0  0.64  0.64.1  0.1  0.32   0.2  ...   0.43   0.44  3.756   61   278  1\n",
              "0  0.21  0.28    0.50  0.0  0.14  0.28  ...  0.180  0.048  5.114  101  1028  1\n",
              "1  0.06  0.00    0.71  0.0  1.23  0.19  ...  0.184  0.010  9.821  485  2259  1\n",
              "2  0.00  0.00    0.00  0.0  0.63  0.00  ...  0.000  0.000  3.537   40   191  1\n",
              "3  0.00  0.00    0.00  0.0  0.63  0.00  ...  0.000  0.000  3.537   40   191  1\n",
              "4  0.00  0.00    0.00  0.0  1.85  0.00  ...  0.000  0.000  3.000   15    54  1\n",
              "\n",
              "[5 rows x 58 columns]"
            ]
          },
          "metadata": {
            "tags": []
          },
          "execution_count": 4
        }
      ]
    },
    {
      "cell_type": "code",
      "metadata": {
        "id": "C3LsMhdlKTsU",
        "colab_type": "code",
        "colab": {
          "base_uri": "https://localhost:8080/",
          "height": 88
        },
        "outputId": "6716e7f1-00b5-4f66-8489-5a2408483a83"
      },
      "source": [
        "# checking for the number of records in the dataset\n",
        "print(titanic.shape)\n",
        "print('*'*200)\n",
        "spambase.shape"
      ],
      "execution_count": 5,
      "outputs": [
        {
          "output_type": "stream",
          "text": [
            "(891, 12)\n",
            "********************************************************************************************************************************************************************************************************\n"
          ],
          "name": "stdout"
        },
        {
          "output_type": "execute_result",
          "data": {
            "text/plain": [
              "(4600, 58)"
            ]
          },
          "metadata": {
            "tags": []
          },
          "execution_count": 5
        }
      ]
    },
    {
      "cell_type": "markdown",
      "metadata": {
        "id": "q-aromBHKhkb",
        "colab_type": "text"
      },
      "source": [
        "\n",
        "\n",
        "*   there are 891 rows and 12 labels in the titanic database\n",
        "*   there are 4600 rows and 58 labels\n",
        "\n"
      ]
    },
    {
      "cell_type": "code",
      "metadata": {
        "id": "Im6dVve0K1kk",
        "colab_type": "code",
        "colab": {
          "base_uri": "https://localhost:8080/",
          "height": 1000
        },
        "outputId": "ec8b8388-d8fc-4791-966c-92ee1ddee656"
      },
      "source": [
        "# checking for the infomation about the datasets\n",
        "print(titanic.info())\n",
        "print('*'*200)\n",
        "spambase.info()"
      ],
      "execution_count": 6,
      "outputs": [
        {
          "output_type": "stream",
          "text": [
            "<class 'pandas.core.frame.DataFrame'>\n",
            "RangeIndex: 891 entries, 0 to 890\n",
            "Data columns (total 12 columns):\n",
            "PassengerId    891 non-null int64\n",
            "Survived       891 non-null int64\n",
            "Pclass         891 non-null int64\n",
            "Name           891 non-null object\n",
            "Sex            891 non-null object\n",
            "Age            714 non-null float64\n",
            "SibSp          891 non-null int64\n",
            "Parch          891 non-null int64\n",
            "Ticket         891 non-null object\n",
            "Fare           891 non-null float64\n",
            "Cabin          204 non-null object\n",
            "Embarked       889 non-null object\n",
            "dtypes: float64(2), int64(5), object(5)\n",
            "memory usage: 83.7+ KB\n",
            "None\n",
            "********************************************************************************************************************************************************************************************************\n",
            "<class 'pandas.core.frame.DataFrame'>\n",
            "RangeIndex: 4600 entries, 0 to 4599\n",
            "Data columns (total 58 columns):\n",
            "0         4600 non-null float64\n",
            "0.64      4600 non-null float64\n",
            "0.64.1    4600 non-null float64\n",
            "0.1       4600 non-null float64\n",
            "0.32      4600 non-null float64\n",
            "0.2       4600 non-null float64\n",
            "0.3       4600 non-null float64\n",
            "0.4       4600 non-null float64\n",
            "0.5       4600 non-null float64\n",
            "0.6       4600 non-null float64\n",
            "0.7       4600 non-null float64\n",
            "0.64.2    4600 non-null float64\n",
            "0.8       4600 non-null float64\n",
            "0.9       4600 non-null float64\n",
            "0.10      4600 non-null float64\n",
            "0.32.1    4600 non-null float64\n",
            "0.11      4600 non-null float64\n",
            "1.29      4600 non-null float64\n",
            "1.93      4600 non-null float64\n",
            "0.12      4600 non-null float64\n",
            "0.96      4600 non-null float64\n",
            "0.13      4600 non-null float64\n",
            "0.14      4600 non-null float64\n",
            "0.15      4600 non-null float64\n",
            "0.16      4600 non-null float64\n",
            "0.17      4600 non-null float64\n",
            "0.18      4600 non-null float64\n",
            "0.19      4600 non-null float64\n",
            "0.20      4600 non-null float64\n",
            "0.21      4600 non-null float64\n",
            "0.22      4600 non-null float64\n",
            "0.23      4600 non-null float64\n",
            "0.24      4600 non-null float64\n",
            "0.25      4600 non-null float64\n",
            "0.26      4600 non-null float64\n",
            "0.27      4600 non-null float64\n",
            "0.28      4600 non-null float64\n",
            "0.29      4600 non-null float64\n",
            "0.30      4600 non-null float64\n",
            "0.31      4600 non-null float64\n",
            "0.32.2    4600 non-null float64\n",
            "0.33      4600 non-null float64\n",
            "0.34      4600 non-null float64\n",
            "0.35      4600 non-null float64\n",
            "0.36      4600 non-null float64\n",
            "0.37      4600 non-null float64\n",
            "0.38      4600 non-null float64\n",
            "0.39      4600 non-null float64\n",
            "0.40      4600 non-null float64\n",
            "0.41      4600 non-null float64\n",
            "0.42      4600 non-null float64\n",
            "0.778     4600 non-null float64\n",
            "0.43      4600 non-null float64\n",
            "0.44      4600 non-null float64\n",
            "3.756     4600 non-null float64\n",
            "61        4600 non-null int64\n",
            "278       4600 non-null int64\n",
            "1         4600 non-null int64\n",
            "dtypes: float64(55), int64(3)\n",
            "memory usage: 2.0 MB\n"
          ],
          "name": "stdout"
        }
      ]
    },
    {
      "cell_type": "markdown",
      "metadata": {
        "id": "rD_paBLXLI0v",
        "colab_type": "text"
      },
      "source": [
        "\n",
        "*   there are 7 numerical datapoints and 5 categorical datapoints in titanic datasets\n",
        "\n",
        "*   all of the datapoints in the spambase dataset are numerical, that is 58 datapoints\n",
        "\n"
      ]
    },
    {
      "cell_type": "code",
      "metadata": {
        "id": "T9WcSd9XMH62",
        "colab_type": "code",
        "colab": {
          "base_uri": "https://localhost:8080/",
          "height": 241
        },
        "outputId": "a7775db6-ff62-4b0e-ca5d-35045c00bc1d"
      },
      "source": [
        "# checking the column names\n",
        "print('titanic columns: ',titanic.columns)\n",
        "print('*'*200)\n",
        "print('spambase columns: ', spambase.columns)"
      ],
      "execution_count": 7,
      "outputs": [
        {
          "output_type": "stream",
          "text": [
            "titanic columns:  Index(['PassengerId', 'Survived', 'Pclass', 'Name', 'Sex', 'Age', 'SibSp',\n",
            "       'Parch', 'Ticket', 'Fare', 'Cabin', 'Embarked'],\n",
            "      dtype='object')\n",
            "********************************************************************************************************************************************************************************************************\n",
            "spambase columns:  Index(['0', '0.64', '0.64.1', '0.1', '0.32', '0.2', '0.3', '0.4', '0.5', '0.6',\n",
            "       '0.7', '0.64.2', '0.8', '0.9', '0.10', '0.32.1', '0.11', '1.29', '1.93',\n",
            "       '0.12', '0.96', '0.13', '0.14', '0.15', '0.16', '0.17', '0.18', '0.19',\n",
            "       '0.20', '0.21', '0.22', '0.23', '0.24', '0.25', '0.26', '0.27', '0.28',\n",
            "       '0.29', '0.30', '0.31', '0.32.2', '0.33', '0.34', '0.35', '0.36',\n",
            "       '0.37', '0.38', '0.39', '0.40', '0.41', '0.42', '0.778', '0.43', '0.44',\n",
            "       '3.756', '61', '278', '1'],\n",
            "      dtype='object')\n"
          ],
          "name": "stdout"
        }
      ]
    },
    {
      "cell_type": "markdown",
      "metadata": {
        "id": "GATT40ocM6vq",
        "colab_type": "text"
      },
      "source": [
        "the titanic dataset has unstandardised naming. feature engineering should be done so as to get uniform column names "
      ]
    },
    {
      "cell_type": "markdown",
      "metadata": {
        "id": "FlBMxEDBUc9B",
        "colab_type": "text"
      },
      "source": [
        "## 5. Feature Engineering"
      ]
    },
    {
      "cell_type": "code",
      "metadata": {
        "id": "KeHfQY_1NQG0",
        "colab_type": "code",
        "colab": {}
      },
      "source": [
        "# standardising the column names\n",
        "titanic.columns = titanic.columns.str.lower()"
      ],
      "execution_count": 0,
      "outputs": []
    },
    {
      "cell_type": "markdown",
      "metadata": {
        "id": "rLDEH2ePRTsN",
        "colab_type": "text"
      },
      "source": [
        "we are going to remove some feature that are unnecessary in the titanic dataset"
      ]
    },
    {
      "cell_type": "code",
      "metadata": {
        "id": "BTMKxgjLRfhd",
        "colab_type": "code",
        "colab": {
          "base_uri": "https://localhost:8080/",
          "height": 204
        },
        "outputId": "9b871e5f-191b-4d17-852c-056a19b9ebb7"
      },
      "source": [
        "titanic.head()"
      ],
      "execution_count": 9,
      "outputs": [
        {
          "output_type": "execute_result",
          "data": {
            "text/html": [
              "<div>\n",
              "<style scoped>\n",
              "    .dataframe tbody tr th:only-of-type {\n",
              "        vertical-align: middle;\n",
              "    }\n",
              "\n",
              "    .dataframe tbody tr th {\n",
              "        vertical-align: top;\n",
              "    }\n",
              "\n",
              "    .dataframe thead th {\n",
              "        text-align: right;\n",
              "    }\n",
              "</style>\n",
              "<table border=\"1\" class=\"dataframe\">\n",
              "  <thead>\n",
              "    <tr style=\"text-align: right;\">\n",
              "      <th></th>\n",
              "      <th>passengerid</th>\n",
              "      <th>survived</th>\n",
              "      <th>pclass</th>\n",
              "      <th>name</th>\n",
              "      <th>sex</th>\n",
              "      <th>age</th>\n",
              "      <th>sibsp</th>\n",
              "      <th>parch</th>\n",
              "      <th>ticket</th>\n",
              "      <th>fare</th>\n",
              "      <th>cabin</th>\n",
              "      <th>embarked</th>\n",
              "    </tr>\n",
              "  </thead>\n",
              "  <tbody>\n",
              "    <tr>\n",
              "      <th>0</th>\n",
              "      <td>1</td>\n",
              "      <td>0</td>\n",
              "      <td>3</td>\n",
              "      <td>Braund, Mr. Owen Harris</td>\n",
              "      <td>male</td>\n",
              "      <td>22.0</td>\n",
              "      <td>1</td>\n",
              "      <td>0</td>\n",
              "      <td>A/5 21171</td>\n",
              "      <td>7.2500</td>\n",
              "      <td>NaN</td>\n",
              "      <td>S</td>\n",
              "    </tr>\n",
              "    <tr>\n",
              "      <th>1</th>\n",
              "      <td>2</td>\n",
              "      <td>1</td>\n",
              "      <td>1</td>\n",
              "      <td>Cumings, Mrs. John Bradley (Florence Briggs Th...</td>\n",
              "      <td>female</td>\n",
              "      <td>38.0</td>\n",
              "      <td>1</td>\n",
              "      <td>0</td>\n",
              "      <td>PC 17599</td>\n",
              "      <td>71.2833</td>\n",
              "      <td>C85</td>\n",
              "      <td>C</td>\n",
              "    </tr>\n",
              "    <tr>\n",
              "      <th>2</th>\n",
              "      <td>3</td>\n",
              "      <td>1</td>\n",
              "      <td>3</td>\n",
              "      <td>Heikkinen, Miss. Laina</td>\n",
              "      <td>female</td>\n",
              "      <td>26.0</td>\n",
              "      <td>0</td>\n",
              "      <td>0</td>\n",
              "      <td>STON/O2. 3101282</td>\n",
              "      <td>7.9250</td>\n",
              "      <td>NaN</td>\n",
              "      <td>S</td>\n",
              "    </tr>\n",
              "    <tr>\n",
              "      <th>3</th>\n",
              "      <td>4</td>\n",
              "      <td>1</td>\n",
              "      <td>1</td>\n",
              "      <td>Futrelle, Mrs. Jacques Heath (Lily May Peel)</td>\n",
              "      <td>female</td>\n",
              "      <td>35.0</td>\n",
              "      <td>1</td>\n",
              "      <td>0</td>\n",
              "      <td>113803</td>\n",
              "      <td>53.1000</td>\n",
              "      <td>C123</td>\n",
              "      <td>S</td>\n",
              "    </tr>\n",
              "    <tr>\n",
              "      <th>4</th>\n",
              "      <td>5</td>\n",
              "      <td>0</td>\n",
              "      <td>3</td>\n",
              "      <td>Allen, Mr. William Henry</td>\n",
              "      <td>male</td>\n",
              "      <td>35.0</td>\n",
              "      <td>0</td>\n",
              "      <td>0</td>\n",
              "      <td>373450</td>\n",
              "      <td>8.0500</td>\n",
              "      <td>NaN</td>\n",
              "      <td>S</td>\n",
              "    </tr>\n",
              "  </tbody>\n",
              "</table>\n",
              "</div>"
            ],
            "text/plain": [
              "   passengerid  survived  pclass  ...     fare cabin  embarked\n",
              "0            1         0       3  ...   7.2500   NaN         S\n",
              "1            2         1       1  ...  71.2833   C85         C\n",
              "2            3         1       3  ...   7.9250   NaN         S\n",
              "3            4         1       1  ...  53.1000  C123         S\n",
              "4            5         0       3  ...   8.0500   NaN         S\n",
              "\n",
              "[5 rows x 12 columns]"
            ]
          },
          "metadata": {
            "tags": []
          },
          "execution_count": 9
        }
      ]
    },
    {
      "cell_type": "code",
      "metadata": {
        "id": "UYRLxJtvRSrn",
        "colab_type": "code",
        "colab": {}
      },
      "source": [
        "titanic.drop(['passengerid', 'ticket', 'name'], 1, inplace=True)"
      ],
      "execution_count": 0,
      "outputs": []
    },
    {
      "cell_type": "code",
      "metadata": {
        "id": "0KcwPCZlQRVe",
        "colab_type": "code",
        "colab": {
          "base_uri": "https://localhost:8080/",
          "height": 88
        },
        "outputId": "d30e0311-5520-4ff7-bc71-4905072071df"
      },
      "source": [
        "# checking for missing values\n",
        "print(titanic.isnull().sum().sum())\n",
        "print('*'*200)\n",
        "spambase.isnull().sum().sum()\n"
      ],
      "execution_count": 11,
      "outputs": [
        {
          "output_type": "stream",
          "text": [
            "866\n",
            "********************************************************************************************************************************************************************************************************\n"
          ],
          "name": "stdout"
        },
        {
          "output_type": "execute_result",
          "data": {
            "text/plain": [
              "0"
            ]
          },
          "metadata": {
            "tags": []
          },
          "execution_count": 11
        }
      ]
    },
    {
      "cell_type": "markdown",
      "metadata": {
        "id": "JFBdk6nkQz6j",
        "colab_type": "text"
      },
      "source": [
        "there are 866 missing data values in the titanic dataset while spambase has none"
      ]
    },
    {
      "cell_type": "code",
      "metadata": {
        "id": "KOIXRuEvQ_ce",
        "colab_type": "code",
        "colab": {
          "base_uri": "https://localhost:8080/",
          "height": 187
        },
        "outputId": "86a88602-facb-4e26-eb21-e6c9dec9d17e"
      },
      "source": [
        "#focusing on the titanic dataset so that we can deal with the mising values\n",
        "titanic.isnull().sum()"
      ],
      "execution_count": 12,
      "outputs": [
        {
          "output_type": "execute_result",
          "data": {
            "text/plain": [
              "survived      0\n",
              "pclass        0\n",
              "sex           0\n",
              "age         177\n",
              "sibsp         0\n",
              "parch         0\n",
              "fare          0\n",
              "cabin       687\n",
              "embarked      2\n",
              "dtype: int64"
            ]
          },
          "metadata": {
            "tags": []
          },
          "execution_count": 12
        }
      ]
    },
    {
      "cell_type": "markdown",
      "metadata": {
        "id": "hjlEbH3tRNEa",
        "colab_type": "text"
      },
      "source": [
        "there are 117, 687 and 2 missing values in age, cabin and embarked features respectively"
      ]
    },
    {
      "cell_type": "code",
      "metadata": {
        "id": "X-Sc28nmSO_0",
        "colab_type": "code",
        "colab": {
          "base_uri": "https://localhost:8080/",
          "height": 51
        },
        "outputId": "18054fd1-4c61-4af1-f4bf-367eee973ac8"
      },
      "source": [
        "# we are going to fill the embarked feature with the most frequent data entry\n",
        "mode = titanic.embarked.mode()\n",
        "print (mode)\n",
        "\n",
        "titanic.embarked.fillna('S', inplace=True)"
      ],
      "execution_count": 13,
      "outputs": [
        {
          "output_type": "stream",
          "text": [
            "0    S\n",
            "dtype: object\n"
          ],
          "name": "stdout"
        }
      ]
    },
    {
      "cell_type": "markdown",
      "metadata": {
        "id": "PSp55ZU4SvLD",
        "colab_type": "text"
      },
      "source": [
        "we have filled embarked feature using the most frequent data entry"
      ]
    },
    {
      "cell_type": "code",
      "metadata": {
        "id": "MkHxW4itSsUR",
        "colab_type": "code",
        "colab": {}
      },
      "source": [
        "# for the cabin we are going to drop it\n",
        "titanic.drop('cabin', 1, inplace=True)"
      ],
      "execution_count": 0,
      "outputs": []
    },
    {
      "cell_type": "markdown",
      "metadata": {
        "id": "2YzTZeCrTGYL",
        "colab_type": "text"
      },
      "source": [
        "The reason behind this is that cabin has a lot of miising data, 687/891. this is more than 50% of the data."
      ]
    },
    {
      "cell_type": "code",
      "metadata": {
        "id": "k1mQU7BoTFxA",
        "colab_type": "code",
        "colab": {
          "base_uri": "https://localhost:8080/",
          "height": 34
        },
        "outputId": "c2fa0431-528e-483f-dd97-d45a9264bab2"
      },
      "source": [
        "# AGE\n",
        "# get the skewness of the feature\n",
        "titanic.age.skew()\n"
      ],
      "execution_count": 15,
      "outputs": [
        {
          "output_type": "execute_result",
          "data": {
            "text/plain": [
              "0.38910778230082704"
            ]
          },
          "metadata": {
            "tags": []
          },
          "execution_count": 15
        }
      ]
    },
    {
      "cell_type": "markdown",
      "metadata": {
        "id": "W8udxZIKZUeG",
        "colab_type": "text"
      },
      "source": [
        "the skew is positive. so we are going to fill it with the mean so that we can try and achieve symmetry "
      ]
    },
    {
      "cell_type": "code",
      "metadata": {
        "id": "oVIcyKyQZvXB",
        "colab_type": "code",
        "colab": {}
      },
      "source": [
        "titanic.age.fillna(titanic.age.median(),inplace= True)"
      ],
      "execution_count": 0,
      "outputs": []
    },
    {
      "cell_type": "code",
      "metadata": {
        "id": "sE7V2hweaCJJ",
        "colab_type": "code",
        "colab": {
          "base_uri": "https://localhost:8080/",
          "height": 170
        },
        "outputId": "00f6792c-4424-4a93-edef-346d53469a0d"
      },
      "source": [
        "# checking whether the null values have been dealt with successfully\n",
        "titanic.isnull().sum()"
      ],
      "execution_count": 17,
      "outputs": [
        {
          "output_type": "execute_result",
          "data": {
            "text/plain": [
              "survived    0\n",
              "pclass      0\n",
              "sex         0\n",
              "age         0\n",
              "sibsp       0\n",
              "parch       0\n",
              "fare        0\n",
              "embarked    0\n",
              "dtype: int64"
            ]
          },
          "metadata": {
            "tags": []
          },
          "execution_count": 17
        }
      ]
    },
    {
      "cell_type": "markdown",
      "metadata": {
        "id": "QimDhu6wbwW7",
        "colab_type": "text"
      },
      "source": [
        "all the missing data has been removed. Lets check for the duplicates"
      ]
    },
    {
      "cell_type": "code",
      "metadata": {
        "id": "oFjX-y9BbvKe",
        "colab_type": "code",
        "colab": {
          "base_uri": "https://localhost:8080/",
          "height": 88
        },
        "outputId": "e0a2d832-aca3-4698-eca8-207685c468f5"
      },
      "source": [
        "# duplicates\n",
        "print(titanic.duplicated().sum())\n",
        "print('*'*200)\n",
        "spambase.duplicated().sum()\n"
      ],
      "execution_count": 18,
      "outputs": [
        {
          "output_type": "stream",
          "text": [
            "116\n",
            "********************************************************************************************************************************************************************************************************\n"
          ],
          "name": "stdout"
        },
        {
          "output_type": "execute_result",
          "data": {
            "text/plain": [
              "391"
            ]
          },
          "metadata": {
            "tags": []
          },
          "execution_count": 18
        }
      ]
    },
    {
      "cell_type": "markdown",
      "metadata": {
        "id": "M0DCGhHkcQj4",
        "colab_type": "text"
      },
      "source": [
        "there are 111 and 391 duplicates in titanic and spambase datasets respectively"
      ]
    },
    {
      "cell_type": "code",
      "metadata": {
        "id": "jhe2noh-cjcb",
        "colab_type": "code",
        "colab": {}
      },
      "source": [
        "# droppping all the duplicates\n",
        "\n",
        "titanic.drop_duplicates(inplace=True)\n",
        "spambase.drop_duplicates(inplace=True)"
      ],
      "execution_count": 0,
      "outputs": []
    },
    {
      "cell_type": "code",
      "metadata": {
        "id": "dXAgJfKUcyTS",
        "colab_type": "code",
        "colab": {
          "base_uri": "https://localhost:8080/",
          "height": 88
        },
        "outputId": "b55d219d-0a0b-4d12-f4ee-abd44717351c"
      },
      "source": [
        "# checking whether all the duplicates have been dropped\n",
        "print(titanic.duplicated().sum())\n",
        "print('*'*200)\n",
        "spambase.duplicated().sum()\n"
      ],
      "execution_count": 20,
      "outputs": [
        {
          "output_type": "stream",
          "text": [
            "0\n",
            "********************************************************************************************************************************************************************************************************\n"
          ],
          "name": "stdout"
        },
        {
          "output_type": "execute_result",
          "data": {
            "text/plain": [
              "0"
            ]
          },
          "metadata": {
            "tags": []
          },
          "execution_count": 20
        }
      ]
    },
    {
      "cell_type": "markdown",
      "metadata": {
        "id": "_q0LGTcJdK6j",
        "colab_type": "text"
      },
      "source": [
        "all of the duplicated data has been dropped. now we can head on and do some label encoding"
      ]
    },
    {
      "cell_type": "code",
      "metadata": {
        "id": "btrSsewgfEm5",
        "colab_type": "code",
        "colab": {}
      },
      "source": [
        "# label encoding our data\n",
        "from sklearn.preprocessing import LabelEncoder as LE\n",
        "\n",
        "le = LE()\n",
        "\n",
        "titanic.sex = le.fit_transform(titanic.sex)\n",
        "titanic.embarked = le.fit_transform(titanic.embarked)"
      ],
      "execution_count": 0,
      "outputs": []
    },
    {
      "cell_type": "code",
      "metadata": {
        "id": "RBs5O8MUZwq1",
        "colab_type": "code",
        "colab": {}
      },
      "source": [
        ""
      ],
      "execution_count": 0,
      "outputs": []
    },
    {
      "cell_type": "markdown",
      "metadata": {
        "id": "rF2ABPsHUtbZ",
        "colab_type": "text"
      },
      "source": [
        "##**6.0 Exploratory Analysis - Titanic Dataset**"
      ]
    },
    {
      "cell_type": "markdown",
      "metadata": {
        "id": "lzraYlImU-ke",
        "colab_type": "text"
      },
      "source": [
        "# Univariate Analysis"
      ]
    },
    {
      "cell_type": "code",
      "metadata": {
        "id": "rF3FC90Pl7n5",
        "colab_type": "code",
        "colab": {
          "base_uri": "https://localhost:8080/",
          "height": 621
        },
        "outputId": "456f1be3-345b-4568-e04c-59e00d13a918"
      },
      "source": [
        "f, ax= plt.subplots(1,2, figsize=(15, 10))\n",
        "titanic.survived.value_counts().plot.pie(explode=[0, 0.1], autopct='%1.1f%%',ax=ax[0], shadow=True)\n",
        "ax[0].set_title('Survived')\n",
        "sns.countplot('survived', data=titanic)\n",
        "ax[1].set_title('Survived')\n",
        "plt.show()"
      ],
      "execution_count": 22,
      "outputs": [
        {
          "output_type": "display_data",
          "data": {
            "image/png": "[encoded data removed]",
            "text/plain": [
              "<Figure size 1080x720 with 2 Axes>"
            ]
          },
          "metadata": {
            "tags": []
          }
        }
      ]
    },
    {
      "cell_type": "markdown",
      "metadata": {
        "id": "XZVAt2LwpLwx",
        "colab_type": "text"
      },
      "source": [
        "the number of passengers who did not survive was more than those who did"
      ]
    },
    {
      "cell_type": "code",
      "metadata": {
        "id": "RIK89N6zphK6",
        "colab_type": "code",
        "colab": {
          "base_uri": "https://localhost:8080/",
          "height": 239
        },
        "outputId": "e6c32e0b-0ec6-4f7a-8469-b104c43ec5e7"
      },
      "source": [
        "fig = plt.figure(figsize=(14,2))\n",
        "sns.countplot(y='pclass', data=titanic)\n",
        "print(titanic.pclass.value_counts())"
      ],
      "execution_count": 23,
      "outputs": [
        {
          "output_type": "stream",
          "text": [
            "3    401\n",
            "1    210\n",
            "2    164\n",
            "Name: pclass, dtype: int64\n"
          ],
          "name": "stdout"
        },
        {
          "output_type": "display_data",
          "data": {
            "image/png": "[encoded data removed]",
            "text/plain": [
              "<Figure size 1008x144 with 1 Axes>"
            ]
          },
          "metadata": {
            "tags": []
          }
        }
      ]
    },
    {
      "cell_type": "markdown",
      "metadata": {
        "id": "661JR5kMskZA",
        "colab_type": "text"
      },
      "source": [
        "most of the passengers who were on board were in class 3"
      ]
    },
    {
      "cell_type": "code",
      "metadata": {
        "id": "SzdQivEmsus4",
        "colab_type": "code",
        "colab": {
          "base_uri": "https://localhost:8080/",
          "height": 427
        },
        "outputId": "aab3afd1-b459-462a-d3c9-e21e8f112515"
      },
      "source": [
        "fig = plt.figure(figsize=(20,7))\n",
        "titanic.sex.value_counts().plot.pie(explode=[0, 0.1], autopct='%1.1f%%', shadow=True)\n",
        "plt.title('SEX')\n",
        "plt.show()"
      ],
      "execution_count": 24,
      "outputs": [
        {
          "output_type": "display_data",
          "data": {
            "image/png": "[encoded data removed]",
            "text/plain": [
              "<Figure size 1440x504 with 1 Axes>"
            ]
          },
          "metadata": {
            "tags": []
          }
        }
      ]
    },
    {
      "cell_type": "markdown",
      "metadata": {
        "id": "nr1epFA6tzwZ",
        "colab_type": "text"
      },
      "source": [
        "male was labelled as 1, therefore the males who were on board the titanic were more than females."
      ]
    },
    {
      "cell_type": "code",
      "metadata": {
        "id": "Qk0-FDlsvQ-R",
        "colab_type": "code",
        "colab": {
          "base_uri": "https://localhost:8080/",
          "height": 458
        },
        "outputId": "25880c90-60a3-4cae-c648-d5d2a3c1c866"
      },
      "source": [
        "plt.figure(figsize=(15,7))\n",
        "sns.distplot(titanic.age)\n",
        "plt.title('Age')\n",
        "plt.xlabel('Age')\n",
        "plt.ylabel('Count')\n",
        "plt.show()"
      ],
      "execution_count": 25,
      "outputs": [
        {
          "output_type": "display_data",
          "data": {
            "image/png": "[encoded data removed]",
            "text/plain": [
              "<Figure size 1080x504 with 1 Axes>"
            ]
          },
          "metadata": {
            "tags": []
          }
        }
      ]
    },
    {
      "cell_type": "markdown",
      "metadata": {
        "id": "rtHPzeWO0YcK",
        "colab_type": "text"
      },
      "source": [
        "Most of the data is distributed between 20 and 40"
      ]
    },
    {
      "cell_type": "code",
      "metadata": {
        "id": "vhDYy8C70gNV",
        "colab_type": "code",
        "colab": {
          "base_uri": "https://localhost:8080/",
          "height": 452
        },
        "outputId": "df473f5a-6da4-4472-bdc9-d982e42e7610"
      },
      "source": [
        "plt.figure(figsize=(10,5))\n",
        "titanic.sibsp.value_counts().plot.bar()\n",
        "print(titanic.sibsp.value_counts())\n",
        "plt.show()"
      ],
      "execution_count": 26,
      "outputs": [
        {
          "output_type": "stream",
          "text": [
            "0    508\n",
            "1    201\n",
            "2     27\n",
            "4     18\n",
            "3     14\n",
            "5      5\n",
            "8      2\n",
            "Name: sibsp, dtype: int64\n"
          ],
          "name": "stdout"
        },
        {
          "output_type": "display_data",
          "data": {
            "image/png": "[encoded data removed]",
            "text/plain": [
              "<Figure size 720x360 with 1 Axes>"
            ]
          },
          "metadata": {
            "tags": []
          }
        }
      ]
    },
    {
      "cell_type": "markdown",
      "metadata": {
        "id": "p1QbWs182Wac",
        "colab_type": "text"
      },
      "source": [
        "most of the passengers neither had a spouse nor a sibling."
      ]
    },
    {
      "cell_type": "code",
      "metadata": {
        "id": "R31x9Ntl3BGI",
        "colab_type": "code",
        "colab": {
          "base_uri": "https://localhost:8080/",
          "height": 334
        },
        "outputId": "77ce896e-6a10-4a97-edb0-b447441dc7cb"
      },
      "source": [
        "plt.figure(figsize=(15,5))\n",
        "sns.distplot(titanic.fare)\n",
        "plt.xlabel('fare')\n",
        "plt.ylabel('count')\n",
        "plt.show()"
      ],
      "execution_count": 27,
      "outputs": [
        {
          "output_type": "display_data",
          "data": {
            "image/png": "[encoded data removed]",
            "text/plain": [
              "<Figure size 1080x360 with 1 Axes>"
            ]
          },
          "metadata": {
            "tags": []
          }
        }
      ]
    },
    {
      "cell_type": "markdown",
      "metadata": {
        "id": "smf_pVui3g1R",
        "colab_type": "text"
      },
      "source": [
        "most of the fare is distributed between 0 and 50"
      ]
    },
    {
      "cell_type": "code",
      "metadata": {
        "id": "6Tq-4Vfh2p9z",
        "colab_type": "code",
        "colab": {
          "base_uri": "https://localhost:8080/",
          "height": 427
        },
        "outputId": "cbbf5363-ab22-400a-d675-7ec705c529c6"
      },
      "source": [
        "plt.figure(figsize=(15,7))\n",
        "titanic.embarked.value_counts().plot.pie(explode=[0,0,0.2], autopct='%1.1f%%', shadow=True)\n",
        "plt.title('Embarked')\n",
        "plt.show()"
      ],
      "execution_count": 28,
      "outputs": [
        {
          "output_type": "display_data",
          "data": {
            "image/png": "[encoded data removed]",
            "text/plain": [
              "<Figure size 1080x504 with 1 Axes>"
            ]
          },
          "metadata": {
            "tags": []
          }
        }
      ]
    },
    {
      "cell_type": "markdown",
      "metadata": {
        "id": "j-Z9ljlRPYSb",
        "colab_type": "text"
      },
      "source": [
        "most of the passengers who boarded the ship was at 2, which is southampton"
      ]
    },
    {
      "cell_type": "markdown",
      "metadata": {
        "id": "Ls370kPU3Cty",
        "colab_type": "text"
      },
      "source": [
        ""
      ]
    },
    {
      "cell_type": "markdown",
      "metadata": {
        "id": "gaglpA9k8BK4",
        "colab_type": "text"
      },
      "source": [
        "**Bivariate Analysis**- Titanic\n",
        "\n"
      ]
    },
    {
      "cell_type": "code",
      "metadata": {
        "id": "gnOuFTED88g3",
        "colab_type": "code",
        "colab": {
          "base_uri": "https://localhost:8080/",
          "height": 489
        },
        "outputId": "15ad0d92-295e-4ce0-ac1f-170db1230125"
      },
      "source": [
        "ship = titanic.corr()\n",
        "mask = np.zeros_like(ship)\n",
        "mask[np.triu_indices_from(mask)] = True\n",
        "plt.figure(figsize=(10,8))\n",
        "sns.heatmap(ship, mask=mask, annot=True, linewidths=0.2, annot_kws={'size':10})\n",
        "plt.show()"
      ],
      "execution_count": 29,
      "outputs": [
        {
          "output_type": "display_data",
          "data": {
            "image/png": "[encoded data removed]",
            "text/plain": [
              "<Figure size 720x576 with 2 Axes>"
            ]
          },
          "metadata": {
            "tags": []
          }
        }
      ]
    },
    {
      "cell_type": "markdown",
      "metadata": {
        "id": "RwoOJNJ_-HSW",
        "colab_type": "text"
      },
      "source": [
        "all of the features have a week corelation with the dependant variable, survived "
      ]
    },
    {
      "cell_type": "code",
      "metadata": {
        "id": "lP1qLQH3DKeG",
        "colab_type": "code",
        "colab": {
          "base_uri": "https://localhost:8080/",
          "height": 334
        },
        "outputId": "14d57afc-5de9-4380-daf8-1829ae57232b"
      },
      "source": [
        "plt.figure(figsize=(15,5))\n",
        "sns.countplot('pclass', hue='survived', data=titanic)\n",
        "plt.show()"
      ],
      "execution_count": 30,
      "outputs": [
        {
          "output_type": "display_data",
          "data": {
            "image/png": "[encoded data removed]",
            "text/plain": [
              "<Figure size 1080x360 with 1 Axes>"
            ]
          },
          "metadata": {
            "tags": []
          }
        }
      ]
    },
    {
      "cell_type": "markdown",
      "metadata": {
        "id": "OvqNA2ibD025",
        "colab_type": "text"
      },
      "source": [
        "\n",
        "\n",
        "\n",
        "*   most of the passengers in third class did not survive\n",
        "*   most of the passengers in the first class survived\n",
        "*   there was equality in terms of servival in second class\n",
        "\n",
        "\n",
        "\n",
        "\n",
        "\n"
      ]
    },
    {
      "cell_type": "code",
      "metadata": {
        "id": "E-MYL6vpDygO",
        "colab_type": "code",
        "colab": {
          "base_uri": "https://localhost:8080/",
          "height": 350
        },
        "outputId": "f99013c1-9b74-4aad-e4cd-addef7bdf1f5"
      },
      "source": [
        "plt.figure(figsize=(15,5))\n",
        "sns.countplot('sex', hue='survived', data=titanic)\n",
        "plt.title('gender vs survival')\n",
        "plt.show()"
      ],
      "execution_count": 31,
      "outputs": [
        {
          "output_type": "display_data",
          "data": {
            "image/png": "[encoded data removed]",
            "text/plain": [
              "<Figure size 1080x360 with 1 Axes>"
            ]
          },
          "metadata": {
            "tags": []
          }
        }
      ]
    },
    {
      "cell_type": "markdown",
      "metadata": {
        "id": "nIP0Gh-uFt-z",
        "colab_type": "text"
      },
      "source": [
        "\n",
        "\n",
        "\n",
        "*   more males survied than those who did not.\n",
        "*   more females did not survive compared to those who did.\n",
        "\n"
      ]
    },
    {
      "cell_type": "code",
      "metadata": {
        "id": "faJsh6UKHLHa",
        "colab_type": "code",
        "colab": {
          "base_uri": "https://localhost:8080/",
          "height": 373
        },
        "outputId": "9a4cb54d-71ac-4e53-c29c-c8d077d668b0"
      },
      "source": [
        "plt.figure(figsize=(15,5))\n",
        "ax = sns.kdeplot(titanic.loc[(titanic['survived'] == 0), 'age'], color = 'gray', shade=True, label='not survived')\n",
        "ax = sns.kdeplot(titanic.loc[(titanic['survived'] == 1), 'age'], color = 'g', shade=True, label='survived')\n",
        "plt.title('Age Distribution - Survivor vs Non-survivor', fontsize=15)\n",
        "plt.xlabel('Age', fontsize=15, labelpad=20)\n",
        "plt.ylabel('Frequency', fontsize=15, labelpad=20)\n",
        "plt.show()"
      ],
      "execution_count": 32,
      "outputs": [
        {
          "output_type": "display_data",
          "data": {
            "image/png": "[encoded data removed]",
            "text/plain": [
              "<Figure size 1080x360 with 1 Axes>"
            ]
          },
          "metadata": {
            "tags": []
          }
        }
      ]
    },
    {
      "cell_type": "markdown",
      "metadata": {
        "id": "04X9YlGiKS11",
        "colab_type": "text"
      },
      "source": [
        "\n",
        "\n",
        "*   there are more passengers who survived at the age between 0 to 10 than those who were unfortunate\n",
        "\n",
        "\n"
      ]
    },
    {
      "cell_type": "code",
      "metadata": {
        "id": "pvAmuRnCJ984",
        "colab_type": "code",
        "colab": {
          "base_uri": "https://localhost:8080/",
          "height": 334
        },
        "outputId": "d67af145-3243-414f-c6a7-fa6e899526ca"
      },
      "source": [
        "plt.figure(figsize=(15,5))\n",
        "sns.countplot('sibsp', hue='survived', data=titanic)\n",
        "plt.show()"
      ],
      "execution_count": 33,
      "outputs": [
        {
          "output_type": "display_data",
          "data": {
            "image/png": "[encoded data removed]",
            "text/plain": [
              "<Figure size 1080x360 with 1 Axes>"
            ]
          },
          "metadata": {
            "tags": []
          }
        }
      ]
    },
    {
      "cell_type": "markdown",
      "metadata": {
        "id": "iaBnz7XuLsuV",
        "colab_type": "text"
      },
      "source": [
        "most of the passengers who did not survive neither had a sibling nor a spouse"
      ]
    },
    {
      "cell_type": "code",
      "metadata": {
        "id": "2AbecOYOL7tT",
        "colab_type": "code",
        "colab": {
          "base_uri": "https://localhost:8080/",
          "height": 334
        },
        "outputId": "6a4ccff4-b49b-4c44-e4e0-9dce9886f810"
      },
      "source": [
        "plt.figure(figsize=(15,5))\n",
        "sns.countplot('parch', hue='survived', data=titanic)\n",
        "plt.show()"
      ],
      "execution_count": 34,
      "outputs": [
        {
          "output_type": "display_data",
          "data": {
            "image/png": "[encoded data removed]",
            "text/plain": [
              "<Figure size 1080x360 with 1 Axes>"
            ]
          },
          "metadata": {
            "tags": []
          }
        }
      ]
    },
    {
      "cell_type": "markdown",
      "metadata": {
        "id": "GDuc1BaQNMvJ",
        "colab_type": "text"
      },
      "source": [
        "many patients who did not survive were neither a parent nor a child than those who did."
      ]
    },
    {
      "cell_type": "code",
      "metadata": {
        "id": "D9GmrH5ZP8jZ",
        "colab_type": "code",
        "colab": {
          "base_uri": "https://localhost:8080/",
          "height": 350
        },
        "outputId": "151c4d7f-4d07-4dd2-88a2-9b3ba2e0ed1b"
      },
      "source": [
        "plt.figure(figsize=(15,5))\n",
        "plt.hist(x = [titanic[titanic['survived']==1]['fare'], titanic[titanic['survived']==0]['fare']], \n",
        "         stacked=True, color = ['g','r'],label = ['Survived','Not Survived'])\n",
        "plt.title('Fare Histogram by Survival')\n",
        "plt.xlabel('Fare ($)')\n",
        "plt.ylabel('# of Passengers')\n",
        "plt.legend()\n",
        "plt.show()"
      ],
      "execution_count": 35,
      "outputs": [
        {
          "output_type": "display_data",
          "data": {
            "image/png": "[encoded data removed]",
            "text/plain": [
              "<Figure size 1080x360 with 1 Axes>"
            ]
          },
          "metadata": {
            "tags": []
          }
        }
      ]
    },
    {
      "cell_type": "markdown",
      "metadata": {
        "id": "_-es5t0ESfm1",
        "colab_type": "text"
      },
      "source": [
        "most of the passengers paid there fare between the range of 0 to 50 and most of them did not survive."
      ]
    },
    {
      "cell_type": "code",
      "metadata": {
        "id": "PwENN4GnNZ4d",
        "colab_type": "code",
        "colab": {
          "base_uri": "https://localhost:8080/",
          "height": 334
        },
        "outputId": "6c77f814-788f-4530-a16c-469f65b0da94"
      },
      "source": [
        "plt.figure(figsize=(15,5))\n",
        "sns.countplot('embarked', hue='survived', data=titanic)\n",
        "plt.show()"
      ],
      "execution_count": 36,
      "outputs": [
        {
          "output_type": "display_data",
          "data": {
            "image/png": "[encoded data removed]",
            "text/plain": [
              "<Figure size 1080x360 with 1 Axes>"
            ]
          },
          "metadata": {
            "tags": []
          }
        }
      ]
    },
    {
      "cell_type": "markdown",
      "metadata": {
        "id": "1zGE5rnQN6rb",
        "colab_type": "text"
      },
      "source": [
        "most of the passengers had boarded the ship at port 2, which is Southampton, where those passengers most of them did not survive"
      ]
    },
    {
      "cell_type": "markdown",
      "metadata": {
        "id": "vTbdjSrhVIiT",
        "colab_type": "text"
      },
      "source": [
        "## 7. Modelling - Titanic"
      ]
    },
    {
      "cell_type": "markdown",
      "metadata": {
        "id": "GUaI09EKeXAt",
        "colab_type": "text"
      },
      "source": [
        "# **STEP 1**"
      ]
    },
    {
      "cell_type": "markdown",
      "metadata": {
        "id": "LV1D1dn4dggH",
        "colab_type": "text"
      },
      "source": [
        "**K-Nearest Neighbour**"
      ]
    },
    {
      "cell_type": "code",
      "metadata": {
        "id": "cfpyZqlKdxli",
        "colab_type": "code",
        "colab": {}
      },
      "source": [
        "# preparing the dataset\n",
        "x = titanic.iloc[:,1:].values\n",
        "y = titanic.survived.values\n",
        "\n",
        "#splitting the dataset\n",
        "from sklearn.model_selection import train_test_split\n",
        "x_train, x_test, y_train, y_test = train_test_split(x, y, test_size=.2, random_state=0)"
      ],
      "execution_count": 0,
      "outputs": []
    },
    {
      "cell_type": "code",
      "metadata": {
        "id": "v9Y0vqjleKWA",
        "colab_type": "code",
        "colab": {}
      },
      "source": [
        "# scaling the data\n",
        "from sklearn.preprocessing import StandardScaler as SS\n",
        "\n",
        "scaler = SS()\n",
        "scaler.fit(x_train)\n",
        "\n",
        "x_train = scaler.transform(x_train)\n",
        "x_test = scaler.transform(x_test)"
      ],
      "execution_count": 0,
      "outputs": []
    },
    {
      "cell_type": "code",
      "metadata": {
        "id": "w40I0AftgWId",
        "colab_type": "code",
        "colab": {
          "base_uri": "https://localhost:8080/",
          "height": 68
        },
        "outputId": "80396ccc-789a-430d-fb4c-1ebbc033c3f4"
      },
      "source": [
        "# training the data\n",
        "from sklearn.neighbors import KNeighborsClassifier as KNN\n",
        "\n",
        "classifier = KNN()\n",
        "classifier.fit(x_train, y_train)"
      ],
      "execution_count": 39,
      "outputs": [
        {
          "output_type": "execute_result",
          "data": {
            "text/plain": [
              "KNeighborsClassifier(algorithm='auto', leaf_size=30, metric='minkowski',\n",
              "                     metric_params=None, n_jobs=None, n_neighbors=5, p=2,\n",
              "                     weights='uniform')"
            ]
          },
          "metadata": {
            "tags": []
          },
          "execution_count": 39
        }
      ]
    },
    {
      "cell_type": "code",
      "metadata": {
        "id": "r4Bc2u13hzzf",
        "colab_type": "code",
        "colab": {}
      },
      "source": [
        "# predictions\n",
        "y_pred = classifier.predict(x_test)\n"
      ],
      "execution_count": 0,
      "outputs": []
    },
    {
      "cell_type": "code",
      "metadata": {
        "id": "LFsvSGEvlvHY",
        "colab_type": "code",
        "colab": {
          "base_uri": "https://localhost:8080/",
          "height": 34
        },
        "outputId": "376cae4e-58da-440f-a06e-7f5e6e08612b"
      },
      "source": [
        "# accuracy\n",
        "from sklearn.metrics import accuracy_score, confusion_matrix, classification_report\n",
        "accuracy_score(y_test, y_pred)"
      ],
      "execution_count": 41,
      "outputs": [
        {
          "output_type": "execute_result",
          "data": {
            "text/plain": [
              "0.7806451612903226"
            ]
          },
          "metadata": {
            "tags": []
          },
          "execution_count": 41
        }
      ]
    },
    {
      "cell_type": "code",
      "metadata": {
        "id": "6ZWLD0RLnAaP",
        "colab_type": "code",
        "colab": {
          "base_uri": "https://localhost:8080/",
          "height": 51
        },
        "outputId": "99a1f223-697b-435b-b89d-226ad7c36841"
      },
      "source": [
        "confusion_matrix(y_test, y_pred)"
      ],
      "execution_count": 42,
      "outputs": [
        {
          "output_type": "execute_result",
          "data": {
            "text/plain": [
              "array([[74, 14],\n",
              "       [20, 47]])"
            ]
          },
          "metadata": {
            "tags": []
          },
          "execution_count": 42
        }
      ]
    },
    {
      "cell_type": "code",
      "metadata": {
        "id": "8rOjAch_nJyg",
        "colab_type": "code",
        "colab": {
          "base_uri": "https://localhost:8080/",
          "height": 170
        },
        "outputId": "2b0ac585-b3b0-48f0-a322-5148eb548f33"
      },
      "source": [
        "print(classification_report(y_test, y_pred))"
      ],
      "execution_count": 43,
      "outputs": [
        {
          "output_type": "stream",
          "text": [
            "              precision    recall  f1-score   support\n",
            "\n",
            "           0       0.79      0.84      0.81        88\n",
            "           1       0.77      0.70      0.73        67\n",
            "\n",
            "    accuracy                           0.78       155\n",
            "   macro avg       0.78      0.77      0.77       155\n",
            "weighted avg       0.78      0.78      0.78       155\n",
            "\n"
          ],
          "name": "stdout"
        }
      ]
    },
    {
      "cell_type": "code",
      "metadata": {
        "id": "oaLYArorovZC",
        "colab_type": "code",
        "colab": {
          "base_uri": "https://localhost:8080/",
          "height": 326
        },
        "outputId": "e7a474b2-1a0d-4f64-80d6-afb3ae621bbe"
      },
      "source": [
        "# splitting the titanic dataset\n",
        "x_train, x_test, y_train, y_test = train_test_split(x,y, test_size=.3, random_state=0)\n",
        "\n",
        "# scaling the data\n",
        "\n",
        "scaler.fit(x_train)\n",
        "\n",
        "x_train = scaler.transform(x_train)\n",
        "x_test = scaler.transform(x_test)\n",
        "\n",
        "# traning the dataset\n",
        "classifier.fit(x_train, y_train)\n",
        "\n",
        "# making the prediction\n",
        "y_pred2 = classifier.predict(x_test)\n",
        "\n",
        "# checking for accuracy\n",
        "print('Accuracy')\n",
        "print(accuracy_score(y_test, y_pred2))\n",
        "print('*'*200)\n",
        "\n",
        "# checking the confusion matrix\n",
        "print('Confusion Matrix')\n",
        "print(confusion_matrix(y_test, y_pred2))\n",
        "print('*'*200)\n",
        "\n",
        "# checking the classification report\n",
        "print('Classification Report')\n",
        "print(classification_report(y_test, y_pred2))"
      ],
      "execution_count": 44,
      "outputs": [
        {
          "output_type": "stream",
          "text": [
            "Accuracy\n",
            "0.7682403433476395\n",
            "********************************************************************************************************************************************************************************************************\n",
            "Confusion Matrix\n",
            "[[107  25]\n",
            " [ 29  72]]\n",
            "********************************************************************************************************************************************************************************************************\n",
            "Classification Report\n",
            "              precision    recall  f1-score   support\n",
            "\n",
            "           0       0.79      0.81      0.80       132\n",
            "           1       0.74      0.71      0.73       101\n",
            "\n",
            "    accuracy                           0.77       233\n",
            "   macro avg       0.76      0.76      0.76       233\n",
            "weighted avg       0.77      0.77      0.77       233\n",
            "\n"
          ],
          "name": "stdout"
        }
      ]
    },
    {
      "cell_type": "code",
      "metadata": {
        "id": "nlHLlVk_Ku2a",
        "colab_type": "code",
        "colab": {
          "base_uri": "https://localhost:8080/",
          "height": 326
        },
        "outputId": "1e014a9c-6f27-4496-9abd-329c342460ab"
      },
      "source": [
        "# splitting the itanic dataset\n",
        "x_train, x_test, y_train, y_test = train_test_split(x,y, test_size=.4, random_state=0)\n",
        "\n",
        "# scaling the data\n",
        "\n",
        "scaler.fit(x_train)\n",
        "\n",
        "x_train = scaler.transform(x_train)\n",
        "x_test = scaler.transform(x_test)\n",
        "\n",
        "# traning the dataset\n",
        "classifier.fit(x_train, y_train)\n",
        "\n",
        "# making the prediction\n",
        "y_pred3 = classifier.predict(x_test)\n",
        "\n",
        "# checking for accuracy\n",
        "print('Accuracy:')\n",
        "print(accuracy_score(y_test, y_pred3))\n",
        "print('*'*200)\n",
        "\n",
        "# checking the confusion matrix\n",
        "print('Confusion Matrix:')\n",
        "print(confusion_matrix(y_test, y_pred3))\n",
        "print('*'*200)\n",
        "\n",
        "# checking the classification report\n",
        "print('Classification Report:')\n",
        "print(classification_report(y_test, y_pred3))"
      ],
      "execution_count": 45,
      "outputs": [
        {
          "output_type": "stream",
          "text": [
            "Accuracy:\n",
            "0.7774193548387097\n",
            "********************************************************************************************************************************************************************************************************\n",
            "Confusion Matrix:\n",
            "[[147  32]\n",
            " [ 37  94]]\n",
            "********************************************************************************************************************************************************************************************************\n",
            "Classification Report:\n",
            "              precision    recall  f1-score   support\n",
            "\n",
            "           0       0.80      0.82      0.81       179\n",
            "           1       0.75      0.72      0.73       131\n",
            "\n",
            "    accuracy                           0.78       310\n",
            "   macro avg       0.77      0.77      0.77       310\n",
            "weighted avg       0.78      0.78      0.78       310\n",
            "\n"
          ],
          "name": "stdout"
        }
      ]
    },
    {
      "cell_type": "code",
      "metadata": {
        "id": "7RJnDbU-Lq6y",
        "colab_type": "code",
        "colab": {
          "base_uri": "https://localhost:8080/",
          "height": 326
        },
        "outputId": "7cc151ff-e913-49c7-a74c-07da6aa493d0"
      },
      "source": [
        "# splitting the itanic dataset\n",
        "x_train, x_test, y_train, y_test = train_test_split(x,y, test_size=.5, random_state=0)\n",
        "\n",
        "# scaling the data\n",
        "\n",
        "scaler.fit(x_train)\n",
        "\n",
        "x_train = scaler.transform(x_train)\n",
        "x_test = scaler.transform(x_test)\n",
        "\n",
        "# traning the dataset\n",
        "classifier.fit(x_train, y_train)\n",
        "\n",
        "# making the prediction\n",
        "y_pred4 = classifier.predict(x_test)\n",
        "\n",
        "# checking for accuracy\n",
        "print('Accuracy:')\n",
        "print(accuracy_score(y_test, y_pred4))\n",
        "print('*'*200)\n",
        "\n",
        "# checking the confusion matrix\n",
        "print('Confusion Matrix:')\n",
        "print(confusion_matrix(y_test, y_pred4))\n",
        "print('*'*200)\n",
        "\n",
        "# checking the classification report\n",
        "print('Classification Report:')\n",
        "print(classification_report(y_test, y_pred4))"
      ],
      "execution_count": 46,
      "outputs": [
        {
          "output_type": "stream",
          "text": [
            "Accuracy:\n",
            "0.7989690721649485\n",
            "********************************************************************************************************************************************************************************************************\n",
            "Confusion Matrix:\n",
            "[[195  33]\n",
            " [ 45 115]]\n",
            "********************************************************************************************************************************************************************************************************\n",
            "Classification Report:\n",
            "              precision    recall  f1-score   support\n",
            "\n",
            "           0       0.81      0.86      0.83       228\n",
            "           1       0.78      0.72      0.75       160\n",
            "\n",
            "    accuracy                           0.80       388\n",
            "   macro avg       0.79      0.79      0.79       388\n",
            "weighted avg       0.80      0.80      0.80       388\n",
            "\n"
          ],
          "name": "stdout"
        }
      ]
    },
    {
      "cell_type": "markdown",
      "metadata": {
        "colab_type": "text",
        "id": "Yqau-s0aNdXE"
      },
      "source": [
        "## 8. Challenging the solution"
      ]
    },
    {
      "cell_type": "markdown",
      "metadata": {
        "id": "dBNEdgj3MpYM",
        "colab_type": "text"
      },
      "source": [
        "## **Univariate Analysis - Spam Detection**"
      ]
    },
    {
      "cell_type": "markdown",
      "metadata": {
        "id": "gMUI7NvFewg9",
        "colab_type": "text"
      },
      "source": [
        "since the data dataset has a lot of feature. we will just go through some of the features to get an overview of how the data is spread."
      ]
    },
    {
      "cell_type": "code",
      "metadata": {
        "id": "aS-b3o8ZdRSk",
        "colab_type": "code",
        "colab": {
          "base_uri": "https://localhost:8080/",
          "height": 319
        },
        "outputId": "554eb013-7cda-45e9-cc99-0d871e4891f6"
      },
      "source": [
        "plt.figure(figsize=(10,5))\n",
        "spambase['1'].value_counts().plot.pie(autopct='%1.1f%%', shadow=True)\n",
        "plt.title('Spam or Not Spam')\n",
        "plt.show()\n"
      ],
      "execution_count": 47,
      "outputs": [
        {
          "output_type": "display_data",
          "data": {
            "image/png": "[encoded data removed]",
            "text/plain": [
              "<Figure size 720x360 with 1 Axes>"
            ]
          },
          "metadata": {
            "tags": []
          }
        }
      ]
    },
    {
      "cell_type": "markdown",
      "metadata": {
        "id": "R_jhz8tLenDh",
        "colab_type": "text"
      },
      "source": [
        "there are more spam data that not"
      ]
    },
    {
      "cell_type": "code",
      "metadata": {
        "id": "qZsWKnAlfYs8",
        "colab_type": "code",
        "colab": {
          "base_uri": "https://localhost:8080/",
          "height": 458
        },
        "outputId": "f98d244f-45ed-46e5-be41-867cc501b3de"
      },
      "source": [
        "plt.figure(figsize=(10,7))\n",
        "sns.distplot(spambase['0'])\n",
        "plt.title('Word Frequency Make')\n",
        "plt.xlabel('Word Frequency Make')\n",
        "plt.ylabel('Count')\n",
        "plt.show()"
      ],
      "execution_count": 48,
      "outputs": [
        {
          "output_type": "display_data",
          "data": {
            "image/png": "[encoded data removed]",
            "text/plain": [
              "<Figure size 720x504 with 1 Axes>"
            ]
          },
          "metadata": {
            "tags": []
          }
        }
      ]
    },
    {
      "cell_type": "markdown",
      "metadata": {
        "id": "rZS-3_HlgUUX",
        "colab_type": "text"
      },
      "source": [
        "most of the data is distribiuted between 0 and 0.5"
      ]
    },
    {
      "cell_type": "code",
      "metadata": {
        "id": "qhXd4iDsgqGK",
        "colab_type": "code",
        "colab": {
          "base_uri": "https://localhost:8080/",
          "height": 468
        },
        "outputId": "b67c8501-5b88-42c8-e7ec-0af6b37ee5ee"
      },
      "source": [
        "plt.figure(figsize=(10,7))\n",
        "sns.distplot(spambase['0.64'])\n",
        "plt.title('Word Frequency Address', fontsize=20)\n",
        "plt.xlabel('Word Frequency Address', fontsize=15)\n",
        "plt.ylabel('Count', fontsize=15)\n",
        "plt.show()"
      ],
      "execution_count": 49,
      "outputs": [
        {
          "output_type": "display_data",
          "data": {
            "image/png": "[encoded data removed]",
            "text/plain": [
              "<Figure size 720x504 with 1 Axes>"
            ]
          },
          "metadata": {
            "tags": []
          }
        }
      ]
    },
    {
      "cell_type": "markdown",
      "metadata": {
        "id": "HSActjcQgxcF",
        "colab_type": "text"
      },
      "source": [
        "most of the data is distributed between 0 and 1."
      ]
    },
    {
      "cell_type": "code",
      "metadata": {
        "id": "OHrDA_5Qg2RS",
        "colab_type": "code",
        "colab": {
          "base_uri": "https://localhost:8080/",
          "height": 458
        },
        "outputId": "ac20ce1d-02c3-4b95-de3e-83afda69164f"
      },
      "source": [
        "plt.figure(figsize=(10,7))\n",
        "sns.distplot(spambase['0.64.1'])\n",
        "plt.title('Word Frequency All')\n",
        "plt.xlabel('Word Frequency All')\n",
        "plt.ylabel('Count')\n",
        "plt.show()"
      ],
      "execution_count": 50,
      "outputs": [
        {
          "output_type": "display_data",
          "data": {
            "image/png": "[encoded data removed]",
            "text/plain": [
              "<Figure size 720x504 with 1 Axes>"
            ]
          },
          "metadata": {
            "tags": []
          }
        }
      ]
    },
    {
      "cell_type": "code",
      "metadata": {
        "id": "aL4yYK8Vh4vK",
        "colab_type": "code",
        "colab": {
          "base_uri": "https://localhost:8080/",
          "height": 458
        },
        "outputId": "5c83b58e-619a-45e3-9117-5b22cedfee40"
      },
      "source": [
        "plt.figure(figsize=(10,7))\n",
        "sns.distplot(spambase['61'])\n",
        "plt.title('longest capital run length')\n",
        "plt.xlabel('longest capital run length')\n",
        "plt.ylabel('Count')\n",
        "plt.show()"
      ],
      "execution_count": 51,
      "outputs": [
        {
          "output_type": "display_data",
          "data": {
            "image/png": "[encoded data removed]",
            "text/plain": [
              "<Figure size 720x504 with 1 Axes>"
            ]
          },
          "metadata": {
            "tags": []
          }
        }
      ]
    },
    {
      "cell_type": "markdown",
      "metadata": {
        "id": "vkorTo5giMT8",
        "colab_type": "text"
      },
      "source": [
        "most of the data is distributed between 0 and 500"
      ]
    },
    {
      "cell_type": "code",
      "metadata": {
        "id": "zjjyTeUkhVaB",
        "colab_type": "code",
        "colab": {
          "base_uri": "https://localhost:8080/",
          "height": 458
        },
        "outputId": "98972f7a-961f-4f5e-cd51-8061c741a2fe"
      },
      "source": [
        "plt.figure(figsize=(10,7))\n",
        "sns.distplot(spambase['278'])\n",
        "plt.title('Total capital run length')\n",
        "plt.xlabel('Total capital run length ')\n",
        "plt.ylabel('Count')\n",
        "plt.show()"
      ],
      "execution_count": 52,
      "outputs": [
        {
          "output_type": "display_data",
          "data": {
            "image/png": "[encoded data removed]",
            "text/plain": [
              "<Figure size 720x504 with 1 Axes>"
            ]
          },
          "metadata": {
            "tags": []
          }
        }
      ]
    },
    {
      "cell_type": "markdown",
      "metadata": {
        "id": "MCVW83I8hcE2",
        "colab_type": "text"
      },
      "source": [
        "most of the data is distibuted between 0 and 1000"
      ]
    },
    {
      "cell_type": "markdown",
      "metadata": {
        "id": "8BHFrb-KiXYH",
        "colab_type": "text"
      },
      "source": [
        "## **Bivariate analysis**"
      ]
    },
    {
      "cell_type": "code",
      "metadata": {
        "id": "NWyYspC5ieD4",
        "colab_type": "code",
        "colab": {
          "base_uri": "https://localhost:8080/",
          "height": 889
        },
        "outputId": "dbc93baa-f046-4bc7-e4c0-414bc3215d09"
      },
      "source": [
        "ship = spambase.corr()\n",
        "mask = np.zeros_like(ship)\n",
        "mask[np.triu_indices_from(mask)] = True\n",
        "plt.figure(figsize=(15,15))\n",
        "sns.heatmap(ship, mask=mask)\n",
        "plt.show()"
      ],
      "execution_count": 53,
      "outputs": [
        {
          "output_type": "display_data",
          "data": {
            "image/png": "[encoded data removed]",
            "text/plain": [
              "<Figure size 1080x1080 with 2 Axes>"
            ]
          },
          "metadata": {
            "tags": []
          }
        }
      ]
    },
    {
      "cell_type": "markdown",
      "metadata": {
        "id": "V4KC4Y2hjI39",
        "colab_type": "text"
      },
      "source": [
        "the correlation between the dependant variable, 0(spam) against the independent variables is weak "
      ]
    },
    {
      "cell_type": "code",
      "metadata": {
        "id": "iM2J3b_pjmC5",
        "colab_type": "code",
        "colab": {
          "base_uri": "https://localhost:8080/",
          "height": 305
        },
        "outputId": "63483a36-560c-45a0-ed0c-0707ae51e685"
      },
      "source": [
        "plt.scatter(x='1', y='0', data=spambase)\n",
        "plt.ylabel('word frequency make', fontsize=15)\n",
        "plt.xlabel('spam', fontsize=15)\n",
        "plt.title('spam vs word ferquency', fontsize=20)\n",
        "plt.show()"
      ],
      "execution_count": 54,
      "outputs": [
        {
          "output_type": "display_data",
          "data": {
            "image/png": "[encoded data removed]",
            "text/plain": [
              "<Figure size 432x288 with 1 Axes>"
            ]
          },
          "metadata": {
            "tags": []
          }
        }
      ]
    },
    {
      "cell_type": "markdown",
      "metadata": {
        "id": "8bfYudF6nPFX",
        "colab_type": "text"
      },
      "source": [
        "there is negative correlation between spam and word frequency make"
      ]
    },
    {
      "cell_type": "code",
      "metadata": {
        "id": "_kpBD7dnn8e8",
        "colab_type": "code",
        "colab": {
          "base_uri": "https://localhost:8080/",
          "height": 395
        },
        "outputId": "12bbfed5-934e-4037-9c03-680657a8ac72"
      },
      "source": [
        "sns.FacetGrid(spambase, hue = '1', height=5).map(sns.distplot, '0').add_legend()\n",
        "plt.title('Spam vs Not Spam', fontsize=20)\n",
        "plt.ylabel('Count', fontsize=15)\n",
        "plt.xlabel('Word frequency make',  fontsize=15)\n",
        "plt.show()\n",
        "plt.show()"
      ],
      "execution_count": 55,
      "outputs": [
        {
          "output_type": "display_data",
          "data": {
            "image/png": "[encoded data removed]",
            "text/plain": [
              "<Figure size 402.375x360 with 1 Axes>"
            ]
          },
          "metadata": {
            "tags": []
          }
        }
      ]
    },
    {
      "cell_type": "markdown",
      "metadata": {
        "id": "xsIHCkdbp9PC",
        "colab_type": "text"
      },
      "source": [
        "there is more spam data than no spam data in word frequency feature"
      ]
    },
    {
      "cell_type": "code",
      "metadata": {
        "id": "07rzMyKvnlED",
        "colab_type": "code",
        "colab": {
          "base_uri": "https://localhost:8080/",
          "height": 295
        },
        "outputId": "7488e3f8-d832-4000-dd7d-97c7c170be34"
      },
      "source": [
        "plt.scatter(x='1', y='0.64', data=spambase)\n",
        "plt.ylabel('word frequency address')\n",
        "plt.xlabel('spam')\n",
        "plt.title('spam vs word ferquency')\n",
        "plt.show()"
      ],
      "execution_count": 56,
      "outputs": [
        {
          "output_type": "display_data",
          "data": {
            "image/png": "[encoded data removed]",
            "text/plain": [
              "<Figure size 432x288 with 1 Axes>"
            ]
          },
          "metadata": {
            "tags": []
          }
        }
      ]
    },
    {
      "cell_type": "markdown",
      "metadata": {
        "id": "gEfnXzuTsD8I",
        "colab_type": "text"
      },
      "source": [
        "there is negative correlation betweem word frequency address and spam"
      ]
    },
    {
      "cell_type": "code",
      "metadata": {
        "id": "ZUfyYOP5qrox",
        "colab_type": "code",
        "colab": {
          "base_uri": "https://localhost:8080/",
          "height": 395
        },
        "outputId": "c2a979c6-2ea6-4ab8-998f-09d6fcc624a1"
      },
      "source": [
        "sns.FacetGrid(spambase, hue='1', height=5).map(sns.distplot, '0.64').add_legend()\n",
        "plt.title('Spam vs Not Spam', fontsize=20)\n",
        "plt.ylabel('Count', fontsize=15)\n",
        "plt.xlabel('word frequency address',  fontsize=15)\n",
        "plt.show()\n",
        "plt.show()"
      ],
      "execution_count": 57,
      "outputs": [
        {
          "output_type": "display_data",
          "data": {
            "image/png": "[encoded data removed]",
            "text/plain": [
              "<Figure size 402.375x360 with 1 Axes>"
            ]
          },
          "metadata": {
            "tags": []
          }
        }
      ]
    },
    {
      "cell_type": "markdown",
      "metadata": {
        "id": "Ijl8rvz-r0z-",
        "colab_type": "text"
      },
      "source": [
        "there is less spam than no spam in word frequency address"
      ]
    },
    {
      "cell_type": "code",
      "metadata": {
        "id": "gUIr_BBbnyse",
        "colab_type": "code",
        "colab": {
          "base_uri": "https://localhost:8080/",
          "height": 305
        },
        "outputId": "e2083b47-b6fd-4557-b0f6-a41de44011ce"
      },
      "source": [
        "plt.scatter(x='1', y='0.64.1', data=spambase)\n",
        "plt.ylabel('all word frequencies', fontsize=15)\n",
        "plt.xlabel('spam', fontsize=15)\n",
        "plt.title('spam vs all word ferquency', fontsize=20)\n",
        "plt.show()"
      ],
      "execution_count": 58,
      "outputs": [
        {
          "output_type": "display_data",
          "data": {
            "image/png": "[encoded data removed]",
            "text/plain": [
              "<Figure size 432x288 with 1 Axes>"
            ]
          },
          "metadata": {
            "tags": []
          }
        }
      ]
    },
    {
      "cell_type": "markdown",
      "metadata": {
        "id": "UFv-sp9atImj",
        "colab_type": "text"
      },
      "source": [
        "there is negative correlation between spam and all word frequencies"
      ]
    },
    {
      "cell_type": "code",
      "metadata": {
        "id": "ZVCuRMAUtOMk",
        "colab_type": "code",
        "colab": {}
      },
      "source": [
        "sns.FacetGrid(spambase, hue='1', height=5).map(sns.distplot, '0.64.1').add_legend()\n",
        "plt.title('Spam vs Not Spam', fontsize=20)\n",
        "plt.ylabel('Count', fontsize=15)\n",
        "plt.xlabel('all word frequencies',  fontsize=15)\n",
        "plt.show()\n"
      ],
      "execution_count": 0,
      "outputs": []
    },
    {
      "cell_type": "markdown",
      "metadata": {
        "id": "D1Nqy351ttWy",
        "colab_type": "text"
      },
      "source": [
        "there in more no spam than spam in all word frequencies"
      ]
    },
    {
      "cell_type": "code",
      "metadata": {
        "id": "eQPXTYizt7gW",
        "colab_type": "code",
        "colab": {}
      },
      "source": [
        "plt.scatter(x='1', y='61', data=spambase)\n",
        "plt.title('smap vs longest capital run length', fontsize=20)\n",
        "plt.xlabel('spam', fontsize=15)\n",
        "plt.ylabel('longest capital run length', fontsize=15)\n",
        "plt.show()"
      ],
      "execution_count": 0,
      "outputs": []
    },
    {
      "cell_type": "markdown",
      "metadata": {
        "id": "_FO6GY78uNqe",
        "colab_type": "text"
      },
      "source": [
        "there is positive correlation between spam and longest capital run length"
      ]
    },
    {
      "cell_type": "code",
      "metadata": {
        "id": "xoBU3Jk7uOot",
        "colab_type": "code",
        "colab": {}
      },
      "source": [
        "sns.FacetGrid(spambase, hue='1', height=5).map(sns.distplot,'0.64.1').add_legend()\n",
        "plt.title('Spam vs Not Spam', fontsize=20)\n",
        "plt.ylabel('Count', fontsize=15)\n",
        "plt.xlabel('longest capital run length', fontsize=15)\n",
        "plt.show()"
      ],
      "execution_count": 0,
      "outputs": []
    },
    {
      "cell_type": "markdown",
      "metadata": {
        "id": "eGEpzkDvulBx",
        "colab_type": "text"
      },
      "source": [
        "there is more no spam than spam in the longest capital run length feature"
      ]
    },
    {
      "cell_type": "code",
      "metadata": {
        "id": "09I2pwLqulkN",
        "colab_type": "code",
        "colab": {}
      },
      "source": [
        "plt.scatter(x='1', y='278', data=spambase)\n",
        "plt.title('spam vs total capital run length', fontsize=20)\n",
        "plt.xlabel('spam', fontsize=15)\n",
        "plt.ylabel('total capital run length', fontsize=15)\n",
        "plt.show()"
      ],
      "execution_count": 0,
      "outputs": []
    },
    {
      "cell_type": "markdown",
      "metadata": {
        "id": "0j5oLa0xuntW",
        "colab_type": "text"
      },
      "source": [
        "there is a positive correlation between spam and total capital run length"
      ]
    },
    {
      "cell_type": "code",
      "metadata": {
        "id": "OBo5_fXLuoNr",
        "colab_type": "code",
        "colab": {}
      },
      "source": [
        "sns.FacetGrid(spambase, hue='1', height=5).map(sns.distplot,'278').add_legend()\n",
        "plt.title('Spam vs Not Spam', fontsize=20)\n",
        "plt.ylabel('Count', fontsize=15)\n",
        "plt.xlabel('total capital run length',  fontsize=15)\n",
        "plt.show()\n",
        "plt.show()"
      ],
      "execution_count": 0,
      "outputs": []
    },
    {
      "cell_type": "markdown",
      "metadata": {
        "id": "BYvY8fhVwJaU",
        "colab_type": "text"
      },
      "source": [
        "there is more no spam than spam in total capital run length"
      ]
    },
    {
      "cell_type": "markdown",
      "metadata": {
        "id": "3ggpOM58iUvh",
        "colab_type": "text"
      },
      "source": [
        "**Naive Bayes Classifier**"
      ]
    },
    {
      "cell_type": "code",
      "metadata": {
        "id": "LsMsu2O5jRqP",
        "colab_type": "code",
        "colab": {}
      },
      "source": [
        "# preparing the data\n",
        "X = spambase.iloc[:,:-1].values\n",
        "Y = spambase.iloc[:,-1].values\n",
        "\n",
        "# separating the data\n",
        "X_train, X_test, Y_train, Y_test = train_test_split(X, Y, test_size=.2, random_state=0)"
      ],
      "execution_count": 0,
      "outputs": []
    },
    {
      "cell_type": "code",
      "metadata": {
        "id": "o7T-lVH6jwj3",
        "colab_type": "code",
        "colab": {}
      },
      "source": [
        "# training the data\n",
        "from sklearn.naive_bayes import GaussianNB as G\n",
        "\n",
        "classify = G()\n",
        "classify.fit(X_train, Y_train)"
      ],
      "execution_count": 0,
      "outputs": []
    },
    {
      "cell_type": "code",
      "metadata": {
        "id": "u_JtVqlCkqG9",
        "colab_type": "code",
        "colab": {}
      },
      "source": [
        "# prediction\n",
        "Y_pred_naive = classify.predict(X_test)\n",
        "\n"
      ],
      "execution_count": 0,
      "outputs": []
    },
    {
      "cell_type": "code",
      "metadata": {
        "id": "rhQfGJCvnVxR",
        "colab_type": "code",
        "colab": {}
      },
      "source": [
        "confusion_matrix(Y_test, Y_pred_naive)"
      ],
      "execution_count": 0,
      "outputs": []
    },
    {
      "cell_type": "code",
      "metadata": {
        "id": "wF7_X7_pneWt",
        "colab_type": "code",
        "colab": {}
      },
      "source": [
        "print(classification_report(Y_test, Y_pred_naive))"
      ],
      "execution_count": 0,
      "outputs": []
    },
    {
      "cell_type": "code",
      "metadata": {
        "id": "9hgLLrZwJhWa",
        "colab_type": "code",
        "colab": {}
      },
      "source": [
        "# splitting the data to 30% for testing and 70% for training\n",
        "X_train, X_test, Y_train, Y_test = train_test_split(X, Y, test_size=.3, random_state=0)\n",
        "\n",
        "# training\n",
        "classify.fit(X_train, Y_train)\n",
        "\n",
        "# prediction\n",
        "Y_pred_naive2 = classify.predict(X_test)\n",
        "\n",
        "\n",
        "\n",
        "# confusion_matrix\n",
        "print('Classification Report:')\n",
        "print(confusion_matrix(Y_test, Y_pred_naive2))\n",
        "print('*'*200)\n",
        "\n",
        "# classification_report\n",
        "print('Classification Report:')\n",
        "print(classification_report(Y_test, Y_pred_naive2))\n"
      ],
      "execution_count": 0,
      "outputs": []
    },
    {
      "cell_type": "code",
      "metadata": {
        "id": "PC6KTS7ALG_x",
        "colab_type": "code",
        "colab": {}
      },
      "source": [
        "# splitting the data to 40% for testing and 60% for training\n",
        "X_train, X_test, Y_train, Y_test = train_test_split(X, Y, test_size=.4, random_state=0)\n",
        "\n",
        "# training\n",
        "classify.fit(X_train, Y_train)\n",
        "\n",
        "# prediction\n",
        "Y_pred_naive3 = classify.predict(X_test)\n",
        "\n",
        "\n",
        "\n",
        "# confusion_matrix\n",
        "print('Confusion matrix:')\n",
        "print(confusion_matrix(Y_test, Y_pred_naive3))\n",
        "print('*'*200)\n",
        "\n",
        "# classification_report\n",
        "print('Classification Report:')\n",
        "print(classification_report(Y_test, Y_pred_naive3))"
      ],
      "execution_count": 0,
      "outputs": []
    },
    {
      "cell_type": "code",
      "metadata": {
        "id": "at-51wbML_1K",
        "colab_type": "code",
        "colab": {}
      },
      "source": [
        "# splitting the data to 50% for testing and 50% for training\n",
        "X_train, X_test, Y_train, Y_test = train_test_split(X, Y, test_size=.5, random_state=0)\n",
        "\n",
        "# training\n",
        "classify.fit(X_train, Y_train)\n",
        "\n",
        "# prediction\n",
        "Y_pred_naive4 = classify.predict(X_test)\n",
        "\n",
        "# accuracy\n",
        "print('Accuracy:')\n",
        "print(accuracy_score(Y_test, Y_pred_naive4))\n",
        "print('*'*200)\n",
        "\n",
        "# confusion_matrix\n",
        "print('Confusion Matrix:')\n",
        "print(confusion_matrix(Y_test, Y_pred_naive4))\n",
        "print('*'*200)\n",
        "\n",
        "# classification_report\n",
        "print('Classification Report:')\n",
        "print(classification_report(Y_test, Y_pred_naive4))"
      ],
      "execution_count": 0,
      "outputs": []
    },
    {
      "cell_type": "code",
      "metadata": {
        "id": "WbJLplsC0oLu",
        "colab_type": "code",
        "colab": {}
      },
      "source": [
        "\n",
        "accuracy_score(Y_test, Y_pred_naive)\n",
        "\n",
        "print('Accuracy:')\n",
        "print(accuracy_score(Y_test, Y_pred_naive2))\n",
        "print('*'*200)\n",
        "# accuracy\n",
        "print('Accuracy:')\n",
        "print(accuracy_score(Y_test, Y_pred_naive4))\n",
        "print('*'*200)\n",
        "# accuracy\n",
        "print('Accuracy:')\n",
        "print(accuracy_score(Y_test, Y_pred_naive4))\n",
        "print('*'*200)"
      ],
      "execution_count": 0,
      "outputs": []
    },
    {
      "cell_type": "markdown",
      "metadata": {
        "colab_type": "text",
        "id": "9TABgQgWM-Gv"
      },
      "source": [
        "## 8. Challenging the solution"
      ]
    },
    {
      "cell_type": "code",
      "metadata": {
        "id": "o4Hhhm23KuMH",
        "colab_type": "code",
        "colab": {}
      },
      "source": [
        ""
      ],
      "execution_count": 0,
      "outputs": []
    }
  ]
}