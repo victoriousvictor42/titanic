{
  "nbformat": 4,
  "nbformat_minor": 0,
  "metadata": {
    "colab": {
      "name": "titanicANDspam.ipynb",
      "provenance": [],
      "collapsed_sections": [],
      "authorship_tag": "ABX9TyPuJV1fpAL+DbquN/IHUq8v",
      "include_colab_link": true
    },
    "kernelspec": {
      "name": "python3",
      "display_name": "Python 3"
    },
    "accelerator": "TPU"
  },
  "cells": [
    {
      "cell_type": "markdown",
      "metadata": {
        "id": "view-in-github",
        "colab_type": "text"
      },
      "source": [
        "<a href=\"https://colab.research.google.com/github/victoriousvictor42/titanic/blob/master/titanicANDspam.ipynb\" target=\"_parent\"><img src=\"https://colab.research.google.com/assets/colab-badge.svg\" alt=\"Open In Colab\"/></a>"
      ]
    },
    {
      "cell_type": "markdown",
      "metadata": {
        "id": "kLG2VTrnTvYL",
        "colab_type": "text"
      },
      "source": [
        "## 1. Defining the Question"
      ]
    },
    {
      "cell_type": "markdown",
      "metadata": {
        "id": "XecOwPNorl2W",
        "colab_type": "text"
      },
      "source": [
        "### a) Specifying the Data Analytic Question"
      ]
    },
    {
      "cell_type": "markdown",
      "metadata": {
        "id": "9ozBnKfehSAw",
        "colab_type": "text"
      },
      "source": [
        "> make a prediction of the titanic disaster using K-nearest Neighbour classifier and detecting spam messages using Naive Bayes Classifier"
      ]
    },
    {
      "cell_type": "markdown",
      "metadata": {
        "id": "J4wfHZwQrs-t",
        "colab_type": "text"
      },
      "source": [
        "### b) Defining the Metric for Success"
      ]
    },
    {
      "cell_type": "markdown",
      "metadata": {
        "id": "c9osIZWTRJUH",
        "colab_type": "text"
      },
      "source": [
        "*   Data understanding \n",
        "*   Data Wrangling\n",
        "*   Feature engineering\n",
        "*   Modelling using K-nearest neighbour classifier and Naive Bayes classifier\n",
        "\n"
      ]
    },
    {
      "cell_type": "markdown",
      "metadata": {
        "id": "a9BPYqunry97",
        "colab_type": "text"
      },
      "source": [
        "### c) Understanding the context "
      ]
    },
    {
      "cell_type": "markdown",
      "metadata": {
        "id": "9ehdVAZwIPx5",
        "colab_type": "text"
      },
      "source": [
        "making predictions using Knearest neighbours and naive bayes claasifier"
      ]
    },
    {
      "cell_type": "markdown",
      "metadata": {
        "id": "7KMRBJ7zr9HD",
        "colab_type": "text"
      },
      "source": [
        "### d) Recording the Experimental Design"
      ]
    },
    {
      "cell_type": "markdown",
      "metadata": {
        "id": "hABeE9YxRh6U",
        "colab_type": "text"
      },
      "source": [
        "\n",
        "\n",
        "1.   KNN\n",
        "2.   Naive Bayes\n",
        "\n"
      ]
    },
    {
      "cell_type": "markdown",
      "metadata": {
        "id": "zSGyg6kWsBUl",
        "colab_type": "text"
      },
      "source": [
        "### e) Data Relevance"
      ]
    },
    {
      "cell_type": "markdown",
      "metadata": {
        "id": "bn7enkDSIc_j",
        "colab_type": "text"
      },
      "source": [
        "these datasets are from kaggle. Its genuine since the samesame dataset were used in many hackathons."
      ]
    },
    {
      "cell_type": "markdown",
      "metadata": {
        "id": "iUNbvIvnT7ep",
        "colab_type": "text"
      },
      "source": [
        "## 2. Reading the Data"
      ]
    },
    {
      "cell_type": "markdown",
      "metadata": {
        "id": "HoBX5_BrItTp",
        "colab_type": "text"
      },
      "source": [
        "we are going to import the necessary libraries thatwill enable us to read the data."
      ]
    },
    {
      "cell_type": "code",
      "metadata": {
        "id": "QPWydjNuIsRf",
        "colab_type": "code",
        "colab": {}
      },
      "source": [
        "#importing the necessary libraries\n",
        "import pandas as pd\n",
        "import numpy as np\n",
        "import matplotlib.pyplot as plt\n",
        "import seaborn as sns"
      ],
      "execution_count": 0,
      "outputs": []
    },
    {
      "cell_type": "code",
      "metadata": {
        "id": "E128Y6YYJP4H",
        "colab_type": "code",
        "colab": {}
      },
      "source": [
        "# loading the datasets\n",
        "titanic = pd.read_csv('train.csv')\n",
        "spambase = pd.read_csv('spambase.data')\n",
        "\n"
      ],
      "execution_count": 0,
      "outputs": []
    },
    {
      "cell_type": "markdown",
      "metadata": {
        "id": "OI3P3YnHUEBk",
        "colab_type": "text"
      },
      "source": [
        "\n",
        "\n",
        "## 3. Checking the Data"
      ]
    },
    {
      "cell_type": "markdown",
      "metadata": {
        "id": "OG8N5FhlJkVu",
        "colab_type": "text"
      },
      "source": [
        "we are now going to see the layout of the data"
      ]
    },
    {
      "cell_type": "code",
      "metadata": {
        "id": "8atgM_WoJug3",
        "colab_type": "code",
        "outputId": "91bbc8fe-f767-4d42-e465-80f01344dd69",
        "colab": {
          "base_uri": "https://localhost:8080/",
          "height": 377
        }
      },
      "source": [
        "# previewing the top of the datasets\n",
        "print(titanic.head())\n",
        "print('*'*200)\n",
        "spambase.head()\n"
      ],
      "execution_count": 4,
      "outputs": [
        {
          "output_type": "stream",
          "text": [
            "   PassengerId  Survived  Pclass  ...     Fare Cabin  Embarked\n",
            "0            1         0       3  ...   7.2500   NaN         S\n",
            "1            2         1       1  ...  71.2833   C85         C\n",
            "2            3         1       3  ...   7.9250   NaN         S\n",
            "3            4         1       1  ...  53.1000  C123         S\n",
            "4            5         0       3  ...   8.0500   NaN         S\n",
            "\n",
            "[5 rows x 12 columns]\n",
            "********************************************************************************************************************************************************************************************************\n"
          ],
          "name": "stdout"
        },
        {
          "output_type": "execute_result",
          "data": {
            "text/html": [
              "<div>\n",
              "<style scoped>\n",
              "    .dataframe tbody tr th:only-of-type {\n",
              "        vertical-align: middle;\n",
              "    }\n",
              "\n",
              "    .dataframe tbody tr th {\n",
              "        vertical-align: top;\n",
              "    }\n",
              "\n",
              "    .dataframe thead th {\n",
              "        text-align: right;\n",
              "    }\n",
              "</style>\n",
              "<table border=\"1\" class=\"dataframe\">\n",
              "  <thead>\n",
              "    <tr style=\"text-align: right;\">\n",
              "      <th></th>\n",
              "      <th>0</th>\n",
              "      <th>0.64</th>\n",
              "      <th>0.64.1</th>\n",
              "      <th>0.1</th>\n",
              "      <th>0.32</th>\n",
              "      <th>0.2</th>\n",
              "      <th>0.3</th>\n",
              "      <th>0.4</th>\n",
              "      <th>0.5</th>\n",
              "      <th>0.6</th>\n",
              "      <th>0.7</th>\n",
              "      <th>0.64.2</th>\n",
              "      <th>0.8</th>\n",
              "      <th>0.9</th>\n",
              "      <th>0.10</th>\n",
              "      <th>0.32.1</th>\n",
              "      <th>0.11</th>\n",
              "      <th>1.29</th>\n",
              "      <th>1.93</th>\n",
              "      <th>0.12</th>\n",
              "      <th>0.96</th>\n",
              "      <th>0.13</th>\n",
              "      <th>0.14</th>\n",
              "      <th>0.15</th>\n",
              "      <th>0.16</th>\n",
              "      <th>0.17</th>\n",
              "      <th>0.18</th>\n",
              "      <th>0.19</th>\n",
              "      <th>0.20</th>\n",
              "      <th>0.21</th>\n",
              "      <th>0.22</th>\n",
              "      <th>0.23</th>\n",
              "      <th>0.24</th>\n",
              "      <th>0.25</th>\n",
              "      <th>0.26</th>\n",
              "      <th>0.27</th>\n",
              "      <th>0.28</th>\n",
              "      <th>0.29</th>\n",
              "      <th>0.30</th>\n",
              "      <th>0.31</th>\n",
              "      <th>0.32.2</th>\n",
              "      <th>0.33</th>\n",
              "      <th>0.34</th>\n",
              "      <th>0.35</th>\n",
              "      <th>0.36</th>\n",
              "      <th>0.37</th>\n",
              "      <th>0.38</th>\n",
              "      <th>0.39</th>\n",
              "      <th>0.40</th>\n",
              "      <th>0.41</th>\n",
              "      <th>0.42</th>\n",
              "      <th>0.778</th>\n",
              "      <th>0.43</th>\n",
              "      <th>0.44</th>\n",
              "      <th>3.756</th>\n",
              "      <th>61</th>\n",
              "      <th>278</th>\n",
              "      <th>1</th>\n",
              "    </tr>\n",
              "  </thead>\n",
              "  <tbody>\n",
              "    <tr>\n",
              "      <th>0</th>\n",
              "      <td>0.21</td>\n",
              "      <td>0.28</td>\n",
              "      <td>0.50</td>\n",
              "      <td>0.0</td>\n",
              "      <td>0.14</td>\n",
              "      <td>0.28</td>\n",
              "      <td>0.21</td>\n",
              "      <td>0.07</td>\n",
              "      <td>0.00</td>\n",
              "      <td>0.94</td>\n",
              "      <td>0.21</td>\n",
              "      <td>0.79</td>\n",
              "      <td>0.65</td>\n",
              "      <td>0.21</td>\n",
              "      <td>0.14</td>\n",
              "      <td>0.14</td>\n",
              "      <td>0.07</td>\n",
              "      <td>0.28</td>\n",
              "      <td>3.47</td>\n",
              "      <td>0.00</td>\n",
              "      <td>1.59</td>\n",
              "      <td>0.0</td>\n",
              "      <td>0.43</td>\n",
              "      <td>0.43</td>\n",
              "      <td>0.0</td>\n",
              "      <td>0.0</td>\n",
              "      <td>0.0</td>\n",
              "      <td>0.0</td>\n",
              "      <td>0.0</td>\n",
              "      <td>0.0</td>\n",
              "      <td>0.0</td>\n",
              "      <td>0.0</td>\n",
              "      <td>0.0</td>\n",
              "      <td>0.0</td>\n",
              "      <td>0.0</td>\n",
              "      <td>0.0</td>\n",
              "      <td>0.07</td>\n",
              "      <td>0.0</td>\n",
              "      <td>0.0</td>\n",
              "      <td>0.00</td>\n",
              "      <td>0.0</td>\n",
              "      <td>0.0</td>\n",
              "      <td>0.00</td>\n",
              "      <td>0.0</td>\n",
              "      <td>0.00</td>\n",
              "      <td>0.00</td>\n",
              "      <td>0.0</td>\n",
              "      <td>0.0</td>\n",
              "      <td>0.00</td>\n",
              "      <td>0.132</td>\n",
              "      <td>0.0</td>\n",
              "      <td>0.372</td>\n",
              "      <td>0.180</td>\n",
              "      <td>0.048</td>\n",
              "      <td>5.114</td>\n",
              "      <td>101</td>\n",
              "      <td>1028</td>\n",
              "      <td>1</td>\n",
              "    </tr>\n",
              "    <tr>\n",
              "      <th>1</th>\n",
              "      <td>0.06</td>\n",
              "      <td>0.00</td>\n",
              "      <td>0.71</td>\n",
              "      <td>0.0</td>\n",
              "      <td>1.23</td>\n",
              "      <td>0.19</td>\n",
              "      <td>0.19</td>\n",
              "      <td>0.12</td>\n",
              "      <td>0.64</td>\n",
              "      <td>0.25</td>\n",
              "      <td>0.38</td>\n",
              "      <td>0.45</td>\n",
              "      <td>0.12</td>\n",
              "      <td>0.00</td>\n",
              "      <td>1.75</td>\n",
              "      <td>0.06</td>\n",
              "      <td>0.06</td>\n",
              "      <td>1.03</td>\n",
              "      <td>1.36</td>\n",
              "      <td>0.32</td>\n",
              "      <td>0.51</td>\n",
              "      <td>0.0</td>\n",
              "      <td>1.16</td>\n",
              "      <td>0.06</td>\n",
              "      <td>0.0</td>\n",
              "      <td>0.0</td>\n",
              "      <td>0.0</td>\n",
              "      <td>0.0</td>\n",
              "      <td>0.0</td>\n",
              "      <td>0.0</td>\n",
              "      <td>0.0</td>\n",
              "      <td>0.0</td>\n",
              "      <td>0.0</td>\n",
              "      <td>0.0</td>\n",
              "      <td>0.0</td>\n",
              "      <td>0.0</td>\n",
              "      <td>0.00</td>\n",
              "      <td>0.0</td>\n",
              "      <td>0.0</td>\n",
              "      <td>0.06</td>\n",
              "      <td>0.0</td>\n",
              "      <td>0.0</td>\n",
              "      <td>0.12</td>\n",
              "      <td>0.0</td>\n",
              "      <td>0.06</td>\n",
              "      <td>0.06</td>\n",
              "      <td>0.0</td>\n",
              "      <td>0.0</td>\n",
              "      <td>0.01</td>\n",
              "      <td>0.143</td>\n",
              "      <td>0.0</td>\n",
              "      <td>0.276</td>\n",
              "      <td>0.184</td>\n",
              "      <td>0.010</td>\n",
              "      <td>9.821</td>\n",
              "      <td>485</td>\n",
              "      <td>2259</td>\n",
              "      <td>1</td>\n",
              "    </tr>\n",
              "    <tr>\n",
              "      <th>2</th>\n",
              "      <td>0.00</td>\n",
              "      <td>0.00</td>\n",
              "      <td>0.00</td>\n",
              "      <td>0.0</td>\n",
              "      <td>0.63</td>\n",
              "      <td>0.00</td>\n",
              "      <td>0.31</td>\n",
              "      <td>0.63</td>\n",
              "      <td>0.31</td>\n",
              "      <td>0.63</td>\n",
              "      <td>0.31</td>\n",
              "      <td>0.31</td>\n",
              "      <td>0.31</td>\n",
              "      <td>0.00</td>\n",
              "      <td>0.00</td>\n",
              "      <td>0.31</td>\n",
              "      <td>0.00</td>\n",
              "      <td>0.00</td>\n",
              "      <td>3.18</td>\n",
              "      <td>0.00</td>\n",
              "      <td>0.31</td>\n",
              "      <td>0.0</td>\n",
              "      <td>0.00</td>\n",
              "      <td>0.00</td>\n",
              "      <td>0.0</td>\n",
              "      <td>0.0</td>\n",
              "      <td>0.0</td>\n",
              "      <td>0.0</td>\n",
              "      <td>0.0</td>\n",
              "      <td>0.0</td>\n",
              "      <td>0.0</td>\n",
              "      <td>0.0</td>\n",
              "      <td>0.0</td>\n",
              "      <td>0.0</td>\n",
              "      <td>0.0</td>\n",
              "      <td>0.0</td>\n",
              "      <td>0.00</td>\n",
              "      <td>0.0</td>\n",
              "      <td>0.0</td>\n",
              "      <td>0.00</td>\n",
              "      <td>0.0</td>\n",
              "      <td>0.0</td>\n",
              "      <td>0.00</td>\n",
              "      <td>0.0</td>\n",
              "      <td>0.00</td>\n",
              "      <td>0.00</td>\n",
              "      <td>0.0</td>\n",
              "      <td>0.0</td>\n",
              "      <td>0.00</td>\n",
              "      <td>0.137</td>\n",
              "      <td>0.0</td>\n",
              "      <td>0.137</td>\n",
              "      <td>0.000</td>\n",
              "      <td>0.000</td>\n",
              "      <td>3.537</td>\n",
              "      <td>40</td>\n",
              "      <td>191</td>\n",
              "      <td>1</td>\n",
              "    </tr>\n",
              "    <tr>\n",
              "      <th>3</th>\n",
              "      <td>0.00</td>\n",
              "      <td>0.00</td>\n",
              "      <td>0.00</td>\n",
              "      <td>0.0</td>\n",
              "      <td>0.63</td>\n",
              "      <td>0.00</td>\n",
              "      <td>0.31</td>\n",
              "      <td>0.63</td>\n",
              "      <td>0.31</td>\n",
              "      <td>0.63</td>\n",
              "      <td>0.31</td>\n",
              "      <td>0.31</td>\n",
              "      <td>0.31</td>\n",
              "      <td>0.00</td>\n",
              "      <td>0.00</td>\n",
              "      <td>0.31</td>\n",
              "      <td>0.00</td>\n",
              "      <td>0.00</td>\n",
              "      <td>3.18</td>\n",
              "      <td>0.00</td>\n",
              "      <td>0.31</td>\n",
              "      <td>0.0</td>\n",
              "      <td>0.00</td>\n",
              "      <td>0.00</td>\n",
              "      <td>0.0</td>\n",
              "      <td>0.0</td>\n",
              "      <td>0.0</td>\n",
              "      <td>0.0</td>\n",
              "      <td>0.0</td>\n",
              "      <td>0.0</td>\n",
              "      <td>0.0</td>\n",
              "      <td>0.0</td>\n",
              "      <td>0.0</td>\n",
              "      <td>0.0</td>\n",
              "      <td>0.0</td>\n",
              "      <td>0.0</td>\n",
              "      <td>0.00</td>\n",
              "      <td>0.0</td>\n",
              "      <td>0.0</td>\n",
              "      <td>0.00</td>\n",
              "      <td>0.0</td>\n",
              "      <td>0.0</td>\n",
              "      <td>0.00</td>\n",
              "      <td>0.0</td>\n",
              "      <td>0.00</td>\n",
              "      <td>0.00</td>\n",
              "      <td>0.0</td>\n",
              "      <td>0.0</td>\n",
              "      <td>0.00</td>\n",
              "      <td>0.135</td>\n",
              "      <td>0.0</td>\n",
              "      <td>0.135</td>\n",
              "      <td>0.000</td>\n",
              "      <td>0.000</td>\n",
              "      <td>3.537</td>\n",
              "      <td>40</td>\n",
              "      <td>191</td>\n",
              "      <td>1</td>\n",
              "    </tr>\n",
              "    <tr>\n",
              "      <th>4</th>\n",
              "      <td>0.00</td>\n",
              "      <td>0.00</td>\n",
              "      <td>0.00</td>\n",
              "      <td>0.0</td>\n",
              "      <td>1.85</td>\n",
              "      <td>0.00</td>\n",
              "      <td>0.00</td>\n",
              "      <td>1.85</td>\n",
              "      <td>0.00</td>\n",
              "      <td>0.00</td>\n",
              "      <td>0.00</td>\n",
              "      <td>0.00</td>\n",
              "      <td>0.00</td>\n",
              "      <td>0.00</td>\n",
              "      <td>0.00</td>\n",
              "      <td>0.00</td>\n",
              "      <td>0.00</td>\n",
              "      <td>0.00</td>\n",
              "      <td>0.00</td>\n",
              "      <td>0.00</td>\n",
              "      <td>0.00</td>\n",
              "      <td>0.0</td>\n",
              "      <td>0.00</td>\n",
              "      <td>0.00</td>\n",
              "      <td>0.0</td>\n",
              "      <td>0.0</td>\n",
              "      <td>0.0</td>\n",
              "      <td>0.0</td>\n",
              "      <td>0.0</td>\n",
              "      <td>0.0</td>\n",
              "      <td>0.0</td>\n",
              "      <td>0.0</td>\n",
              "      <td>0.0</td>\n",
              "      <td>0.0</td>\n",
              "      <td>0.0</td>\n",
              "      <td>0.0</td>\n",
              "      <td>0.00</td>\n",
              "      <td>0.0</td>\n",
              "      <td>0.0</td>\n",
              "      <td>0.00</td>\n",
              "      <td>0.0</td>\n",
              "      <td>0.0</td>\n",
              "      <td>0.00</td>\n",
              "      <td>0.0</td>\n",
              "      <td>0.00</td>\n",
              "      <td>0.00</td>\n",
              "      <td>0.0</td>\n",
              "      <td>0.0</td>\n",
              "      <td>0.00</td>\n",
              "      <td>0.223</td>\n",
              "      <td>0.0</td>\n",
              "      <td>0.000</td>\n",
              "      <td>0.000</td>\n",
              "      <td>0.000</td>\n",
              "      <td>3.000</td>\n",
              "      <td>15</td>\n",
              "      <td>54</td>\n",
              "      <td>1</td>\n",
              "    </tr>\n",
              "  </tbody>\n",
              "</table>\n",
              "</div>"
            ],
            "text/plain": [
              "      0  0.64  0.64.1  0.1  0.32   0.2  ...   0.43   0.44  3.756   61   278  1\n",
              "0  0.21  0.28    0.50  0.0  0.14  0.28  ...  0.180  0.048  5.114  101  1028  1\n",
              "1  0.06  0.00    0.71  0.0  1.23  0.19  ...  0.184  0.010  9.821  485  2259  1\n",
              "2  0.00  0.00    0.00  0.0  0.63  0.00  ...  0.000  0.000  3.537   40   191  1\n",
              "3  0.00  0.00    0.00  0.0  0.63  0.00  ...  0.000  0.000  3.537   40   191  1\n",
              "4  0.00  0.00    0.00  0.0  1.85  0.00  ...  0.000  0.000  3.000   15    54  1\n",
              "\n",
              "[5 rows x 58 columns]"
            ]
          },
          "metadata": {
            "tags": []
          },
          "execution_count": 4
        }
      ]
    },
    {
      "cell_type": "code",
      "metadata": {
        "id": "C3LsMhdlKTsU",
        "colab_type": "code",
        "outputId": "e954c86e-3fb1-436e-fadd-657588a352ea",
        "colab": {
          "base_uri": "https://localhost:8080/",
          "height": 88
        }
      },
      "source": [
        "# checking for the number of records in the dataset\n",
        "print(titanic.shape)\n",
        "print('*'*200)\n",
        "spambase.shape"
      ],
      "execution_count": 5,
      "outputs": [
        {
          "output_type": "stream",
          "text": [
            "(891, 12)\n",
            "********************************************************************************************************************************************************************************************************\n"
          ],
          "name": "stdout"
        },
        {
          "output_type": "execute_result",
          "data": {
            "text/plain": [
              "(4600, 58)"
            ]
          },
          "metadata": {
            "tags": []
          },
          "execution_count": 5
        }
      ]
    },
    {
      "cell_type": "markdown",
      "metadata": {
        "id": "q-aromBHKhkb",
        "colab_type": "text"
      },
      "source": [
        "\n",
        "\n",
        "*   there are 891 rows and 12 labels in the titanic database\n",
        "*   there are 4600 rows and 58 labels\n",
        "\n"
      ]
    },
    {
      "cell_type": "code",
      "metadata": {
        "id": "Im6dVve0K1kk",
        "colab_type": "code",
        "outputId": "0770f727-0b0d-4bdb-a453-fba6be53ea1c",
        "colab": {
          "base_uri": "https://localhost:8080/",
          "height": 1000
        }
      },
      "source": [
        "# checking for the infomation about the datasets\n",
        "print(titanic.info())\n",
        "print('*'*200)\n",
        "spambase.info()"
      ],
      "execution_count": 6,
      "outputs": [
        {
          "output_type": "stream",
          "text": [
            "<class 'pandas.core.frame.DataFrame'>\n",
            "RangeIndex: 891 entries, 0 to 890\n",
            "Data columns (total 12 columns):\n",
            "PassengerId    891 non-null int64\n",
            "Survived       891 non-null int64\n",
            "Pclass         891 non-null int64\n",
            "Name           891 non-null object\n",
            "Sex            891 non-null object\n",
            "Age            714 non-null float64\n",
            "SibSp          891 non-null int64\n",
            "Parch          891 non-null int64\n",
            "Ticket         891 non-null object\n",
            "Fare           891 non-null float64\n",
            "Cabin          204 non-null object\n",
            "Embarked       889 non-null object\n",
            "dtypes: float64(2), int64(5), object(5)\n",
            "memory usage: 83.7+ KB\n",
            "None\n",
            "********************************************************************************************************************************************************************************************************\n",
            "<class 'pandas.core.frame.DataFrame'>\n",
            "RangeIndex: 4600 entries, 0 to 4599\n",
            "Data columns (total 58 columns):\n",
            "0         4600 non-null float64\n",
            "0.64      4600 non-null float64\n",
            "0.64.1    4600 non-null float64\n",
            "0.1       4600 non-null float64\n",
            "0.32      4600 non-null float64\n",
            "0.2       4600 non-null float64\n",
            "0.3       4600 non-null float64\n",
            "0.4       4600 non-null float64\n",
            "0.5       4600 non-null float64\n",
            "0.6       4600 non-null float64\n",
            "0.7       4600 non-null float64\n",
            "0.64.2    4600 non-null float64\n",
            "0.8       4600 non-null float64\n",
            "0.9       4600 non-null float64\n",
            "0.10      4600 non-null float64\n",
            "0.32.1    4600 non-null float64\n",
            "0.11      4600 non-null float64\n",
            "1.29      4600 non-null float64\n",
            "1.93      4600 non-null float64\n",
            "0.12      4600 non-null float64\n",
            "0.96      4600 non-null float64\n",
            "0.13      4600 non-null float64\n",
            "0.14      4600 non-null float64\n",
            "0.15      4600 non-null float64\n",
            "0.16      4600 non-null float64\n",
            "0.17      4600 non-null float64\n",
            "0.18      4600 non-null float64\n",
            "0.19      4600 non-null float64\n",
            "0.20      4600 non-null float64\n",
            "0.21      4600 non-null float64\n",
            "0.22      4600 non-null float64\n",
            "0.23      4600 non-null float64\n",
            "0.24      4600 non-null float64\n",
            "0.25      4600 non-null float64\n",
            "0.26      4600 non-null float64\n",
            "0.27      4600 non-null float64\n",
            "0.28      4600 non-null float64\n",
            "0.29      4600 non-null float64\n",
            "0.30      4600 non-null float64\n",
            "0.31      4600 non-null float64\n",
            "0.32.2    4600 non-null float64\n",
            "0.33      4600 non-null float64\n",
            "0.34      4600 non-null float64\n",
            "0.35      4600 non-null float64\n",
            "0.36      4600 non-null float64\n",
            "0.37      4600 non-null float64\n",
            "0.38      4600 non-null float64\n",
            "0.39      4600 non-null float64\n",
            "0.40      4600 non-null float64\n",
            "0.41      4600 non-null float64\n",
            "0.42      4600 non-null float64\n",
            "0.778     4600 non-null float64\n",
            "0.43      4600 non-null float64\n",
            "0.44      4600 non-null float64\n",
            "3.756     4600 non-null float64\n",
            "61        4600 non-null int64\n",
            "278       4600 non-null int64\n",
            "1         4600 non-null int64\n",
            "dtypes: float64(55), int64(3)\n",
            "memory usage: 2.0 MB\n"
          ],
          "name": "stdout"
        }
      ]
    },
    {
      "cell_type": "markdown",
      "metadata": {
        "id": "rD_paBLXLI0v",
        "colab_type": "text"
      },
      "source": [
        "\n",
        "*   there are 7 numerical datapoints and 5 categorical datapoints in titanic datasets\n",
        "\n",
        "*   all of the datapoints in the spambase dataset are numerical, that is 58 datapoints\n",
        "\n"
      ]
    },
    {
      "cell_type": "code",
      "metadata": {
        "id": "T9WcSd9XMH62",
        "colab_type": "code",
        "outputId": "bfef63fb-910f-447a-a81f-9aa12bdfd6d5",
        "colab": {
          "base_uri": "https://localhost:8080/",
          "height": 241
        }
      },
      "source": [
        "# checking the column names\n",
        "print('titanic columns: ',titanic.columns)\n",
        "print('*'*200)\n",
        "print('spambase columns: ', spambase.columns)"
      ],
      "execution_count": 7,
      "outputs": [
        {
          "output_type": "stream",
          "text": [
            "titanic columns:  Index(['PassengerId', 'Survived', 'Pclass', 'Name', 'Sex', 'Age', 'SibSp',\n",
            "       'Parch', 'Ticket', 'Fare', 'Cabin', 'Embarked'],\n",
            "      dtype='object')\n",
            "********************************************************************************************************************************************************************************************************\n",
            "spambase columns:  Index(['0', '0.64', '0.64.1', '0.1', '0.32', '0.2', '0.3', '0.4', '0.5', '0.6',\n",
            "       '0.7', '0.64.2', '0.8', '0.9', '0.10', '0.32.1', '0.11', '1.29', '1.93',\n",
            "       '0.12', '0.96', '0.13', '0.14', '0.15', '0.16', '0.17', '0.18', '0.19',\n",
            "       '0.20', '0.21', '0.22', '0.23', '0.24', '0.25', '0.26', '0.27', '0.28',\n",
            "       '0.29', '0.30', '0.31', '0.32.2', '0.33', '0.34', '0.35', '0.36',\n",
            "       '0.37', '0.38', '0.39', '0.40', '0.41', '0.42', '0.778', '0.43', '0.44',\n",
            "       '3.756', '61', '278', '1'],\n",
            "      dtype='object')\n"
          ],
          "name": "stdout"
        }
      ]
    },
    {
      "cell_type": "markdown",
      "metadata": {
        "id": "GATT40ocM6vq",
        "colab_type": "text"
      },
      "source": [
        "the titanic dataset has unstandardised naming. feature engineering should be done so as to get uniform column names "
      ]
    },
    {
      "cell_type": "markdown",
      "metadata": {
        "id": "FlBMxEDBUc9B",
        "colab_type": "text"
      },
      "source": [
        "## 5. Feature Engineering"
      ]
    },
    {
      "cell_type": "code",
      "metadata": {
        "id": "KeHfQY_1NQG0",
        "colab_type": "code",
        "colab": {}
      },
      "source": [
        "# standardising the column names\n",
        "titanic.columns = titanic.columns.str.lower()"
      ],
      "execution_count": 0,
      "outputs": []
    },
    {
      "cell_type": "markdown",
      "metadata": {
        "id": "rLDEH2ePRTsN",
        "colab_type": "text"
      },
      "source": [
        "we are going to remove some feature that are unnecessary in the titanic dataset"
      ]
    },
    {
      "cell_type": "code",
      "metadata": {
        "id": "BTMKxgjLRfhd",
        "colab_type": "code",
        "outputId": "291b4a8f-bcab-49e9-bba0-88819a425747",
        "colab": {
          "base_uri": "https://localhost:8080/",
          "height": 255
        }
      },
      "source": [
        "titanic.head()"
      ],
      "execution_count": 9,
      "outputs": [
        {
          "output_type": "execute_result",
          "data": {
            "text/html": [
              "<div>\n",
              "<style scoped>\n",
              "    .dataframe tbody tr th:only-of-type {\n",
              "        vertical-align: middle;\n",
              "    }\n",
              "\n",
              "    .dataframe tbody tr th {\n",
              "        vertical-align: top;\n",
              "    }\n",
              "\n",
              "    .dataframe thead th {\n",
              "        text-align: right;\n",
              "    }\n",
              "</style>\n",
              "<table border=\"1\" class=\"dataframe\">\n",
              "  <thead>\n",
              "    <tr style=\"text-align: right;\">\n",
              "      <th></th>\n",
              "      <th>passengerid</th>\n",
              "      <th>survived</th>\n",
              "      <th>pclass</th>\n",
              "      <th>name</th>\n",
              "      <th>sex</th>\n",
              "      <th>age</th>\n",
              "      <th>sibsp</th>\n",
              "      <th>parch</th>\n",
              "      <th>ticket</th>\n",
              "      <th>fare</th>\n",
              "      <th>cabin</th>\n",
              "      <th>embarked</th>\n",
              "    </tr>\n",
              "  </thead>\n",
              "  <tbody>\n",
              "    <tr>\n",
              "      <th>0</th>\n",
              "      <td>1</td>\n",
              "      <td>0</td>\n",
              "      <td>3</td>\n",
              "      <td>Braund, Mr. Owen Harris</td>\n",
              "      <td>male</td>\n",
              "      <td>22.0</td>\n",
              "      <td>1</td>\n",
              "      <td>0</td>\n",
              "      <td>A/5 21171</td>\n",
              "      <td>7.2500</td>\n",
              "      <td>NaN</td>\n",
              "      <td>S</td>\n",
              "    </tr>\n",
              "    <tr>\n",
              "      <th>1</th>\n",
              "      <td>2</td>\n",
              "      <td>1</td>\n",
              "      <td>1</td>\n",
              "      <td>Cumings, Mrs. John Bradley (Florence Briggs Th...</td>\n",
              "      <td>female</td>\n",
              "      <td>38.0</td>\n",
              "      <td>1</td>\n",
              "      <td>0</td>\n",
              "      <td>PC 17599</td>\n",
              "      <td>71.2833</td>\n",
              "      <td>C85</td>\n",
              "      <td>C</td>\n",
              "    </tr>\n",
              "    <tr>\n",
              "      <th>2</th>\n",
              "      <td>3</td>\n",
              "      <td>1</td>\n",
              "      <td>3</td>\n",
              "      <td>Heikkinen, Miss. Laina</td>\n",
              "      <td>female</td>\n",
              "      <td>26.0</td>\n",
              "      <td>0</td>\n",
              "      <td>0</td>\n",
              "      <td>STON/O2. 3101282</td>\n",
              "      <td>7.9250</td>\n",
              "      <td>NaN</td>\n",
              "      <td>S</td>\n",
              "    </tr>\n",
              "    <tr>\n",
              "      <th>3</th>\n",
              "      <td>4</td>\n",
              "      <td>1</td>\n",
              "      <td>1</td>\n",
              "      <td>Futrelle, Mrs. Jacques Heath (Lily May Peel)</td>\n",
              "      <td>female</td>\n",
              "      <td>35.0</td>\n",
              "      <td>1</td>\n",
              "      <td>0</td>\n",
              "      <td>113803</td>\n",
              "      <td>53.1000</td>\n",
              "      <td>C123</td>\n",
              "      <td>S</td>\n",
              "    </tr>\n",
              "    <tr>\n",
              "      <th>4</th>\n",
              "      <td>5</td>\n",
              "      <td>0</td>\n",
              "      <td>3</td>\n",
              "      <td>Allen, Mr. William Henry</td>\n",
              "      <td>male</td>\n",
              "      <td>35.0</td>\n",
              "      <td>0</td>\n",
              "      <td>0</td>\n",
              "      <td>373450</td>\n",
              "      <td>8.0500</td>\n",
              "      <td>NaN</td>\n",
              "      <td>S</td>\n",
              "    </tr>\n",
              "  </tbody>\n",
              "</table>\n",
              "</div>"
            ],
            "text/plain": [
              "   passengerid  survived  pclass  ...     fare cabin  embarked\n",
              "0            1         0       3  ...   7.2500   NaN         S\n",
              "1            2         1       1  ...  71.2833   C85         C\n",
              "2            3         1       3  ...   7.9250   NaN         S\n",
              "3            4         1       1  ...  53.1000  C123         S\n",
              "4            5         0       3  ...   8.0500   NaN         S\n",
              "\n",
              "[5 rows x 12 columns]"
            ]
          },
          "metadata": {
            "tags": []
          },
          "execution_count": 9
        }
      ]
    },
    {
      "cell_type": "code",
      "metadata": {
        "id": "UYRLxJtvRSrn",
        "colab_type": "code",
        "colab": {}
      },
      "source": [
        "titanic.drop(['passengerid', 'ticket', 'name'], 1, inplace=True)"
      ],
      "execution_count": 0,
      "outputs": []
    },
    {
      "cell_type": "code",
      "metadata": {
        "id": "0KcwPCZlQRVe",
        "colab_type": "code",
        "outputId": "e31a720c-996a-4e2a-9f56-1f2a37323eea",
        "colab": {
          "base_uri": "https://localhost:8080/",
          "height": 88
        }
      },
      "source": [
        "# checking for missing values\n",
        "print(titanic.isnull().sum().sum())\n",
        "print('*'*200)\n",
        "spambase.isnull().sum().sum()\n"
      ],
      "execution_count": 11,
      "outputs": [
        {
          "output_type": "stream",
          "text": [
            "866\n",
            "********************************************************************************************************************************************************************************************************\n"
          ],
          "name": "stdout"
        },
        {
          "output_type": "execute_result",
          "data": {
            "text/plain": [
              "0"
            ]
          },
          "metadata": {
            "tags": []
          },
          "execution_count": 11
        }
      ]
    },
    {
      "cell_type": "markdown",
      "metadata": {
        "id": "JFBdk6nkQz6j",
        "colab_type": "text"
      },
      "source": [
        "there are 866 missing data values in the titanic dataset while spambase has none"
      ]
    },
    {
      "cell_type": "code",
      "metadata": {
        "id": "KOIXRuEvQ_ce",
        "colab_type": "code",
        "outputId": "ebb3ab2a-6a74-4bbc-f5d7-9b98a3d38d1d",
        "colab": {
          "base_uri": "https://localhost:8080/",
          "height": 187
        }
      },
      "source": [
        "#focusing on the titanic dataset so that we can deal with the mising values\n",
        "titanic.isnull().sum()"
      ],
      "execution_count": 12,
      "outputs": [
        {
          "output_type": "execute_result",
          "data": {
            "text/plain": [
              "survived      0\n",
              "pclass        0\n",
              "sex           0\n",
              "age         177\n",
              "sibsp         0\n",
              "parch         0\n",
              "fare          0\n",
              "cabin       687\n",
              "embarked      2\n",
              "dtype: int64"
            ]
          },
          "metadata": {
            "tags": []
          },
          "execution_count": 12
        }
      ]
    },
    {
      "cell_type": "markdown",
      "metadata": {
        "id": "hjlEbH3tRNEa",
        "colab_type": "text"
      },
      "source": [
        "there are 117, 687 and 2 missing values in age, cabin and embarked features respectively"
      ]
    },
    {
      "cell_type": "code",
      "metadata": {
        "id": "X-Sc28nmSO_0",
        "colab_type": "code",
        "outputId": "5c578675-0eb6-4501-e583-67b860799997",
        "colab": {
          "base_uri": "https://localhost:8080/",
          "height": 51
        }
      },
      "source": [
        "# we are going to fill the embarked feature with the most frequent data entry\n",
        "mode = titanic.embarked.mode()\n",
        "print (mode)\n",
        "\n",
        "titanic.embarked.fillna('S', inplace=True)"
      ],
      "execution_count": 13,
      "outputs": [
        {
          "output_type": "stream",
          "text": [
            "0    S\n",
            "dtype: object\n"
          ],
          "name": "stdout"
        }
      ]
    },
    {
      "cell_type": "markdown",
      "metadata": {
        "id": "PSp55ZU4SvLD",
        "colab_type": "text"
      },
      "source": [
        "we have filled embarked feature using the most frequent data entry"
      ]
    },
    {
      "cell_type": "code",
      "metadata": {
        "id": "MkHxW4itSsUR",
        "colab_type": "code",
        "colab": {}
      },
      "source": [
        "# for the cabin we are going to drop it\n",
        "titanic.drop('cabin', 1, inplace=True)"
      ],
      "execution_count": 0,
      "outputs": []
    },
    {
      "cell_type": "markdown",
      "metadata": {
        "id": "2YzTZeCrTGYL",
        "colab_type": "text"
      },
      "source": [
        "The reason behind this is that cabin has a lot of miising data, 687/891. this is more than 50% of the data."
      ]
    },
    {
      "cell_type": "code",
      "metadata": {
        "id": "k1mQU7BoTFxA",
        "colab_type": "code",
        "outputId": "819a6676-7090-4ec1-f324-37fff5f879a1",
        "colab": {
          "base_uri": "https://localhost:8080/",
          "height": 34
        }
      },
      "source": [
        "# AGE\n",
        "# get the skewness of the feature\n",
        "titanic.age.skew()\n"
      ],
      "execution_count": 15,
      "outputs": [
        {
          "output_type": "execute_result",
          "data": {
            "text/plain": [
              "0.38910778230082704"
            ]
          },
          "metadata": {
            "tags": []
          },
          "execution_count": 15
        }
      ]
    },
    {
      "cell_type": "markdown",
      "metadata": {
        "id": "W8udxZIKZUeG",
        "colab_type": "text"
      },
      "source": [
        "the skew is positive. so we are going to fill it with the mean so that we can try and achieve symmetry "
      ]
    },
    {
      "cell_type": "code",
      "metadata": {
        "id": "oVIcyKyQZvXB",
        "colab_type": "code",
        "colab": {}
      },
      "source": [
        "titanic.age.fillna(titanic.age.median(),inplace= True)"
      ],
      "execution_count": 0,
      "outputs": []
    },
    {
      "cell_type": "code",
      "metadata": {
        "id": "sE7V2hweaCJJ",
        "colab_type": "code",
        "outputId": "90774b9f-3b3a-42af-ff35-0ecb0e646025",
        "colab": {
          "base_uri": "https://localhost:8080/",
          "height": 170
        }
      },
      "source": [
        "# checking whether the null values have been dealt with successfully\n",
        "titanic.isnull().sum()"
      ],
      "execution_count": 17,
      "outputs": [
        {
          "output_type": "execute_result",
          "data": {
            "text/plain": [
              "survived    0\n",
              "pclass      0\n",
              "sex         0\n",
              "age         0\n",
              "sibsp       0\n",
              "parch       0\n",
              "fare        0\n",
              "embarked    0\n",
              "dtype: int64"
            ]
          },
          "metadata": {
            "tags": []
          },
          "execution_count": 17
        }
      ]
    },
    {
      "cell_type": "markdown",
      "metadata": {
        "id": "QimDhu6wbwW7",
        "colab_type": "text"
      },
      "source": [
        "all the missing data has been removed. Lets check for the duplicates"
      ]
    },
    {
      "cell_type": "code",
      "metadata": {
        "id": "oFjX-y9BbvKe",
        "colab_type": "code",
        "outputId": "332ba73c-6cf9-44e2-f33a-f37237bbbe80",
        "colab": {
          "base_uri": "https://localhost:8080/",
          "height": 88
        }
      },
      "source": [
        "# duplicates\n",
        "print(titanic.duplicated().sum())\n",
        "print('*'*200)\n",
        "spambase.duplicated().sum()\n"
      ],
      "execution_count": 18,
      "outputs": [
        {
          "output_type": "stream",
          "text": [
            "116\n",
            "********************************************************************************************************************************************************************************************************\n"
          ],
          "name": "stdout"
        },
        {
          "output_type": "execute_result",
          "data": {
            "text/plain": [
              "391"
            ]
          },
          "metadata": {
            "tags": []
          },
          "execution_count": 18
        }
      ]
    },
    {
      "cell_type": "markdown",
      "metadata": {
        "id": "M0DCGhHkcQj4",
        "colab_type": "text"
      },
      "source": [
        "there are 111 and 391 duplicates in titanic and spambase datasets respectively"
      ]
    },
    {
      "cell_type": "code",
      "metadata": {
        "id": "jhe2noh-cjcb",
        "colab_type": "code",
        "colab": {}
      },
      "source": [
        "# droppping all the duplicates\n",
        "\n",
        "titanic.drop_duplicates(inplace=True)\n",
        "spambase.drop_duplicates(inplace=True)"
      ],
      "execution_count": 0,
      "outputs": []
    },
    {
      "cell_type": "code",
      "metadata": {
        "id": "dXAgJfKUcyTS",
        "colab_type": "code",
        "outputId": "0f19c295-19de-4384-d56e-9fc2cb207455",
        "colab": {
          "base_uri": "https://localhost:8080/",
          "height": 88
        }
      },
      "source": [
        "# checking whether all the duplicates have been dropped\n",
        "print(titanic.duplicated().sum())\n",
        "print('*'*200)\n",
        "spambase.duplicated().sum()\n"
      ],
      "execution_count": 20,
      "outputs": [
        {
          "output_type": "stream",
          "text": [
            "0\n",
            "********************************************************************************************************************************************************************************************************\n"
          ],
          "name": "stdout"
        },
        {
          "output_type": "execute_result",
          "data": {
            "text/plain": [
              "0"
            ]
          },
          "metadata": {
            "tags": []
          },
          "execution_count": 20
        }
      ]
    },
    {
      "cell_type": "markdown",
      "metadata": {
        "id": "_q0LGTcJdK6j",
        "colab_type": "text"
      },
      "source": [
        "all of the duplicated data has been dropped. now we can head on and do some label encoding"
      ]
    },
    {
      "cell_type": "code",
      "metadata": {
        "id": "btrSsewgfEm5",
        "colab_type": "code",
        "colab": {}
      },
      "source": [
        "# label encoding our data\n",
        "from sklearn.preprocessing import LabelEncoder as LE\n",
        "\n",
        "le = LE()\n",
        "\n",
        "titanic.sex = le.fit_transform(titanic.sex)\n",
        "titanic.embarked = le.fit_transform(titanic.embarked)"
      ],
      "execution_count": 0,
      "outputs": []
    },
    {
      "cell_type": "markdown",
      "metadata": {
        "id": "rF2ABPsHUtbZ",
        "colab_type": "text"
      },
      "source": [
        "##**6.0 Exploratory Analysis - Titanic Dataset**"
      ]
    },
    {
      "cell_type": "markdown",
      "metadata": {
        "id": "lzraYlImU-ke",
        "colab_type": "text"
      },
      "source": [
        "# Univariate Analysis"
      ]
    },
    {
      "cell_type": "code",
      "metadata": {
        "id": "rF3FC90Pl7n5",
        "colab_type": "code",
        "outputId": "3a489351-3bdd-41df-d306-26bdde7cb2d6",
        "colab": {
          "base_uri": "https://localhost:8080/",
          "height": 627
        }
      },
      "source": [
        "f, ax= plt.subplots(1,2, figsize=(15, 10))\n",
        "titanic.survived.value_counts().plot.pie(explode=[0, 0.1], autopct='%1.1f%%',ax=ax[0], shadow=True)\n",
        "ax[0].set_title('Survived', fontsize=20)\n",
        "sns.countplot('survived', data=titanic)\n",
        "ax[1].set_title('Survived', fontsize=20)\n",
        "plt.show()"
      ],
      "execution_count": 22,
      "outputs": [
        {
          "output_type": "display_data",
          "data": {
            "image/png": "[encoded data removed]",
            "text/plain": [
              "<Figure size 1080x720 with 2 Axes>"
            ]
          },
          "metadata": {
            "tags": []
          }
        }
      ]
    },
    {
      "cell_type": "markdown",
      "metadata": {
        "id": "XZVAt2LwpLwx",
        "colab_type": "text"
      },
      "source": [
        "the number of passengers who did not survive was more than those who did"
      ]
    },
    {
      "cell_type": "code",
      "metadata": {
        "id": "RIK89N6zphK6",
        "colab_type": "code",
        "outputId": "6ccae95d-ce31-4f7c-8529-2a9203419926",
        "colab": {
          "base_uri": "https://localhost:8080/",
          "height": 260
        }
      },
      "source": [
        "fig = plt.figure(figsize=(14,2))\n",
        "sns.countplot(y='pclass', data=titanic)\n",
        "plt.title('Classes', fontsize=20)\n",
        "print(titanic.pclass.value_counts())"
      ],
      "execution_count": 23,
      "outputs": [
        {
          "output_type": "stream",
          "text": [
            "3    401\n",
            "1    210\n",
            "2    164\n",
            "Name: pclass, dtype: int64\n"
          ],
          "name": "stdout"
        },
        {
          "output_type": "display_data",
          "data": {
            "image/png": "[encoded data removed]",
            "text/plain": [
              "<Figure size 1008x144 with 1 Axes>"
            ]
          },
          "metadata": {
            "tags": []
          }
        }
      ]
    },
    {
      "cell_type": "markdown",
      "metadata": {
        "id": "661JR5kMskZA",
        "colab_type": "text"
      },
      "source": [
        "most of the passengers who were on board were in class 3"
      ]
    },
    {
      "cell_type": "code",
      "metadata": {
        "id": "SzdQivEmsus4",
        "colab_type": "code",
        "outputId": "7e03dd04-ad06-4d48-b708-30e64d4a0f76",
        "colab": {
          "base_uri": "https://localhost:8080/",
          "height": 432
        }
      },
      "source": [
        "fig = plt.figure(figsize=(20,7))\n",
        "titanic.sex.value_counts().plot.pie(explode=[0, 0.1], autopct='%1.1f%%', shadow=True)\n",
        "plt.title('Sex', fontsize=20)\n",
        "plt.show()"
      ],
      "execution_count": 24,
      "outputs": [
        {
          "output_type": "display_data",
          "data": {
            "image/png": "[encoded data removed]",
            "text/plain": [
              "<Figure size 1440x504 with 1 Axes>"
            ]
          },
          "metadata": {
            "tags": []
          }
        }
      ]
    },
    {
      "cell_type": "markdown",
      "metadata": {
        "id": "nr1epFA6tzwZ",
        "colab_type": "text"
      },
      "source": [
        "male was labelled as 1, therefore the males who were on board the titanic were more than females."
      ]
    },
    {
      "cell_type": "code",
      "metadata": {
        "id": "Qk0-FDlsvQ-R",
        "colab_type": "code",
        "outputId": "6ad0133b-e66d-42bd-e32e-88ffdee339fe",
        "colab": {
          "base_uri": "https://localhost:8080/",
          "height": 468
        }
      },
      "source": [
        "plt.figure(figsize=(15,7))\n",
        "sns.distplot(titanic.age)\n",
        "plt.title('Age', fontsize=20)\n",
        "plt.xlabel('Age', fontsize=15)\n",
        "plt.ylabel('Count', fontsize=15)\n",
        "plt.show()"
      ],
      "execution_count": 25,
      "outputs": [
        {
          "output_type": "display_data",
          "data": {
            "image/png": "[encoded data removed]",
            "text/plain": [
              "<Figure size 1080x504 with 1 Axes>"
            ]
          },
          "metadata": {
            "tags": []
          }
        }
      ]
    },
    {
      "cell_type": "markdown",
      "metadata": {
        "id": "rtHPzeWO0YcK",
        "colab_type": "text"
      },
      "source": [
        "Most of the data is distributed between 20 and 40"
      ]
    },
    {
      "cell_type": "code",
      "metadata": {
        "id": "vhDYy8C70gNV",
        "colab_type": "code",
        "outputId": "8d417071-c3d0-45de-c999-ca2afa729bef",
        "colab": {
          "base_uri": "https://localhost:8080/",
          "height": 492
        }
      },
      "source": [
        "plt.figure(figsize=(10,5))\n",
        "titanic.sibsp.value_counts().plot.bar()\n",
        "plt.title('Siblings/Spouse', fontsize=20)\n",
        "plt.xlabel('Number of Siblings/Spouse', fontsize=15)\n",
        "plt.ylabel('Count', fontsize=15)\n",
        "print(titanic.sibsp.value_counts())\n",
        "plt.show()"
      ],
      "execution_count": 26,
      "outputs": [
        {
          "output_type": "stream",
          "text": [
            "0    508\n",
            "1    201\n",
            "2     27\n",
            "4     18\n",
            "3     14\n",
            "5      5\n",
            "8      2\n",
            "Name: sibsp, dtype: int64\n"
          ],
          "name": "stdout"
        },
        {
          "output_type": "display_data",
          "data": {
            "image/png": "[encoded data removed]",
            "text/plain": [
              "<Figure size 720x360 with 1 Axes>"
            ]
          },
          "metadata": {
            "tags": []
          }
        }
      ]
    },
    {
      "cell_type": "markdown",
      "metadata": {
        "id": "p1QbWs182Wac",
        "colab_type": "text"
      },
      "source": [
        "most of the passengers neither had a spouse nor a sibling."
      ]
    },
    {
      "cell_type": "code",
      "metadata": {
        "id": "R31x9Ntl3BGI",
        "colab_type": "code",
        "outputId": "6cf2c06f-405e-460b-ac27-4499692deae2",
        "colab": {
          "base_uri": "https://localhost:8080/",
          "height": 360
        }
      },
      "source": [
        "plt.figure(figsize=(15,5))\n",
        "sns.distplot(titanic.fare)\n",
        "plt.title('Fare', fontsize=20)\n",
        "plt.xlabel('fare', fontsize=15)\n",
        "plt.ylabel('count', fontsize=15)\n",
        "plt.show()"
      ],
      "execution_count": 27,
      "outputs": [
        {
          "output_type": "display_data",
          "data": {
            "image/png": "[encoded data removed]",
            "text/plain": [
              "<Figure size 1080x360 with 1 Axes>"
            ]
          },
          "metadata": {
            "tags": []
          }
        }
      ]
    },
    {
      "cell_type": "markdown",
      "metadata": {
        "id": "smf_pVui3g1R",
        "colab_type": "text"
      },
      "source": [
        "most of the fare is distributed between 0 and 50"
      ]
    },
    {
      "cell_type": "code",
      "metadata": {
        "id": "6Tq-4Vfh2p9z",
        "colab_type": "code",
        "outputId": "5f69ae8f-189e-4a40-972d-5bb105e7c944",
        "colab": {
          "base_uri": "https://localhost:8080/",
          "height": 432
        }
      },
      "source": [
        "plt.figure(figsize=(15,7))\n",
        "titanic.embarked.value_counts().plot.pie(explode=[0,0,0.2], autopct='%1.1f%%', shadow=True)\n",
        "plt.title('Embarked', fontsize=20)\n",
        "plt.show()"
      ],
      "execution_count": 28,
      "outputs": [
        {
          "output_type": "display_data",
          "data": {
            "image/png": "[encoded data removed]",
            "text/plain": [
              "<Figure size 1080x504 with 1 Axes>"
            ]
          },
          "metadata": {
            "tags": []
          }
        }
      ]
    },
    {
      "cell_type": "markdown",
      "metadata": {
        "id": "j-Z9ljlRPYSb",
        "colab_type": "text"
      },
      "source": [
        "most of the passengers who boarded the ship was at 2, which is southampton"
      ]
    },
    {
      "cell_type": "markdown",
      "metadata": {
        "id": "gaglpA9k8BK4",
        "colab_type": "text"
      },
      "source": [
        "**Bivariate Analysis**- Titanic\n",
        "\n"
      ]
    },
    {
      "cell_type": "code",
      "metadata": {
        "id": "gnOuFTED88g3",
        "colab_type": "code",
        "outputId": "cdec5910-bb96-4689-f54c-b99f57fcf2cb",
        "colab": {
          "base_uri": "https://localhost:8080/",
          "height": 489
        }
      },
      "source": [
        "ship = titanic.corr()\n",
        "mask = np.zeros_like(ship)\n",
        "mask[np.triu_indices_from(mask)] = True\n",
        "plt.figure(figsize=(10,8))\n",
        "sns.heatmap(ship, mask=mask, annot=True, linewidths=0.2, annot_kws={'size':10})\n",
        "plt.show()"
      ],
      "execution_count": 29,
      "outputs": [
        {
          "output_type": "display_data",
          "data": {
            "image/png": "[encoded data removed]",
            "text/plain": [
              "<Figure size 720x576 with 2 Axes>"
            ]
          },
          "metadata": {
            "tags": []
          }
        }
      ]
    },
    {
      "cell_type": "markdown",
      "metadata": {
        "id": "RwoOJNJ_-HSW",
        "colab_type": "text"
      },
      "source": [
        "all of the features have a week corelation with the dependant variable, survived "
      ]
    },
    {
      "cell_type": "code",
      "metadata": {
        "id": "lP1qLQH3DKeG",
        "colab_type": "code",
        "outputId": "bbac0f62-0dc5-48b4-baf8-d5450642a4ce",
        "colab": {
          "base_uri": "https://localhost:8080/",
          "height": 334
        }
      },
      "source": [
        "plt.figure(figsize=(15,5))\n",
        "sns.countplot('pclass', hue='survived', data=titanic)\n",
        "plt.show()"
      ],
      "execution_count": 30,
      "outputs": [
        {
          "output_type": "display_data",
          "data": {
            "image/png": "[encoded data removed]",
            "text/plain": [
              "<Figure size 1080x360 with 1 Axes>"
            ]
          },
          "metadata": {
            "tags": []
          }
        }
      ]
    },
    {
      "cell_type": "markdown",
      "metadata": {
        "id": "OvqNA2ibD025",
        "colab_type": "text"
      },
      "source": [
        "\n",
        "\n",
        "\n",
        "*   most of the passengers in third class did not survive\n",
        "*   most of the passengers in the first class survived\n",
        "*   there was equality in terms of servival in second class\n",
        "\n",
        "\n",
        "\n",
        "\n",
        "\n"
      ]
    },
    {
      "cell_type": "code",
      "metadata": {
        "id": "E-MYL6vpDygO",
        "colab_type": "code",
        "outputId": "86bedb31-66fb-4653-e32c-8363a629adcd",
        "colab": {
          "base_uri": "https://localhost:8080/",
          "height": 350
        }
      },
      "source": [
        "plt.figure(figsize=(15,5))\n",
        "sns.countplot('sex', hue='survived', data=titanic)\n",
        "plt.title('gender vs survival')\n",
        "plt.show()"
      ],
      "execution_count": 31,
      "outputs": [
        {
          "output_type": "display_data",
          "data": {
            "image/png": "[encoded data removed]",
            "text/plain": [
              "<Figure size 1080x360 with 1 Axes>"
            ]
          },
          "metadata": {
            "tags": []
          }
        }
      ]
    },
    {
      "cell_type": "markdown",
      "metadata": {
        "id": "nIP0Gh-uFt-z",
        "colab_type": "text"
      },
      "source": [
        "\n",
        "\n",
        "\n",
        "*   more males survied than those who did not.\n",
        "*   more females did not survive compared to those who did.\n",
        "\n"
      ]
    },
    {
      "cell_type": "code",
      "metadata": {
        "id": "faJsh6UKHLHa",
        "colab_type": "code",
        "outputId": "4217b52f-0364-44d0-d904-82aa3d238b09",
        "colab": {
          "base_uri": "https://localhost:8080/",
          "height": 373
        }
      },
      "source": [
        "plt.figure(figsize=(15,5))\n",
        "ax = sns.kdeplot(titanic.loc[(titanic['survived'] == 0), 'age'], color = 'gray', shade=True, label='not survived')\n",
        "ax = sns.kdeplot(titanic.loc[(titanic['survived'] == 1), 'age'], color = 'g', shade=True, label='survived')\n",
        "plt.title('Age Distribution - Survivor vs Non-survivor', fontsize=15)\n",
        "plt.xlabel('Age', fontsize=15, labelpad=20)\n",
        "plt.ylabel('Frequency', fontsize=15, labelpad=20)\n",
        "plt.show()"
      ],
      "execution_count": 32,
      "outputs": [
        {
          "output_type": "display_data",
          "data": {
            "image/png": "[encoded data removed]",
            "text/plain": [
              "<Figure size 1080x360 with 1 Axes>"
            ]
          },
          "metadata": {
            "tags": []
          }
        }
      ]
    },
    {
      "cell_type": "markdown",
      "metadata": {
        "id": "04X9YlGiKS11",
        "colab_type": "text"
      },
      "source": [
        "\n",
        "\n",
        "*   there are more passengers who survived at the age between 0 to 10 than those who were unfortunate\n",
        "\n",
        "\n"
      ]
    },
    {
      "cell_type": "code",
      "metadata": {
        "id": "pvAmuRnCJ984",
        "colab_type": "code",
        "outputId": "09024d78-5862-4a90-8659-0cec8b78b367",
        "colab": {
          "base_uri": "https://localhost:8080/",
          "height": 334
        }
      },
      "source": [
        "plt.figure(figsize=(15,5))\n",
        "sns.countplot('sibsp', hue='survived', data=titanic)\n",
        "plt.show()"
      ],
      "execution_count": 33,
      "outputs": [
        {
          "output_type": "display_data",
          "data": {
            "image/png": "[encoded data removed]",
            "text/plain": [
              "<Figure size 1080x360 with 1 Axes>"
            ]
          },
          "metadata": {
            "tags": []
          }
        }
      ]
    },
    {
      "cell_type": "markdown",
      "metadata": {
        "id": "iaBnz7XuLsuV",
        "colab_type": "text"
      },
      "source": [
        "most of the passengers who did not survive neither had a sibling nor a spouse"
      ]
    },
    {
      "cell_type": "code",
      "metadata": {
        "id": "2AbecOYOL7tT",
        "colab_type": "code",
        "outputId": "c6a796a0-96d4-438b-ee45-aa26852d55eb",
        "colab": {
          "base_uri": "https://localhost:8080/",
          "height": 334
        }
      },
      "source": [
        "plt.figure(figsize=(15,5))\n",
        "sns.countplot('parch', hue='survived', data=titanic)\n",
        "plt.show()"
      ],
      "execution_count": 34,
      "outputs": [
        {
          "output_type": "display_data",
          "data": {
            "image/png": "[encoded data removed]",
            "text/plain": [
              "<Figure size 1080x360 with 1 Axes>"
            ]
          },
          "metadata": {
            "tags": []
          }
        }
      ]
    },
    {
      "cell_type": "markdown",
      "metadata": {
        "id": "GDuc1BaQNMvJ",
        "colab_type": "text"
      },
      "source": [
        "many patients who did not survive were neither a parent nor a child than those who did."
      ]
    },
    {
      "cell_type": "code",
      "metadata": {
        "id": "D9GmrH5ZP8jZ",
        "colab_type": "code",
        "outputId": "f9e8b8ad-a722-404d-9f32-6369ab701985",
        "colab": {
          "base_uri": "https://localhost:8080/",
          "height": 355
        }
      },
      "source": [
        "plt.figure(figsize=(15,5))\n",
        "plt.hist(x = [titanic[titanic['survived']==1]['fare'], titanic[titanic['survived']==0]['fare']], \n",
        "         stacked=True, color = ['g','r'],label = ['Survived','Not Survived'])\n",
        "plt.title('Fare Histogram by Survival', fontsize=20)\n",
        "plt.xlabel('Fare')\n",
        "plt.ylabel('# of Passengers')\n",
        "plt.legend()\n",
        "plt.show()"
      ],
      "execution_count": 35,
      "outputs": [
        {
          "output_type": "display_data",
          "data": {
            "image/png": "[encoded data removed]",
            "text/plain": [
              "<Figure size 1080x360 with 1 Axes>"
            ]
          },
          "metadata": {
            "tags": []
          }
        }
      ]
    },
    {
      "cell_type": "markdown",
      "metadata": {
        "id": "_-es5t0ESfm1",
        "colab_type": "text"
      },
      "source": [
        "most of the passengers paid there fare between the range of 0 to 50 and most of them did not survive."
      ]
    },
    {
      "cell_type": "code",
      "metadata": {
        "id": "PwENN4GnNZ4d",
        "colab_type": "code",
        "outputId": "c3d70c93-6940-4974-91d5-cec4bf121258",
        "colab": {
          "base_uri": "https://localhost:8080/",
          "height": 334
        }
      },
      "source": [
        "plt.figure(figsize=(15,5))\n",
        "sns.countplot('embarked', hue='survived', data=titanic)\n",
        "plt.show()"
      ],
      "execution_count": 36,
      "outputs": [
        {
          "output_type": "display_data",
          "data": {
            "image/png": "[encoded data removed]",
            "text/plain": [
              "<Figure size 1080x360 with 1 Axes>"
            ]
          },
          "metadata": {
            "tags": []
          }
        }
      ]
    },
    {
      "cell_type": "markdown",
      "metadata": {
        "id": "1zGE5rnQN6rb",
        "colab_type": "text"
      },
      "source": [
        "most of the passengers had boarded the ship at port 2, which is Southampton, where those passengers most of them did not survive"
      ]
    },
    {
      "cell_type": "markdown",
      "metadata": {
        "id": "vTbdjSrhVIiT",
        "colab_type": "text"
      },
      "source": [
        "## 7. Modelling - Titanic"
      ]
    },
    {
      "cell_type": "markdown",
      "metadata": {
        "id": "GUaI09EKeXAt",
        "colab_type": "text"
      },
      "source": [
        "# **STEP 1**"
      ]
    },
    {
      "cell_type": "markdown",
      "metadata": {
        "id": "LV1D1dn4dggH",
        "colab_type": "text"
      },
      "source": [
        "**K-Nearest Neighbour**"
      ]
    },
    {
      "cell_type": "code",
      "metadata": {
        "id": "cfpyZqlKdxli",
        "colab_type": "code",
        "colab": {}
      },
      "source": [
        "# preparing the dataset\n",
        "x = titanic.iloc[:,1:].values\n",
        "y = titanic.survived.values\n",
        "\n",
        "#splitting the dataset\n",
        "from sklearn.model_selection import train_test_split\n",
        "x_train, x_test, y_train, y_test = train_test_split(x, y, test_size=.2, random_state=0)"
      ],
      "execution_count": 0,
      "outputs": []
    },
    {
      "cell_type": "code",
      "metadata": {
        "id": "v9Y0vqjleKWA",
        "colab_type": "code",
        "colab": {}
      },
      "source": [
        "# scaling the data\n",
        "from sklearn.preprocessing import StandardScaler as SS\n",
        "\n",
        "scaler = SS()\n",
        "scaler.fit(x_train)\n",
        "\n",
        "x_train = scaler.transform(x_train)\n",
        "x_test = scaler.transform(x_test)"
      ],
      "execution_count": 0,
      "outputs": []
    },
    {
      "cell_type": "code",
      "metadata": {
        "id": "w40I0AftgWId",
        "colab_type": "code",
        "outputId": "8e1ec7be-4d11-48e4-8805-51a587530e0c",
        "colab": {
          "base_uri": "https://localhost:8080/",
          "height": 68
        }
      },
      "source": [
        "# training the data\n",
        "from sklearn.neighbors import KNeighborsClassifier as KNN\n",
        "\n",
        "classifier = KNN()\n",
        "classifier.fit(x_train, y_train)"
      ],
      "execution_count": 39,
      "outputs": [
        {
          "output_type": "execute_result",
          "data": {
            "text/plain": [
              "KNeighborsClassifier(algorithm='auto', leaf_size=30, metric='minkowski',\n",
              "                     metric_params=None, n_jobs=None, n_neighbors=5, p=2,\n",
              "                     weights='uniform')"
            ]
          },
          "metadata": {
            "tags": []
          },
          "execution_count": 39
        }
      ]
    },
    {
      "cell_type": "code",
      "metadata": {
        "id": "r4Bc2u13hzzf",
        "colab_type": "code",
        "colab": {}
      },
      "source": [
        "# predictions\n",
        "y_pred = classifier.predict(x_test)\n"
      ],
      "execution_count": 0,
      "outputs": []
    },
    {
      "cell_type": "code",
      "metadata": {
        "id": "LFsvSGEvlvHY",
        "colab_type": "code",
        "colab": {
          "base_uri": "https://localhost:8080/",
          "height": 34
        },
        "outputId": "b8957b4b-084e-4f5a-d6f1-8fd0153f65b1"
      },
      "source": [
        "# accuracy\n",
        "from sklearn.metrics import accuracy_score, confusion_matrix, classification_report\n",
        "print(accuracy_score(y_test, y_pred))"
      ],
      "execution_count": 41,
      "outputs": [
        {
          "output_type": "stream",
          "text": [
            "0.7806451612903226\n"
          ],
          "name": "stdout"
        }
      ]
    },
    {
      "cell_type": "code",
      "metadata": {
        "id": "6ZWLD0RLnAaP",
        "colab_type": "code",
        "outputId": "9260d7e7-12e9-4c22-c609-15065d5fbcfe",
        "colab": {
          "base_uri": "https://localhost:8080/",
          "height": 51
        }
      },
      "source": [
        "confusion_matrix(y_test, y_pred)"
      ],
      "execution_count": 42,
      "outputs": [
        {
          "output_type": "execute_result",
          "data": {
            "text/plain": [
              "array([[74, 14],\n",
              "       [20, 47]])"
            ]
          },
          "metadata": {
            "tags": []
          },
          "execution_count": 42
        }
      ]
    },
    {
      "cell_type": "code",
      "metadata": {
        "id": "8rOjAch_nJyg",
        "colab_type": "code",
        "outputId": "79030f16-8701-4d5c-86f2-e2fca7b80e08",
        "colab": {
          "base_uri": "https://localhost:8080/",
          "height": 170
        }
      },
      "source": [
        "print(classification_report(y_test, y_pred))"
      ],
      "execution_count": 43,
      "outputs": [
        {
          "output_type": "stream",
          "text": [
            "              precision    recall  f1-score   support\n",
            "\n",
            "           0       0.79      0.84      0.81        88\n",
            "           1       0.77      0.70      0.73        67\n",
            "\n",
            "    accuracy                           0.78       155\n",
            "   macro avg       0.78      0.77      0.77       155\n",
            "weighted avg       0.78      0.78      0.78       155\n",
            "\n"
          ],
          "name": "stdout"
        }
      ]
    },
    {
      "cell_type": "code",
      "metadata": {
        "id": "oaLYArorovZC",
        "colab_type": "code",
        "outputId": "8b24f7e9-e331-450e-8c73-9eb839e658f2",
        "colab": {
          "base_uri": "https://localhost:8080/",
          "height": 326
        }
      },
      "source": [
        "# splitting the titanic dataset\n",
        "x_train, x_test, y_train, y_test = train_test_split(x,y, test_size=.3, random_state=0)\n",
        "\n",
        "# scaling the data\n",
        "\n",
        "scaler.fit(x_train)\n",
        "\n",
        "x_train = scaler.transform(x_train)\n",
        "x_test = scaler.transform(x_test)\n",
        "\n",
        "# traning the dataset\n",
        "classifier.fit(x_train, y_train)\n",
        "\n",
        "# making the prediction\n",
        "y_pred2 = classifier.predict(x_test)\n",
        "\n",
        "print('Accuracy')\n",
        "print(accuracy_score(y_test, y_pred2))\n",
        "print('*'*200)\n",
        "\n",
        "# checking the confusion matrix\n",
        "print('Confusion Matrix')\n",
        "print(confusion_matrix(y_test, y_pred2))\n",
        "print('*'*200)\n",
        "\n",
        "# checking the classification report\n",
        "print('Classification Report')\n",
        "print(classification_report(y_test, y_pred2))"
      ],
      "execution_count": 44,
      "outputs": [
        {
          "output_type": "stream",
          "text": [
            "Accuracy\n",
            "0.7682403433476395\n",
            "********************************************************************************************************************************************************************************************************\n",
            "Confusion Matrix\n",
            "[[107  25]\n",
            " [ 29  72]]\n",
            "********************************************************************************************************************************************************************************************************\n",
            "Classification Report\n",
            "              precision    recall  f1-score   support\n",
            "\n",
            "           0       0.79      0.81      0.80       132\n",
            "           1       0.74      0.71      0.73       101\n",
            "\n",
            "    accuracy                           0.77       233\n",
            "   macro avg       0.76      0.76      0.76       233\n",
            "weighted avg       0.77      0.77      0.77       233\n",
            "\n"
          ],
          "name": "stdout"
        }
      ]
    },
    {
      "cell_type": "code",
      "metadata": {
        "id": "nlHLlVk_Ku2a",
        "colab_type": "code",
        "outputId": "72def69a-58cd-4ca1-9ab0-f20803169d2c",
        "colab": {
          "base_uri": "https://localhost:8080/",
          "height": 326
        }
      },
      "source": [
        "# splitting the itanic dataset\n",
        "x_train, x_test, y_train, y_test = train_test_split(x,y, test_size=.4, random_state=0)\n",
        "\n",
        "# scaling the data\n",
        "\n",
        "scaler.fit(x_train)\n",
        "\n",
        "x_train = scaler.transform(x_train)\n",
        "x_test = scaler.transform(x_test)\n",
        "\n",
        "# traning the dataset\n",
        "classifier.fit(x_train, y_train)\n",
        "\n",
        "# making the prediction\n",
        "y_pred3 = classifier.predict(x_test)\n",
        "\n",
        "print('Accuracy:')\n",
        "print(accuracy_score(y_test, y_pred3))\n",
        "print('*'*200)\n",
        "\n",
        "# checking the confusion matrix\n",
        "print('Confusion Matrix:')\n",
        "print(confusion_matrix(y_test, y_pred3))\n",
        "print('*'*200)\n",
        "\n",
        "# checking the classification report\n",
        "print('Classification Report:')\n",
        "print(classification_report(y_test, y_pred3))"
      ],
      "execution_count": 45,
      "outputs": [
        {
          "output_type": "stream",
          "text": [
            "Accuracy:\n",
            "0.7774193548387097\n",
            "********************************************************************************************************************************************************************************************************\n",
            "Confusion Matrix:\n",
            "[[147  32]\n",
            " [ 37  94]]\n",
            "********************************************************************************************************************************************************************************************************\n",
            "Classification Report:\n",
            "              precision    recall  f1-score   support\n",
            "\n",
            "           0       0.80      0.82      0.81       179\n",
            "           1       0.75      0.72      0.73       131\n",
            "\n",
            "    accuracy                           0.78       310\n",
            "   macro avg       0.77      0.77      0.77       310\n",
            "weighted avg       0.78      0.78      0.78       310\n",
            "\n"
          ],
          "name": "stdout"
        }
      ]
    },
    {
      "cell_type": "code",
      "metadata": {
        "id": "7RJnDbU-Lq6y",
        "colab_type": "code",
        "outputId": "842b1fcc-520a-4551-d7fb-e8691742de21",
        "colab": {
          "base_uri": "https://localhost:8080/",
          "height": 326
        }
      },
      "source": [
        "# splitting the itanic dataset\n",
        "x_train, x_test, y_train, y_test = train_test_split(x,y, test_size=.5, random_state=0)\n",
        "\n",
        "# scaling the data\n",
        "\n",
        "scaler.fit(x_train)\n",
        "\n",
        "x_train = scaler.transform(x_train)\n",
        "x_test = scaler.transform(x_test)\n",
        "\n",
        "# traning the dataset\n",
        "classifier.fit(x_train, y_train)\n",
        "\n",
        "# making the prediction\n",
        "y_pred4 = classifier.predict(x_test)\n",
        "\n",
        "# checking for accuracy\n",
        "print('Accuracy:')\n",
        "print(accuracy_score(y_test, y_pred4))\n",
        "print('*'*200)\n",
        "\n",
        "# checking the confusion matrix\n",
        "print('Confusion Matrix:')\n",
        "print(confusion_matrix(y_test, y_pred4))\n",
        "print('*'*200)\n",
        "\n",
        "# checking the classification report\n",
        "print('Classification Report:')\n",
        "print(classification_report(y_test, y_pred4))"
      ],
      "execution_count": 46,
      "outputs": [
        {
          "output_type": "stream",
          "text": [
            "Accuracy:\n",
            "0.7989690721649485\n",
            "********************************************************************************************************************************************************************************************************\n",
            "Confusion Matrix:\n",
            "[[195  33]\n",
            " [ 45 115]]\n",
            "********************************************************************************************************************************************************************************************************\n",
            "Classification Report:\n",
            "              precision    recall  f1-score   support\n",
            "\n",
            "           0       0.81      0.86      0.83       228\n",
            "           1       0.78      0.72      0.75       160\n",
            "\n",
            "    accuracy                           0.80       388\n",
            "   macro avg       0.79      0.79      0.79       388\n",
            "weighted avg       0.80      0.80      0.80       388\n",
            "\n"
          ],
          "name": "stdout"
        }
      ]
    },
    {
      "cell_type": "code",
      "metadata": {
        "id": "BxMiKXqB8VFc",
        "colab_type": "code",
        "colab": {}
      },
      "source": [
        "\n",
        "\n",
        "\n"
      ],
      "execution_count": 0,
      "outputs": []
    },
    {
      "cell_type": "markdown",
      "metadata": {
        "id": "bfY1elRp6cUp",
        "colab_type": "text"
      },
      "source": [
        "the best model is the first one for it has the highest accuracy"
      ]
    },
    {
      "cell_type": "markdown",
      "metadata": {
        "colab_type": "text",
        "id": "Yqau-s0aNdXE"
      },
      "source": [
        "## 8. Challenging the solution"
      ]
    },
    {
      "cell_type": "markdown",
      "metadata": {
        "id": "7oFVy3oL6U3w",
        "colab_type": "text"
      },
      "source": [
        "hyperparameter tuning should be implemanted so as to improve the model.\n",
        "the cross validation can also come in handy. it might play a role in improving the model accuracy"
      ]
    },
    {
      "cell_type": "markdown",
      "metadata": {
        "id": "dBNEdgj3MpYM",
        "colab_type": "text"
      },
      "source": [
        "## **Univariate Analysis - Spam Detection**"
      ]
    },
    {
      "cell_type": "markdown",
      "metadata": {
        "id": "gMUI7NvFewg9",
        "colab_type": "text"
      },
      "source": [
        "since the data dataset has a lot of feature. we will just go through some of the features to get an overview of how the data is spread."
      ]
    },
    {
      "cell_type": "code",
      "metadata": {
        "id": "aS-b3o8ZdRSk",
        "colab_type": "code",
        "colab": {
          "base_uri": "https://localhost:8080/",
          "height": 319
        },
        "outputId": "fc0a4d48-096d-4c36-c881-1ee0c4e32199"
      },
      "source": [
        "plt.figure(figsize=(10,5))\n",
        "spambase['1'].value_counts().plot.pie(autopct='%1.1f%%', shadow=True)\n",
        "plt.title('Spam or Not Spam')\n",
        "plt.show()\n"
      ],
      "execution_count": 47,
      "outputs": [
        {
          "output_type": "display_data",
          "data": {
            "image/png": "[encoded data removed]",
            "text/plain": [
              "<Figure size 720x360 with 1 Axes>"
            ]
          },
          "metadata": {
            "tags": []
          }
        }
      ]
    },
    {
      "cell_type": "markdown",
      "metadata": {
        "id": "R_jhz8tLenDh",
        "colab_type": "text"
      },
      "source": [
        "there are more spam data that not"
      ]
    },
    {
      "cell_type": "code",
      "metadata": {
        "id": "qZsWKnAlfYs8",
        "colab_type": "code",
        "colab": {
          "base_uri": "https://localhost:8080/",
          "height": 458
        },
        "outputId": "61291381-7ec3-458c-b441-27fdfff6fa63"
      },
      "source": [
        "plt.figure(figsize=(10,7))\n",
        "sns.distplot(spambase['0'])\n",
        "plt.title('Word Frequency Make')\n",
        "plt.xlabel('Word Frequency Make')\n",
        "plt.ylabel('Count')\n",
        "plt.show()"
      ],
      "execution_count": 48,
      "outputs": [
        {
          "output_type": "display_data",
          "data": {
            "image/png": "[encoded data removed]",
            "text/plain": [
              "<Figure size 720x504 with 1 Axes>"
            ]
          },
          "metadata": {
            "tags": []
          }
        }
      ]
    },
    {
      "cell_type": "markdown",
      "metadata": {
        "id": "rZS-3_HlgUUX",
        "colab_type": "text"
      },
      "source": [
        "most of the data is distribiuted between 0 and 0.5"
      ]
    },
    {
      "cell_type": "code",
      "metadata": {
        "id": "qhXd4iDsgqGK",
        "colab_type": "code",
        "colab": {
          "base_uri": "https://localhost:8080/",
          "height": 468
        },
        "outputId": "6609eaee-28f5-4e8d-dd1b-554a1c9e9dcc"
      },
      "source": [
        "plt.figure(figsize=(10,7))\n",
        "sns.distplot(spambase['0.64'])\n",
        "plt.title('Word Frequency Address', fontsize=20)\n",
        "plt.xlabel('Word Frequency Address', fontsize=15)\n",
        "plt.ylabel('Count', fontsize=15)\n",
        "plt.show()"
      ],
      "execution_count": 49,
      "outputs": [
        {
          "output_type": "display_data",
          "data": {
            "image/png": "[encoded data removed]",
            "text/plain": [
              "<Figure size 720x504 with 1 Axes>"
            ]
          },
          "metadata": {
            "tags": []
          }
        }
      ]
    },
    {
      "cell_type": "markdown",
      "metadata": {
        "id": "HSActjcQgxcF",
        "colab_type": "text"
      },
      "source": [
        "most of the data is distributed between 0 and 1."
      ]
    },
    {
      "cell_type": "code",
      "metadata": {
        "id": "OHrDA_5Qg2RS",
        "colab_type": "code",
        "colab": {
          "base_uri": "https://localhost:8080/",
          "height": 458
        },
        "outputId": "2fa9f371-bbc3-44fd-a034-ef39d3107482"
      },
      "source": [
        "plt.figure(figsize=(10,7))\n",
        "sns.distplot(spambase['0.64.1'])\n",
        "plt.title('Word Frequency All')\n",
        "plt.xlabel('Word Frequency All')\n",
        "plt.ylabel('Count')\n",
        "plt.show()"
      ],
      "execution_count": 50,
      "outputs": [
        {
          "output_type": "display_data",
          "data": {
            "image/png": "[encoded data removed]",
            "text/plain": [
              "<Figure size 720x504 with 1 Axes>"
            ]
          },
          "metadata": {
            "tags": []
          }
        }
      ]
    },
    {
      "cell_type": "code",
      "metadata": {
        "id": "aL4yYK8Vh4vK",
        "colab_type": "code",
        "colab": {
          "base_uri": "https://localhost:8080/",
          "height": 458
        },
        "outputId": "163f575d-1f87-4079-cf6c-9dd38d05bfd7"
      },
      "source": [
        "plt.figure(figsize=(10,7))\n",
        "sns.distplot(spambase['61'])\n",
        "plt.title('longest capital run length')\n",
        "plt.xlabel('longest capital run length')\n",
        "plt.ylabel('Count')\n",
        "plt.show()"
      ],
      "execution_count": 51,
      "outputs": [
        {
          "output_type": "display_data",
          "data": {
            "image/png": "[encoded data removed]",
            "text/plain": [
              "<Figure size 720x504 with 1 Axes>"
            ]
          },
          "metadata": {
            "tags": []
          }
        }
      ]
    },
    {
      "cell_type": "markdown",
      "metadata": {
        "id": "vkorTo5giMT8",
        "colab_type": "text"
      },
      "source": [
        "most of the data is distributed between 0 and 500"
      ]
    },
    {
      "cell_type": "code",
      "metadata": {
        "id": "zjjyTeUkhVaB",
        "colab_type": "code",
        "colab": {
          "base_uri": "https://localhost:8080/",
          "height": 458
        },
        "outputId": "ae076b4d-528a-40bb-f09e-2ddb23931a32"
      },
      "source": [
        "plt.figure(figsize=(10,7))\n",
        "sns.distplot(spambase['278'])\n",
        "plt.title('Total capital run length')\n",
        "plt.xlabel('Total capital run length ')\n",
        "plt.ylabel('Count')\n",
        "plt.show()"
      ],
      "execution_count": 52,
      "outputs": [
        {
          "output_type": "display_data",
          "data": {
            "image/png": "[encoded data removed]",
            "text/plain": [
              "<Figure size 720x504 with 1 Axes>"
            ]
          },
          "metadata": {
            "tags": []
          }
        }
      ]
    },
    {
      "cell_type": "markdown",
      "metadata": {
        "id": "MCVW83I8hcE2",
        "colab_type": "text"
      },
      "source": [
        "most of the data is distibuted between 0 and 1000"
      ]
    },
    {
      "cell_type": "markdown",
      "metadata": {
        "id": "8BHFrb-KiXYH",
        "colab_type": "text"
      },
      "source": [
        "## **Bivariate analysis**"
      ]
    },
    {
      "cell_type": "code",
      "metadata": {
        "id": "NWyYspC5ieD4",
        "colab_type": "code",
        "colab": {
          "base_uri": "https://localhost:8080/",
          "height": 889
        },
        "outputId": "dfb0ef1d-753b-421a-a46d-06cf98a12567"
      },
      "source": [
        "ship = spambase.corr()\n",
        "mask = np.zeros_like(ship)\n",
        "mask[np.triu_indices_from(mask)] = True\n",
        "plt.figure(figsize=(15,15))\n",
        "sns.heatmap(ship, mask=mask)\n",
        "plt.show()"
      ],
      "execution_count": 53,
      "outputs": [
        {
          "output_type": "display_data",
          "data": {
            "image/png": "[encoded data removed]",
            "text/plain": [
              "<Figure size 1080x1080 with 2 Axes>"
            ]
          },
          "metadata": {
            "tags": []
          }
        }
      ]
    },
    {
      "cell_type": "markdown",
      "metadata": {
        "id": "V4KC4Y2hjI39",
        "colab_type": "text"
      },
      "source": [
        "the correlation between the dependant variable, 0(spam) against the independent variables is weak "
      ]
    },
    {
      "cell_type": "code",
      "metadata": {
        "id": "iM2J3b_pjmC5",
        "colab_type": "code",
        "colab": {
          "base_uri": "https://localhost:8080/",
          "height": 305
        },
        "outputId": "47acab96-eb7e-4cf8-f66d-ee24b42e247e"
      },
      "source": [
        "plt.scatter(x='1', y='0', data=spambase)\n",
        "plt.ylabel('word frequency make', fontsize=15)\n",
        "plt.xlabel('spam', fontsize=15)\n",
        "plt.title('spam vs word ferquency', fontsize=20)\n",
        "plt.show()"
      ],
      "execution_count": 54,
      "outputs": [
        {
          "output_type": "display_data",
          "data": {
            "image/png": "[encoded data removed]",
            "text/plain": [
              "<Figure size 432x288 with 1 Axes>"
            ]
          },
          "metadata": {
            "tags": []
          }
        }
      ]
    },
    {
      "cell_type": "markdown",
      "metadata": {
        "id": "8bfYudF6nPFX",
        "colab_type": "text"
      },
      "source": [
        "there is negative correlation between spam and word frequency make"
      ]
    },
    {
      "cell_type": "code",
      "metadata": {
        "id": "_kpBD7dnn8e8",
        "colab_type": "code",
        "colab": {
          "base_uri": "https://localhost:8080/",
          "height": 395
        },
        "outputId": "50277a82-de11-42ec-9c98-00976b175ee3"
      },
      "source": [
        "sns.FacetGrid(spambase, hue = '1', height=5).map(sns.distplot, '0').add_legend()\n",
        "plt.title('Spam vs Not Spam', fontsize=20)\n",
        "plt.ylabel('Count', fontsize=15)\n",
        "plt.xlabel('Word frequency make',  fontsize=15)\n",
        "plt.show()\n",
        "plt.show()"
      ],
      "execution_count": 55,
      "outputs": [
        {
          "output_type": "display_data",
          "data": {
            "image/png": "[encoded data removed]",
            "text/plain": [
              "<Figure size 402.375x360 with 1 Axes>"
            ]
          },
          "metadata": {
            "tags": []
          }
        }
      ]
    },
    {
      "cell_type": "markdown",
      "metadata": {
        "id": "xsIHCkdbp9PC",
        "colab_type": "text"
      },
      "source": [
        "there is more spam data than no spam data in word frequency feature"
      ]
    },
    {
      "cell_type": "code",
      "metadata": {
        "id": "07rzMyKvnlED",
        "colab_type": "code",
        "colab": {
          "base_uri": "https://localhost:8080/",
          "height": 295
        },
        "outputId": "ebc4f020-39f0-46b1-9ebb-400b7a284abf"
      },
      "source": [
        "plt.scatter(x='1', y='0.64', data=spambase)\n",
        "plt.ylabel('word frequency address')\n",
        "plt.xlabel('spam')\n",
        "plt.title('spam vs word ferquency')\n",
        "plt.show()"
      ],
      "execution_count": 56,
      "outputs": [
        {
          "output_type": "display_data",
          "data": {
            "image/png": "[encoded data removed]",
            "text/plain": [
              "<Figure size 432x288 with 1 Axes>"
            ]
          },
          "metadata": {
            "tags": []
          }
        }
      ]
    },
    {
      "cell_type": "markdown",
      "metadata": {
        "id": "gEfnXzuTsD8I",
        "colab_type": "text"
      },
      "source": [
        "there is negative correlation betweem word frequency address and spam"
      ]
    },
    {
      "cell_type": "code",
      "metadata": {
        "id": "ZUfyYOP5qrox",
        "colab_type": "code",
        "colab": {
          "base_uri": "https://localhost:8080/",
          "height": 395
        },
        "outputId": "9c80d92a-5f1f-4dab-cd5e-a82a5f9950a7"
      },
      "source": [
        "sns.FacetGrid(spambase, hue='1', height=5).map(sns.distplot, '0.64').add_legend()\n",
        "plt.title('Spam vs Not Spam', fontsize=20)\n",
        "plt.ylabel('Count', fontsize=15)\n",
        "plt.xlabel('word frequency address',  fontsize=15)\n",
        "plt.show()\n",
        "plt.show()"
      ],
      "execution_count": 57,
      "outputs": [
        {
          "output_type": "display_data",
          "data": {
            "image/png": "[encoded data removed]",
            "text/plain": [
              "<Figure size 402.375x360 with 1 Axes>"
            ]
          },
          "metadata": {
            "tags": []
          }
        }
      ]
    },
    {
      "cell_type": "markdown",
      "metadata": {
        "id": "Ijl8rvz-r0z-",
        "colab_type": "text"
      },
      "source": [
        "there is less spam than no spam in word frequency address"
      ]
    },
    {
      "cell_type": "code",
      "metadata": {
        "id": "gUIr_BBbnyse",
        "colab_type": "code",
        "colab": {
          "base_uri": "https://localhost:8080/",
          "height": 305
        },
        "outputId": "8b4e0b94-b271-4bef-f9c3-b1adff6fa289"
      },
      "source": [
        "plt.scatter(x='1', y='0.64.1', data=spambase)\n",
        "plt.ylabel('all word frequencies', fontsize=15)\n",
        "plt.xlabel('spam', fontsize=15)\n",
        "plt.title('spam vs all word ferquency', fontsize=20)\n",
        "plt.show()"
      ],
      "execution_count": 58,
      "outputs": [
        {
          "output_type": "display_data",
          "data": {
            "image/png": "[encoded data removed]",
            "text/plain": [
              "<Figure size 432x288 with 1 Axes>"
            ]
          },
          "metadata": {
            "tags": []
          }
        }
      ]
    },
    {
      "cell_type": "markdown",
      "metadata": {
        "id": "UFv-sp9atImj",
        "colab_type": "text"
      },
      "source": [
        "there is negative correlation between spam and all word frequencies"
      ]
    },
    {
      "cell_type": "code",
      "metadata": {
        "id": "ZVCuRMAUtOMk",
        "colab_type": "code",
        "colab": {
          "base_uri": "https://localhost:8080/",
          "height": 395
        },
        "outputId": "bf3ff9b5-3151-4a62-ccdc-9acbc7598963"
      },
      "source": [
        "sns.FacetGrid(spambase, hue='1', height=5).map(sns.distplot, '0.64.1').add_legend()\n",
        "plt.title('Spam vs Not Spam', fontsize=20)\n",
        "plt.ylabel('Count', fontsize=15)\n",
        "plt.xlabel('all word frequencies',  fontsize=15)\n",
        "plt.show()\n"
      ],
      "execution_count": 59,
      "outputs": [
        {
          "output_type": "display_data",
          "data": {
            "image/png": "[encoded data removed]",
            "text/plain": [
              "<Figure size 402.375x360 with 1 Axes>"
            ]
          },
          "metadata": {
            "tags": []
          }
        }
      ]
    },
    {
      "cell_type": "markdown",
      "metadata": {
        "id": "D1Nqy351ttWy",
        "colab_type": "text"
      },
      "source": [
        "there in more no spam than spam in all word frequencies"
      ]
    },
    {
      "cell_type": "code",
      "metadata": {
        "id": "eQPXTYizt7gW",
        "colab_type": "code",
        "colab": {
          "base_uri": "https://localhost:8080/",
          "height": 305
        },
        "outputId": "439776bd-8ca2-4bd0-fe1c-7bf819e22d29"
      },
      "source": [
        "plt.scatter(x='1', y='61', data=spambase)\n",
        "plt.title('smap vs longest capital run length', fontsize=20)\n",
        "plt.xlabel('spam', fontsize=15)\n",
        "plt.ylabel('longest capital run length', fontsize=15)\n",
        "plt.show()"
      ],
      "execution_count": 60,
      "outputs": [
        {
          "output_type": "display_data",
          "data": {
            "image/png": "[encoded data removed]",
            "text/plain": [
              "<Figure size 432x288 with 1 Axes>"
            ]
          },
          "metadata": {
            "tags": []
          }
        }
      ]
    },
    {
      "cell_type": "markdown",
      "metadata": {
        "id": "_FO6GY78uNqe",
        "colab_type": "text"
      },
      "source": [
        "there is positive correlation between spam and longest capital run length"
      ]
    },
    {
      "cell_type": "code",
      "metadata": {
        "id": "xoBU3Jk7uOot",
        "colab_type": "code",
        "colab": {
          "base_uri": "https://localhost:8080/",
          "height": 395
        },
        "outputId": "43a9e8e2-e514-416e-975c-bda2f2fe7d30"
      },
      "source": [
        "sns.FacetGrid(spambase, hue='1', height=5).map(sns.distplot,'0.64.1').add_legend()\n",
        "plt.title('Spam vs Not Spam', fontsize=20)\n",
        "plt.ylabel('Count', fontsize=15)\n",
        "plt.xlabel('longest capital run length', fontsize=15)\n",
        "plt.show()"
      ],
      "execution_count": 61,
      "outputs": [
        {
          "output_type": "display_data",
          "data": {
            "image/png": "[encoded data removed]",
            "text/plain": [
              "<Figure size 402.375x360 with 1 Axes>"
            ]
          },
          "metadata": {
            "tags": []
          }
        }
      ]
    },
    {
      "cell_type": "markdown",
      "metadata": {
        "id": "eGEpzkDvulBx",
        "colab_type": "text"
      },
      "source": [
        "there is more no spam than spam in the longest capital run length feature"
      ]
    },
    {
      "cell_type": "code",
      "metadata": {
        "id": "09I2pwLqulkN",
        "colab_type": "code",
        "colab": {
          "base_uri": "https://localhost:8080/",
          "height": 305
        },
        "outputId": "ae30de66-32c0-4004-b891-bcc5fc546f8b"
      },
      "source": [
        "plt.scatter(x='1', y='278', data=spambase)\n",
        "plt.title('spam vs total capital run length', fontsize=20)\n",
        "plt.xlabel('spam', fontsize=15)\n",
        "plt.ylabel('total capital run length', fontsize=15)\n",
        "plt.show()"
      ],
      "execution_count": 62,
      "outputs": [
        {
          "output_type": "display_data",
          "data": {
            "image/png": "[encoded data removed]",
            "text/plain": [
              "<Figure size 432x288 with 1 Axes>"
            ]
          },
          "metadata": {
            "tags": []
          }
        }
      ]
    },
    {
      "cell_type": "markdown",
      "metadata": {
        "id": "0j5oLa0xuntW",
        "colab_type": "text"
      },
      "source": [
        "there is a positive correlation between spam and total capital run length"
      ]
    },
    {
      "cell_type": "code",
      "metadata": {
        "id": "OBo5_fXLuoNr",
        "colab_type": "code",
        "colab": {
          "base_uri": "https://localhost:8080/",
          "height": 395
        },
        "outputId": "94754a8a-bc48-45eb-bd6b-ccf56493d68a"
      },
      "source": [
        "sns.FacetGrid(spambase, hue='1', height=5).map(sns.distplot,'278').add_legend()\n",
        "plt.title('Spam vs Not Spam', fontsize=20)\n",
        "plt.ylabel('Count', fontsize=15)\n",
        "plt.xlabel('total capital run length',  fontsize=15)\n",
        "plt.show()\n",
        "plt.show()"
      ],
      "execution_count": 63,
      "outputs": [
        {
          "output_type": "display_data",
          "data": {
            "image/png": "[encoded data removed]",
            "text/plain": [
              "<Figure size 402.375x360 with 1 Axes>"
            ]
          },
          "metadata": {
            "tags": []
          }
        }
      ]
    },
    {
      "cell_type": "markdown",
      "metadata": {
        "id": "BYvY8fhVwJaU",
        "colab_type": "text"
      },
      "source": [
        "there is more no spam than spam in total capital run length"
      ]
    },
    {
      "cell_type": "markdown",
      "metadata": {
        "id": "3ggpOM58iUvh",
        "colab_type": "text"
      },
      "source": [
        "**Naive Bayes Classifier**"
      ]
    },
    {
      "cell_type": "code",
      "metadata": {
        "id": "LsMsu2O5jRqP",
        "colab_type": "code",
        "colab": {}
      },
      "source": [
        "# preparing the data\n",
        "X = spambase.iloc[:,:-1].values\n",
        "Y = spambase.iloc[:,-1].values\n",
        "\n",
        "# separating the data\n",
        "X_train, X_test, Y_train, Y_test = train_test_split(X, Y, test_size=.2, random_state=0)"
      ],
      "execution_count": 0,
      "outputs": []
    },
    {
      "cell_type": "code",
      "metadata": {
        "id": "o7T-lVH6jwj3",
        "colab_type": "code",
        "colab": {
          "base_uri": "https://localhost:8080/",
          "height": 34
        },
        "outputId": "69b9adb7-9cef-4975-f5e2-c3e6b9e690ca"
      },
      "source": [
        "# training the data\n",
        "from sklearn.naive_bayes import GaussianNB as G\n",
        "\n",
        "classify = G()\n",
        "classify.fit(X_train, Y_train)"
      ],
      "execution_count": 65,
      "outputs": [
        {
          "output_type": "execute_result",
          "data": {
            "text/plain": [
              "GaussianNB(priors=None, var_smoothing=1e-09)"
            ]
          },
          "metadata": {
            "tags": []
          },
          "execution_count": 65
        }
      ]
    },
    {
      "cell_type": "code",
      "metadata": {
        "id": "u_JtVqlCkqG9",
        "colab_type": "code",
        "colab": {
          "base_uri": "https://localhost:8080/",
          "height": 34
        },
        "outputId": "e54ac94f-69ce-4f47-d8c7-e11ef1da9995"
      },
      "source": [
        "# prediction\n",
        "Y_pred_naive = classify.predict(X_test)\n",
        "\n",
        "accuracy_score(Y_test, Y_pred_naive)"
      ],
      "execution_count": 66,
      "outputs": [
        {
          "output_type": "execute_result",
          "data": {
            "text/plain": [
              "0.8147268408551069"
            ]
          },
          "metadata": {
            "tags": []
          },
          "execution_count": 66
        }
      ]
    },
    {
      "cell_type": "code",
      "metadata": {
        "id": "rhQfGJCvnVxR",
        "colab_type": "code",
        "colab": {
          "base_uri": "https://localhost:8080/",
          "height": 51
        },
        "outputId": "c3792a22-6ea0-46a0-ae09-41aa416b0f9a"
      },
      "source": [
        "confusion_matrix(Y_test, Y_pred_naive)"
      ],
      "execution_count": 67,
      "outputs": [
        {
          "output_type": "execute_result",
          "data": {
            "text/plain": [
              "array([[350, 145],\n",
              "       [ 11, 336]])"
            ]
          },
          "metadata": {
            "tags": []
          },
          "execution_count": 67
        }
      ]
    },
    {
      "cell_type": "code",
      "metadata": {
        "id": "wF7_X7_pneWt",
        "colab_type": "code",
        "colab": {
          "base_uri": "https://localhost:8080/",
          "height": 170
        },
        "outputId": "ea19e47f-faec-4423-bb12-d00e3f899d67"
      },
      "source": [
        "print(classification_report(Y_test, Y_pred_naive))"
      ],
      "execution_count": 68,
      "outputs": [
        {
          "output_type": "stream",
          "text": [
            "              precision    recall  f1-score   support\n",
            "\n",
            "           0       0.97      0.71      0.82       495\n",
            "           1       0.70      0.97      0.81       347\n",
            "\n",
            "    accuracy                           0.81       842\n",
            "   macro avg       0.83      0.84      0.81       842\n",
            "weighted avg       0.86      0.81      0.82       842\n",
            "\n"
          ],
          "name": "stdout"
        }
      ]
    },
    {
      "cell_type": "code",
      "metadata": {
        "id": "9hgLLrZwJhWa",
        "colab_type": "code",
        "colab": {
          "base_uri": "https://localhost:8080/",
          "height": 326
        },
        "outputId": "1e80778a-d9de-49e0-ced5-492c8baeb587"
      },
      "source": [
        "# splitting the data to 30% for testing and 70% for training\n",
        "X_train, X_test, Y_train, Y_test = train_test_split(X, Y, test_size=.3, random_state=0)\n",
        "\n",
        "# training\n",
        "classify.fit(X_train, Y_train)\n",
        "\n",
        "# prediction\n",
        "Y_pred_naive2 = classify.predict(X_test)\n",
        "\n",
        "print('Accuracy:')\n",
        "print(accuracy_score(Y_test, Y_pred_naive2))\n",
        "print('*'*200)\n",
        "\n",
        "# confusion_matrix\n",
        "print('Classification Report:')\n",
        "print(confusion_matrix(Y_test, Y_pred_naive2))\n",
        "print('*'*200)\n",
        "\n",
        "# classification_report\n",
        "print('Classification Report:')\n",
        "print(classification_report(Y_test, Y_pred_naive2))\n"
      ],
      "execution_count": 69,
      "outputs": [
        {
          "output_type": "stream",
          "text": [
            "Accuracy:\n",
            "0.8250197941409343\n",
            "********************************************************************************************************************************************************************************************************\n",
            "Classification Report:\n",
            "[[536 201]\n",
            " [ 20 506]]\n",
            "********************************************************************************************************************************************************************************************************\n",
            "Classification Report:\n",
            "              precision    recall  f1-score   support\n",
            "\n",
            "           0       0.96      0.73      0.83       737\n",
            "           1       0.72      0.96      0.82       526\n",
            "\n",
            "    accuracy                           0.83      1263\n",
            "   macro avg       0.84      0.84      0.82      1263\n",
            "weighted avg       0.86      0.83      0.83      1263\n",
            "\n"
          ],
          "name": "stdout"
        }
      ]
    },
    {
      "cell_type": "code",
      "metadata": {
        "id": "PC6KTS7ALG_x",
        "colab_type": "code",
        "colab": {
          "base_uri": "https://localhost:8080/",
          "height": 326
        },
        "outputId": "8bf8ce8b-682f-414c-cdc5-14056ab499fa"
      },
      "source": [
        "# splitting the data to 40% for testing and 60% for training\n",
        "X_train, X_test, Y_train, Y_test = train_test_split(X, Y, test_size=.4, random_state=0)\n",
        "\n",
        "# training\n",
        "classify.fit(X_train, Y_train)\n",
        "\n",
        "# prediction\n",
        "Y_pred_naive3 = classify.predict(X_test)\n",
        "\n",
        "# accuracy\n",
        "print('Accuracy:')\n",
        "print(accuracy_score(Y_test, Y_pred_naive3))\n",
        "print('*'*200)\n",
        "\n",
        "# confusion_matrix\n",
        "print('Confusion matrix:')\n",
        "print(confusion_matrix(Y_test, Y_pred_naive3))\n",
        "print('*'*200)\n",
        "\n",
        "# classification_report\n",
        "print('Classification Report:')\n",
        "print(classification_report(Y_test, Y_pred_naive3))"
      ],
      "execution_count": 70,
      "outputs": [
        {
          "output_type": "stream",
          "text": [
            "Accuracy:\n",
            "0.830166270783848\n",
            "********************************************************************************************************************************************************************************************************\n",
            "Confusion matrix:\n",
            "[[735 259]\n",
            " [ 27 663]]\n",
            "********************************************************************************************************************************************************************************************************\n",
            "Classification Report:\n",
            "              precision    recall  f1-score   support\n",
            "\n",
            "           0       0.96      0.74      0.84       994\n",
            "           1       0.72      0.96      0.82       690\n",
            "\n",
            "    accuracy                           0.83      1684\n",
            "   macro avg       0.84      0.85      0.83      1684\n",
            "weighted avg       0.86      0.83      0.83      1684\n",
            "\n"
          ],
          "name": "stdout"
        }
      ]
    },
    {
      "cell_type": "code",
      "metadata": {
        "id": "at-51wbML_1K",
        "colab_type": "code",
        "colab": {
          "base_uri": "https://localhost:8080/",
          "height": 326
        },
        "outputId": "9b451e1b-02e2-4971-be33-97df5899c183"
      },
      "source": [
        "# splitting the data to 50% for testing and 50% for training\n",
        "X_train, X_test, Y_train, Y_test = train_test_split(X, Y, test_size=.5, random_state=0)\n",
        "\n",
        "# training\n",
        "classify.fit(X_train, Y_train)\n",
        "\n",
        "# prediction\n",
        "Y_pred_naive4 = classify.predict(X_test)\n",
        "\n",
        "# accuracy\n",
        "print('Accuracy:')\n",
        "print(accuracy_score(Y_test, Y_pred_naive4))\n",
        "print('*'*200)\n",
        "\n",
        "# confusion_matrix\n",
        "print('Confusion Matrix:')\n",
        "print(confusion_matrix(Y_test, Y_pred_naive4))\n",
        "print('*'*200)\n",
        "\n",
        "# classification_report\n",
        "print('Classification Report:')\n",
        "print(classification_report(Y_test, Y_pred_naive4))"
      ],
      "execution_count": 71,
      "outputs": [
        {
          "output_type": "stream",
          "text": [
            "Accuracy:\n",
            "0.833729216152019\n",
            "********************************************************************************************************************************************************************************************************\n",
            "Confusion Matrix:\n",
            "[[923 316]\n",
            " [ 34 832]]\n",
            "********************************************************************************************************************************************************************************************************\n",
            "Classification Report:\n",
            "              precision    recall  f1-score   support\n",
            "\n",
            "           0       0.96      0.74      0.84      1239\n",
            "           1       0.72      0.96      0.83       866\n",
            "\n",
            "    accuracy                           0.83      2105\n",
            "   macro avg       0.84      0.85      0.83      2105\n",
            "weighted avg       0.87      0.83      0.83      2105\n",
            "\n"
          ],
          "name": "stdout"
        }
      ]
    },
    {
      "cell_type": "markdown",
      "metadata": {
        "id": "tu05Lnwi5Hu7",
        "colab_type": "text"
      },
      "source": [
        "the accuracy score keeps on improving as we give the model less data to train it. the best model to work with is the one given 50% which is not a good idea"
      ]
    },
    {
      "cell_type": "markdown",
      "metadata": {
        "colab_type": "text",
        "id": "9TABgQgWM-Gv"
      },
      "source": [
        "## 8. Challenging the solution"
      ]
    },
    {
      "cell_type": "markdown",
      "metadata": {
        "id": "qjZYjTzV5qKD",
        "colab_type": "text"
      },
      "source": [
        "i think scaling the data will improve the results. the best model to work with is the one given 50% which is not a good idea"
      ]
    },
    {
      "cell_type": "markdown",
      "metadata": {
        "id": "v1XwJkQP6G5e",
        "colab_type": "text"
      },
      "source": [
        "also i would recommend to do some hyperparameter tuning so see whether the results will improve"
      ]
    }
  ]
}