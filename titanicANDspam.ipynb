{
  "nbformat": 4,
  "nbformat_minor": 0,
  "metadata": {
    "colab": {
      "name": "titanicANDspam.ipynb",
      "provenance": [],
      "collapsed_sections": [],
      "authorship_tag": "ABX9TyOdz0rPe8a2G5CvTT9Q9J03",
      "include_colab_link": true
    },
    "kernelspec": {
      "name": "python3",
      "display_name": "Python 3"
    }
  },
  "cells": [
    {
      "cell_type": "markdown",
      "metadata": {
        "id": "view-in-github",
        "colab_type": "text"
      },
      "source": [
        "<a href=\"https://colab.research.google.com/github/victoriousvictor42/titanic/blob/master/titanicANDspam.ipynb\" target=\"_parent\"><img src=\"https://colab.research.google.com/assets/colab-badge.svg\" alt=\"Open In Colab\"/></a>"
      ]
    },
    {
      "cell_type": "markdown",
      "metadata": {
        "id": "kLG2VTrnTvYL",
        "colab_type": "text"
      },
      "source": [
        "## 1. Defining the Question"
      ]
    },
    {
      "cell_type": "markdown",
      "metadata": {
        "id": "XecOwPNorl2W",
        "colab_type": "text"
      },
      "source": [
        "### a) Specifying the Data Analytic Question"
      ]
    },
    {
      "cell_type": "markdown",
      "metadata": {
        "id": "9ozBnKfehSAw",
        "colab_type": "text"
      },
      "source": [
        "> make a prediction using K-nearest Neighbour classifier and Naive Bayes Classifier"
      ]
    },
    {
      "cell_type": "markdown",
      "metadata": {
        "id": "J4wfHZwQrs-t",
        "colab_type": "text"
      },
      "source": [
        "### b) Defining the Metric for Success"
      ]
    },
    {
      "cell_type": "markdown",
      "metadata": {
        "id": "c9osIZWTRJUH",
        "colab_type": "text"
      },
      "source": [
        "*   Data understanding \n",
        "*   Data Wrangling\n",
        "*   Feature engineering\n",
        "*   Modelling using K-nearest neighbour classifier and Naive Bayes classifier\n",
        "\n"
      ]
    },
    {
      "cell_type": "markdown",
      "metadata": {
        "id": "a9BPYqunry97",
        "colab_type": "text"
      },
      "source": [
        "### c) Understanding the context "
      ]
    },
    {
      "cell_type": "markdown",
      "metadata": {
        "id": "9ehdVAZwIPx5",
        "colab_type": "text"
      },
      "source": [
        "making predictions using Knearest neighbours and naive bayes claasifier"
      ]
    },
    {
      "cell_type": "markdown",
      "metadata": {
        "id": "7KMRBJ7zr9HD",
        "colab_type": "text"
      },
      "source": [
        "### d) Recording the Experimental Design"
      ]
    },
    {
      "cell_type": "markdown",
      "metadata": {
        "id": "hABeE9YxRh6U",
        "colab_type": "text"
      },
      "source": [
        "\n",
        "\n",
        "1.   KNN\n",
        "2.   Naive Bayes\n",
        "\n"
      ]
    },
    {
      "cell_type": "markdown",
      "metadata": {
        "id": "zSGyg6kWsBUl",
        "colab_type": "text"
      },
      "source": [
        "### e) Data Relevance"
      ]
    },
    {
      "cell_type": "markdown",
      "metadata": {
        "id": "bn7enkDSIc_j",
        "colab_type": "text"
      },
      "source": [
        "these datasets are from kaggle. Its genuine since the samesame dataset were used in many hackathons."
      ]
    },
    {
      "cell_type": "markdown",
      "metadata": {
        "id": "iUNbvIvnT7ep",
        "colab_type": "text"
      },
      "source": [
        "## 2. Reading the Data"
      ]
    },
    {
      "cell_type": "markdown",
      "metadata": {
        "id": "HoBX5_BrItTp",
        "colab_type": "text"
      },
      "source": [
        "we are going to import the necessary libraries thatwill enable us to read the data."
      ]
    },
    {
      "cell_type": "code",
      "metadata": {
        "id": "QPWydjNuIsRf",
        "colab_type": "code",
        "colab": {}
      },
      "source": [
        "#importing the necessary libraries\n",
        "import pandas as pd\n",
        "import numpy as np\n",
        "import matplotlib.pyplot as plt\n",
        "import seaborn as sns"
      ],
      "execution_count": 0,
      "outputs": []
    },
    {
      "cell_type": "code",
      "metadata": {
        "id": "E128Y6YYJP4H",
        "colab_type": "code",
        "colab": {}
      },
      "source": [
        "# loading the datasets\n",
        "titanic = pd.read_csv('train.csv')\n",
        "spambase = pd.read_csv('spambase.data')\n",
        "\n"
      ],
      "execution_count": 0,
      "outputs": []
    },
    {
      "cell_type": "markdown",
      "metadata": {
        "id": "OI3P3YnHUEBk",
        "colab_type": "text"
      },
      "source": [
        "\n",
        "\n",
        "## 3. Checking the Data"
      ]
    },
    {
      "cell_type": "markdown",
      "metadata": {
        "id": "OG8N5FhlJkVu",
        "colab_type": "text"
      },
      "source": [
        "we are now going to see the layout of the data"
      ]
    },
    {
      "cell_type": "code",
      "metadata": {
        "id": "8atgM_WoJug3",
        "colab_type": "code",
        "colab": {
          "base_uri": "https://localhost:8080/",
          "height": 377
        },
        "outputId": "8d01c37c-1e28-483c-97cb-305836898186"
      },
      "source": [
        "# previewing the top of the datasets\n",
        "print(titanic.head())\n",
        "print('*'*200)\n",
        "spambase.head()\n"
      ],
      "execution_count": 371,
      "outputs": [
        {
          "output_type": "stream",
          "text": [
            "   PassengerId  Survived  Pclass  ...     Fare Cabin  Embarked\n",
            "0            1         0       3  ...   7.2500   NaN         S\n",
            "1            2         1       1  ...  71.2833   C85         C\n",
            "2            3         1       3  ...   7.9250   NaN         S\n",
            "3            4         1       1  ...  53.1000  C123         S\n",
            "4            5         0       3  ...   8.0500   NaN         S\n",
            "\n",
            "[5 rows x 12 columns]\n",
            "********************************************************************************************************************************************************************************************************\n"
          ],
          "name": "stdout"
        },
        {
          "output_type": "execute_result",
          "data": {
            "text/html": [
              "<div>\n",
              "<style scoped>\n",
              "    .dataframe tbody tr th:only-of-type {\n",
              "        vertical-align: middle;\n",
              "    }\n",
              "\n",
              "    .dataframe tbody tr th {\n",
              "        vertical-align: top;\n",
              "    }\n",
              "\n",
              "    .dataframe thead th {\n",
              "        text-align: right;\n",
              "    }\n",
              "</style>\n",
              "<table border=\"1\" class=\"dataframe\">\n",
              "  <thead>\n",
              "    <tr style=\"text-align: right;\">\n",
              "      <th></th>\n",
              "      <th>0</th>\n",
              "      <th>0.64</th>\n",
              "      <th>0.64.1</th>\n",
              "      <th>0.1</th>\n",
              "      <th>0.32</th>\n",
              "      <th>0.2</th>\n",
              "      <th>0.3</th>\n",
              "      <th>0.4</th>\n",
              "      <th>0.5</th>\n",
              "      <th>0.6</th>\n",
              "      <th>0.7</th>\n",
              "      <th>0.64.2</th>\n",
              "      <th>0.8</th>\n",
              "      <th>0.9</th>\n",
              "      <th>0.10</th>\n",
              "      <th>0.32.1</th>\n",
              "      <th>0.11</th>\n",
              "      <th>1.29</th>\n",
              "      <th>1.93</th>\n",
              "      <th>0.12</th>\n",
              "      <th>0.96</th>\n",
              "      <th>0.13</th>\n",
              "      <th>0.14</th>\n",
              "      <th>0.15</th>\n",
              "      <th>0.16</th>\n",
              "      <th>0.17</th>\n",
              "      <th>0.18</th>\n",
              "      <th>0.19</th>\n",
              "      <th>0.20</th>\n",
              "      <th>0.21</th>\n",
              "      <th>0.22</th>\n",
              "      <th>0.23</th>\n",
              "      <th>0.24</th>\n",
              "      <th>0.25</th>\n",
              "      <th>0.26</th>\n",
              "      <th>0.27</th>\n",
              "      <th>0.28</th>\n",
              "      <th>0.29</th>\n",
              "      <th>0.30</th>\n",
              "      <th>0.31</th>\n",
              "      <th>0.32.2</th>\n",
              "      <th>0.33</th>\n",
              "      <th>0.34</th>\n",
              "      <th>0.35</th>\n",
              "      <th>0.36</th>\n",
              "      <th>0.37</th>\n",
              "      <th>0.38</th>\n",
              "      <th>0.39</th>\n",
              "      <th>0.40</th>\n",
              "      <th>0.41</th>\n",
              "      <th>0.42</th>\n",
              "      <th>0.778</th>\n",
              "      <th>0.43</th>\n",
              "      <th>0.44</th>\n",
              "      <th>3.756</th>\n",
              "      <th>61</th>\n",
              "      <th>278</th>\n",
              "      <th>1</th>\n",
              "    </tr>\n",
              "  </thead>\n",
              "  <tbody>\n",
              "    <tr>\n",
              "      <th>0</th>\n",
              "      <td>0.21</td>\n",
              "      <td>0.28</td>\n",
              "      <td>0.50</td>\n",
              "      <td>0.0</td>\n",
              "      <td>0.14</td>\n",
              "      <td>0.28</td>\n",
              "      <td>0.21</td>\n",
              "      <td>0.07</td>\n",
              "      <td>0.00</td>\n",
              "      <td>0.94</td>\n",
              "      <td>0.21</td>\n",
              "      <td>0.79</td>\n",
              "      <td>0.65</td>\n",
              "      <td>0.21</td>\n",
              "      <td>0.14</td>\n",
              "      <td>0.14</td>\n",
              "      <td>0.07</td>\n",
              "      <td>0.28</td>\n",
              "      <td>3.47</td>\n",
              "      <td>0.00</td>\n",
              "      <td>1.59</td>\n",
              "      <td>0.0</td>\n",
              "      <td>0.43</td>\n",
              "      <td>0.43</td>\n",
              "      <td>0.0</td>\n",
              "      <td>0.0</td>\n",
              "      <td>0.0</td>\n",
              "      <td>0.0</td>\n",
              "      <td>0.0</td>\n",
              "      <td>0.0</td>\n",
              "      <td>0.0</td>\n",
              "      <td>0.0</td>\n",
              "      <td>0.0</td>\n",
              "      <td>0.0</td>\n",
              "      <td>0.0</td>\n",
              "      <td>0.0</td>\n",
              "      <td>0.07</td>\n",
              "      <td>0.0</td>\n",
              "      <td>0.0</td>\n",
              "      <td>0.00</td>\n",
              "      <td>0.0</td>\n",
              "      <td>0.0</td>\n",
              "      <td>0.00</td>\n",
              "      <td>0.0</td>\n",
              "      <td>0.00</td>\n",
              "      <td>0.00</td>\n",
              "      <td>0.0</td>\n",
              "      <td>0.0</td>\n",
              "      <td>0.00</td>\n",
              "      <td>0.132</td>\n",
              "      <td>0.0</td>\n",
              "      <td>0.372</td>\n",
              "      <td>0.180</td>\n",
              "      <td>0.048</td>\n",
              "      <td>5.114</td>\n",
              "      <td>101</td>\n",
              "      <td>1028</td>\n",
              "      <td>1</td>\n",
              "    </tr>\n",
              "    <tr>\n",
              "      <th>1</th>\n",
              "      <td>0.06</td>\n",
              "      <td>0.00</td>\n",
              "      <td>0.71</td>\n",
              "      <td>0.0</td>\n",
              "      <td>1.23</td>\n",
              "      <td>0.19</td>\n",
              "      <td>0.19</td>\n",
              "      <td>0.12</td>\n",
              "      <td>0.64</td>\n",
              "      <td>0.25</td>\n",
              "      <td>0.38</td>\n",
              "      <td>0.45</td>\n",
              "      <td>0.12</td>\n",
              "      <td>0.00</td>\n",
              "      <td>1.75</td>\n",
              "      <td>0.06</td>\n",
              "      <td>0.06</td>\n",
              "      <td>1.03</td>\n",
              "      <td>1.36</td>\n",
              "      <td>0.32</td>\n",
              "      <td>0.51</td>\n",
              "      <td>0.0</td>\n",
              "      <td>1.16</td>\n",
              "      <td>0.06</td>\n",
              "      <td>0.0</td>\n",
              "      <td>0.0</td>\n",
              "      <td>0.0</td>\n",
              "      <td>0.0</td>\n",
              "      <td>0.0</td>\n",
              "      <td>0.0</td>\n",
              "      <td>0.0</td>\n",
              "      <td>0.0</td>\n",
              "      <td>0.0</td>\n",
              "      <td>0.0</td>\n",
              "      <td>0.0</td>\n",
              "      <td>0.0</td>\n",
              "      <td>0.00</td>\n",
              "      <td>0.0</td>\n",
              "      <td>0.0</td>\n",
              "      <td>0.06</td>\n",
              "      <td>0.0</td>\n",
              "      <td>0.0</td>\n",
              "      <td>0.12</td>\n",
              "      <td>0.0</td>\n",
              "      <td>0.06</td>\n",
              "      <td>0.06</td>\n",
              "      <td>0.0</td>\n",
              "      <td>0.0</td>\n",
              "      <td>0.01</td>\n",
              "      <td>0.143</td>\n",
              "      <td>0.0</td>\n",
              "      <td>0.276</td>\n",
              "      <td>0.184</td>\n",
              "      <td>0.010</td>\n",
              "      <td>9.821</td>\n",
              "      <td>485</td>\n",
              "      <td>2259</td>\n",
              "      <td>1</td>\n",
              "    </tr>\n",
              "    <tr>\n",
              "      <th>2</th>\n",
              "      <td>0.00</td>\n",
              "      <td>0.00</td>\n",
              "      <td>0.00</td>\n",
              "      <td>0.0</td>\n",
              "      <td>0.63</td>\n",
              "      <td>0.00</td>\n",
              "      <td>0.31</td>\n",
              "      <td>0.63</td>\n",
              "      <td>0.31</td>\n",
              "      <td>0.63</td>\n",
              "      <td>0.31</td>\n",
              "      <td>0.31</td>\n",
              "      <td>0.31</td>\n",
              "      <td>0.00</td>\n",
              "      <td>0.00</td>\n",
              "      <td>0.31</td>\n",
              "      <td>0.00</td>\n",
              "      <td>0.00</td>\n",
              "      <td>3.18</td>\n",
              "      <td>0.00</td>\n",
              "      <td>0.31</td>\n",
              "      <td>0.0</td>\n",
              "      <td>0.00</td>\n",
              "      <td>0.00</td>\n",
              "      <td>0.0</td>\n",
              "      <td>0.0</td>\n",
              "      <td>0.0</td>\n",
              "      <td>0.0</td>\n",
              "      <td>0.0</td>\n",
              "      <td>0.0</td>\n",
              "      <td>0.0</td>\n",
              "      <td>0.0</td>\n",
              "      <td>0.0</td>\n",
              "      <td>0.0</td>\n",
              "      <td>0.0</td>\n",
              "      <td>0.0</td>\n",
              "      <td>0.00</td>\n",
              "      <td>0.0</td>\n",
              "      <td>0.0</td>\n",
              "      <td>0.00</td>\n",
              "      <td>0.0</td>\n",
              "      <td>0.0</td>\n",
              "      <td>0.00</td>\n",
              "      <td>0.0</td>\n",
              "      <td>0.00</td>\n",
              "      <td>0.00</td>\n",
              "      <td>0.0</td>\n",
              "      <td>0.0</td>\n",
              "      <td>0.00</td>\n",
              "      <td>0.137</td>\n",
              "      <td>0.0</td>\n",
              "      <td>0.137</td>\n",
              "      <td>0.000</td>\n",
              "      <td>0.000</td>\n",
              "      <td>3.537</td>\n",
              "      <td>40</td>\n",
              "      <td>191</td>\n",
              "      <td>1</td>\n",
              "    </tr>\n",
              "    <tr>\n",
              "      <th>3</th>\n",
              "      <td>0.00</td>\n",
              "      <td>0.00</td>\n",
              "      <td>0.00</td>\n",
              "      <td>0.0</td>\n",
              "      <td>0.63</td>\n",
              "      <td>0.00</td>\n",
              "      <td>0.31</td>\n",
              "      <td>0.63</td>\n",
              "      <td>0.31</td>\n",
              "      <td>0.63</td>\n",
              "      <td>0.31</td>\n",
              "      <td>0.31</td>\n",
              "      <td>0.31</td>\n",
              "      <td>0.00</td>\n",
              "      <td>0.00</td>\n",
              "      <td>0.31</td>\n",
              "      <td>0.00</td>\n",
              "      <td>0.00</td>\n",
              "      <td>3.18</td>\n",
              "      <td>0.00</td>\n",
              "      <td>0.31</td>\n",
              "      <td>0.0</td>\n",
              "      <td>0.00</td>\n",
              "      <td>0.00</td>\n",
              "      <td>0.0</td>\n",
              "      <td>0.0</td>\n",
              "      <td>0.0</td>\n",
              "      <td>0.0</td>\n",
              "      <td>0.0</td>\n",
              "      <td>0.0</td>\n",
              "      <td>0.0</td>\n",
              "      <td>0.0</td>\n",
              "      <td>0.0</td>\n",
              "      <td>0.0</td>\n",
              "      <td>0.0</td>\n",
              "      <td>0.0</td>\n",
              "      <td>0.00</td>\n",
              "      <td>0.0</td>\n",
              "      <td>0.0</td>\n",
              "      <td>0.00</td>\n",
              "      <td>0.0</td>\n",
              "      <td>0.0</td>\n",
              "      <td>0.00</td>\n",
              "      <td>0.0</td>\n",
              "      <td>0.00</td>\n",
              "      <td>0.00</td>\n",
              "      <td>0.0</td>\n",
              "      <td>0.0</td>\n",
              "      <td>0.00</td>\n",
              "      <td>0.135</td>\n",
              "      <td>0.0</td>\n",
              "      <td>0.135</td>\n",
              "      <td>0.000</td>\n",
              "      <td>0.000</td>\n",
              "      <td>3.537</td>\n",
              "      <td>40</td>\n",
              "      <td>191</td>\n",
              "      <td>1</td>\n",
              "    </tr>\n",
              "    <tr>\n",
              "      <th>4</th>\n",
              "      <td>0.00</td>\n",
              "      <td>0.00</td>\n",
              "      <td>0.00</td>\n",
              "      <td>0.0</td>\n",
              "      <td>1.85</td>\n",
              "      <td>0.00</td>\n",
              "      <td>0.00</td>\n",
              "      <td>1.85</td>\n",
              "      <td>0.00</td>\n",
              "      <td>0.00</td>\n",
              "      <td>0.00</td>\n",
              "      <td>0.00</td>\n",
              "      <td>0.00</td>\n",
              "      <td>0.00</td>\n",
              "      <td>0.00</td>\n",
              "      <td>0.00</td>\n",
              "      <td>0.00</td>\n",
              "      <td>0.00</td>\n",
              "      <td>0.00</td>\n",
              "      <td>0.00</td>\n",
              "      <td>0.00</td>\n",
              "      <td>0.0</td>\n",
              "      <td>0.00</td>\n",
              "      <td>0.00</td>\n",
              "      <td>0.0</td>\n",
              "      <td>0.0</td>\n",
              "      <td>0.0</td>\n",
              "      <td>0.0</td>\n",
              "      <td>0.0</td>\n",
              "      <td>0.0</td>\n",
              "      <td>0.0</td>\n",
              "      <td>0.0</td>\n",
              "      <td>0.0</td>\n",
              "      <td>0.0</td>\n",
              "      <td>0.0</td>\n",
              "      <td>0.0</td>\n",
              "      <td>0.00</td>\n",
              "      <td>0.0</td>\n",
              "      <td>0.0</td>\n",
              "      <td>0.00</td>\n",
              "      <td>0.0</td>\n",
              "      <td>0.0</td>\n",
              "      <td>0.00</td>\n",
              "      <td>0.0</td>\n",
              "      <td>0.00</td>\n",
              "      <td>0.00</td>\n",
              "      <td>0.0</td>\n",
              "      <td>0.0</td>\n",
              "      <td>0.00</td>\n",
              "      <td>0.223</td>\n",
              "      <td>0.0</td>\n",
              "      <td>0.000</td>\n",
              "      <td>0.000</td>\n",
              "      <td>0.000</td>\n",
              "      <td>3.000</td>\n",
              "      <td>15</td>\n",
              "      <td>54</td>\n",
              "      <td>1</td>\n",
              "    </tr>\n",
              "  </tbody>\n",
              "</table>\n",
              "</div>"
            ],
            "text/plain": [
              "      0  0.64  0.64.1  0.1  0.32   0.2  ...   0.43   0.44  3.756   61   278  1\n",
              "0  0.21  0.28    0.50  0.0  0.14  0.28  ...  0.180  0.048  5.114  101  1028  1\n",
              "1  0.06  0.00    0.71  0.0  1.23  0.19  ...  0.184  0.010  9.821  485  2259  1\n",
              "2  0.00  0.00    0.00  0.0  0.63  0.00  ...  0.000  0.000  3.537   40   191  1\n",
              "3  0.00  0.00    0.00  0.0  0.63  0.00  ...  0.000  0.000  3.537   40   191  1\n",
              "4  0.00  0.00    0.00  0.0  1.85  0.00  ...  0.000  0.000  3.000   15    54  1\n",
              "\n",
              "[5 rows x 58 columns]"
            ]
          },
          "metadata": {
            "tags": []
          },
          "execution_count": 371
        }
      ]
    },
    {
      "cell_type": "code",
      "metadata": {
        "id": "C3LsMhdlKTsU",
        "colab_type": "code",
        "colab": {
          "base_uri": "https://localhost:8080/",
          "height": 88
        },
        "outputId": "9c068e46-c63b-4504-ab1d-b10188ae21fc"
      },
      "source": [
        "# checking for the number of records in the dataset\n",
        "print(titanic.shape)\n",
        "print('*'*200)\n",
        "spambase.shape"
      ],
      "execution_count": 373,
      "outputs": [
        {
          "output_type": "stream",
          "text": [
            "(891, 12)\n",
            "********************************************************************************************************************************************************************************************************\n"
          ],
          "name": "stdout"
        },
        {
          "output_type": "execute_result",
          "data": {
            "text/plain": [
              "(4600, 58)"
            ]
          },
          "metadata": {
            "tags": []
          },
          "execution_count": 373
        }
      ]
    },
    {
      "cell_type": "markdown",
      "metadata": {
        "id": "q-aromBHKhkb",
        "colab_type": "text"
      },
      "source": [
        "\n",
        "\n",
        "*   there are 891 rows and 12 labels in the titanic database\n",
        "*   there are 4600 rows and 58 labels\n",
        "\n"
      ]
    },
    {
      "cell_type": "code",
      "metadata": {
        "id": "Im6dVve0K1kk",
        "colab_type": "code",
        "colab": {
          "base_uri": "https://localhost:8080/",
          "height": 1000
        },
        "outputId": "8174c23f-b484-47a9-8cbb-e7d3a25423c5"
      },
      "source": [
        "# checking for the infomation about the datasets\n",
        "print(titanic.info())\n",
        "print('*'*200)\n",
        "spambase.info()"
      ],
      "execution_count": 374,
      "outputs": [
        {
          "output_type": "stream",
          "text": [
            "<class 'pandas.core.frame.DataFrame'>\n",
            "RangeIndex: 891 entries, 0 to 890\n",
            "Data columns (total 12 columns):\n",
            "PassengerId    891 non-null int64\n",
            "Survived       891 non-null int64\n",
            "Pclass         891 non-null int64\n",
            "Name           891 non-null object\n",
            "Sex            891 non-null object\n",
            "Age            714 non-null float64\n",
            "SibSp          891 non-null int64\n",
            "Parch          891 non-null int64\n",
            "Ticket         891 non-null object\n",
            "Fare           891 non-null float64\n",
            "Cabin          204 non-null object\n",
            "Embarked       889 non-null object\n",
            "dtypes: float64(2), int64(5), object(5)\n",
            "memory usage: 83.7+ KB\n",
            "None\n",
            "********************************************************************************************************************************************************************************************************\n",
            "<class 'pandas.core.frame.DataFrame'>\n",
            "RangeIndex: 4600 entries, 0 to 4599\n",
            "Data columns (total 58 columns):\n",
            "0         4600 non-null float64\n",
            "0.64      4600 non-null float64\n",
            "0.64.1    4600 non-null float64\n",
            "0.1       4600 non-null float64\n",
            "0.32      4600 non-null float64\n",
            "0.2       4600 non-null float64\n",
            "0.3       4600 non-null float64\n",
            "0.4       4600 non-null float64\n",
            "0.5       4600 non-null float64\n",
            "0.6       4600 non-null float64\n",
            "0.7       4600 non-null float64\n",
            "0.64.2    4600 non-null float64\n",
            "0.8       4600 non-null float64\n",
            "0.9       4600 non-null float64\n",
            "0.10      4600 non-null float64\n",
            "0.32.1    4600 non-null float64\n",
            "0.11      4600 non-null float64\n",
            "1.29      4600 non-null float64\n",
            "1.93      4600 non-null float64\n",
            "0.12      4600 non-null float64\n",
            "0.96      4600 non-null float64\n",
            "0.13      4600 non-null float64\n",
            "0.14      4600 non-null float64\n",
            "0.15      4600 non-null float64\n",
            "0.16      4600 non-null float64\n",
            "0.17      4600 non-null float64\n",
            "0.18      4600 non-null float64\n",
            "0.19      4600 non-null float64\n",
            "0.20      4600 non-null float64\n",
            "0.21      4600 non-null float64\n",
            "0.22      4600 non-null float64\n",
            "0.23      4600 non-null float64\n",
            "0.24      4600 non-null float64\n",
            "0.25      4600 non-null float64\n",
            "0.26      4600 non-null float64\n",
            "0.27      4600 non-null float64\n",
            "0.28      4600 non-null float64\n",
            "0.29      4600 non-null float64\n",
            "0.30      4600 non-null float64\n",
            "0.31      4600 non-null float64\n",
            "0.32.2    4600 non-null float64\n",
            "0.33      4600 non-null float64\n",
            "0.34      4600 non-null float64\n",
            "0.35      4600 non-null float64\n",
            "0.36      4600 non-null float64\n",
            "0.37      4600 non-null float64\n",
            "0.38      4600 non-null float64\n",
            "0.39      4600 non-null float64\n",
            "0.40      4600 non-null float64\n",
            "0.41      4600 non-null float64\n",
            "0.42      4600 non-null float64\n",
            "0.778     4600 non-null float64\n",
            "0.43      4600 non-null float64\n",
            "0.44      4600 non-null float64\n",
            "3.756     4600 non-null float64\n",
            "61        4600 non-null int64\n",
            "278       4600 non-null int64\n",
            "1         4600 non-null int64\n",
            "dtypes: float64(55), int64(3)\n",
            "memory usage: 2.0 MB\n"
          ],
          "name": "stdout"
        }
      ]
    },
    {
      "cell_type": "markdown",
      "metadata": {
        "id": "rD_paBLXLI0v",
        "colab_type": "text"
      },
      "source": [
        "\n",
        "*   there are 7 numerical datapoints and 5 categorical datapoints in titanic datasets\n",
        "\n",
        "*   all of the datapoints in the spambase dataset are numerical, that is 58 datapoints\n",
        "\n"
      ]
    },
    {
      "cell_type": "code",
      "metadata": {
        "id": "T9WcSd9XMH62",
        "colab_type": "code",
        "colab": {
          "base_uri": "https://localhost:8080/",
          "height": 241
        },
        "outputId": "0b569f80-ab4e-4e4b-fceb-3c41a4e28e7b"
      },
      "source": [
        "# checking the column names\n",
        "print('titanic columns: ',titanic.columns)\n",
        "print('*'*200)\n",
        "print('spambase columns: ', spambase.columns)"
      ],
      "execution_count": 375,
      "outputs": [
        {
          "output_type": "stream",
          "text": [
            "titanic columns:  Index(['PassengerId', 'Survived', 'Pclass', 'Name', 'Sex', 'Age', 'SibSp',\n",
            "       'Parch', 'Ticket', 'Fare', 'Cabin', 'Embarked'],\n",
            "      dtype='object')\n",
            "********************************************************************************************************************************************************************************************************\n",
            "spambase columns:  Index(['0', '0.64', '0.64.1', '0.1', '0.32', '0.2', '0.3', '0.4', '0.5', '0.6',\n",
            "       '0.7', '0.64.2', '0.8', '0.9', '0.10', '0.32.1', '0.11', '1.29', '1.93',\n",
            "       '0.12', '0.96', '0.13', '0.14', '0.15', '0.16', '0.17', '0.18', '0.19',\n",
            "       '0.20', '0.21', '0.22', '0.23', '0.24', '0.25', '0.26', '0.27', '0.28',\n",
            "       '0.29', '0.30', '0.31', '0.32.2', '0.33', '0.34', '0.35', '0.36',\n",
            "       '0.37', '0.38', '0.39', '0.40', '0.41', '0.42', '0.778', '0.43', '0.44',\n",
            "       '3.756', '61', '278', '1'],\n",
            "      dtype='object')\n"
          ],
          "name": "stdout"
        }
      ]
    },
    {
      "cell_type": "markdown",
      "metadata": {
        "id": "GATT40ocM6vq",
        "colab_type": "text"
      },
      "source": [
        "the titanic dataset has unstandardised naming. feature engineering should be done so as to get uniform column names "
      ]
    },
    {
      "cell_type": "markdown",
      "metadata": {
        "id": "FlBMxEDBUc9B",
        "colab_type": "text"
      },
      "source": [
        "## 5. Feature Engineering"
      ]
    },
    {
      "cell_type": "code",
      "metadata": {
        "id": "KeHfQY_1NQG0",
        "colab_type": "code",
        "colab": {}
      },
      "source": [
        "# standardising the column names\n",
        "titanic.columns = titanic.columns.str.lower()"
      ],
      "execution_count": 0,
      "outputs": []
    },
    {
      "cell_type": "markdown",
      "metadata": {
        "id": "rLDEH2ePRTsN",
        "colab_type": "text"
      },
      "source": [
        "we are going to remove some feature that are unnecessary in the titanic dataset"
      ]
    },
    {
      "cell_type": "code",
      "metadata": {
        "id": "BTMKxgjLRfhd",
        "colab_type": "code",
        "colab": {
          "base_uri": "https://localhost:8080/",
          "height": 204
        },
        "outputId": "6b0d08b6-ffcb-4898-93aa-a5f82a289590"
      },
      "source": [
        "titanic.head()"
      ],
      "execution_count": 377,
      "outputs": [
        {
          "output_type": "execute_result",
          "data": {
            "text/html": [
              "<div>\n",
              "<style scoped>\n",
              "    .dataframe tbody tr th:only-of-type {\n",
              "        vertical-align: middle;\n",
              "    }\n",
              "\n",
              "    .dataframe tbody tr th {\n",
              "        vertical-align: top;\n",
              "    }\n",
              "\n",
              "    .dataframe thead th {\n",
              "        text-align: right;\n",
              "    }\n",
              "</style>\n",
              "<table border=\"1\" class=\"dataframe\">\n",
              "  <thead>\n",
              "    <tr style=\"text-align: right;\">\n",
              "      <th></th>\n",
              "      <th>passengerid</th>\n",
              "      <th>survived</th>\n",
              "      <th>pclass</th>\n",
              "      <th>name</th>\n",
              "      <th>sex</th>\n",
              "      <th>age</th>\n",
              "      <th>sibsp</th>\n",
              "      <th>parch</th>\n",
              "      <th>ticket</th>\n",
              "      <th>fare</th>\n",
              "      <th>cabin</th>\n",
              "      <th>embarked</th>\n",
              "    </tr>\n",
              "  </thead>\n",
              "  <tbody>\n",
              "    <tr>\n",
              "      <th>0</th>\n",
              "      <td>1</td>\n",
              "      <td>0</td>\n",
              "      <td>3</td>\n",
              "      <td>Braund, Mr. Owen Harris</td>\n",
              "      <td>male</td>\n",
              "      <td>22.0</td>\n",
              "      <td>1</td>\n",
              "      <td>0</td>\n",
              "      <td>A/5 21171</td>\n",
              "      <td>7.2500</td>\n",
              "      <td>NaN</td>\n",
              "      <td>S</td>\n",
              "    </tr>\n",
              "    <tr>\n",
              "      <th>1</th>\n",
              "      <td>2</td>\n",
              "      <td>1</td>\n",
              "      <td>1</td>\n",
              "      <td>Cumings, Mrs. John Bradley (Florence Briggs Th...</td>\n",
              "      <td>female</td>\n",
              "      <td>38.0</td>\n",
              "      <td>1</td>\n",
              "      <td>0</td>\n",
              "      <td>PC 17599</td>\n",
              "      <td>71.2833</td>\n",
              "      <td>C85</td>\n",
              "      <td>C</td>\n",
              "    </tr>\n",
              "    <tr>\n",
              "      <th>2</th>\n",
              "      <td>3</td>\n",
              "      <td>1</td>\n",
              "      <td>3</td>\n",
              "      <td>Heikkinen, Miss. Laina</td>\n",
              "      <td>female</td>\n",
              "      <td>26.0</td>\n",
              "      <td>0</td>\n",
              "      <td>0</td>\n",
              "      <td>STON/O2. 3101282</td>\n",
              "      <td>7.9250</td>\n",
              "      <td>NaN</td>\n",
              "      <td>S</td>\n",
              "    </tr>\n",
              "    <tr>\n",
              "      <th>3</th>\n",
              "      <td>4</td>\n",
              "      <td>1</td>\n",
              "      <td>1</td>\n",
              "      <td>Futrelle, Mrs. Jacques Heath (Lily May Peel)</td>\n",
              "      <td>female</td>\n",
              "      <td>35.0</td>\n",
              "      <td>1</td>\n",
              "      <td>0</td>\n",
              "      <td>113803</td>\n",
              "      <td>53.1000</td>\n",
              "      <td>C123</td>\n",
              "      <td>S</td>\n",
              "    </tr>\n",
              "    <tr>\n",
              "      <th>4</th>\n",
              "      <td>5</td>\n",
              "      <td>0</td>\n",
              "      <td>3</td>\n",
              "      <td>Allen, Mr. William Henry</td>\n",
              "      <td>male</td>\n",
              "      <td>35.0</td>\n",
              "      <td>0</td>\n",
              "      <td>0</td>\n",
              "      <td>373450</td>\n",
              "      <td>8.0500</td>\n",
              "      <td>NaN</td>\n",
              "      <td>S</td>\n",
              "    </tr>\n",
              "  </tbody>\n",
              "</table>\n",
              "</div>"
            ],
            "text/plain": [
              "   passengerid  survived  pclass  ...     fare cabin  embarked\n",
              "0            1         0       3  ...   7.2500   NaN         S\n",
              "1            2         1       1  ...  71.2833   C85         C\n",
              "2            3         1       3  ...   7.9250   NaN         S\n",
              "3            4         1       1  ...  53.1000  C123         S\n",
              "4            5         0       3  ...   8.0500   NaN         S\n",
              "\n",
              "[5 rows x 12 columns]"
            ]
          },
          "metadata": {
            "tags": []
          },
          "execution_count": 377
        }
      ]
    },
    {
      "cell_type": "code",
      "metadata": {
        "id": "UYRLxJtvRSrn",
        "colab_type": "code",
        "colab": {}
      },
      "source": [
        "titanic.drop(['passengerid', 'ticket', 'name'], 1, inplace=True)"
      ],
      "execution_count": 0,
      "outputs": []
    },
    {
      "cell_type": "code",
      "metadata": {
        "id": "0KcwPCZlQRVe",
        "colab_type": "code",
        "colab": {
          "base_uri": "https://localhost:8080/",
          "height": 88
        },
        "outputId": "d3f83b3b-44ce-411f-cf14-a20089713ed5"
      },
      "source": [
        "# checking for missing values\n",
        "print(titanic.isnull().sum().sum())\n",
        "print('*'*200)\n",
        "spambase.isnull().sum().sum()\n"
      ],
      "execution_count": 380,
      "outputs": [
        {
          "output_type": "stream",
          "text": [
            "866\n",
            "********************************************************************************************************************************************************************************************************\n"
          ],
          "name": "stdout"
        },
        {
          "output_type": "execute_result",
          "data": {
            "text/plain": [
              "0"
            ]
          },
          "metadata": {
            "tags": []
          },
          "execution_count": 380
        }
      ]
    },
    {
      "cell_type": "markdown",
      "metadata": {
        "id": "JFBdk6nkQz6j",
        "colab_type": "text"
      },
      "source": [
        "there are 866 missing data values in the titanic dataset while spambase has none"
      ]
    },
    {
      "cell_type": "code",
      "metadata": {
        "id": "KOIXRuEvQ_ce",
        "colab_type": "code",
        "colab": {
          "base_uri": "https://localhost:8080/",
          "height": 187
        },
        "outputId": "806a8a76-8137-4628-d6ba-e4c20606591c"
      },
      "source": [
        "#focusing on the titanic dataset so that we can deal with the mising values\n",
        "titanic.isnull().sum()"
      ],
      "execution_count": 381,
      "outputs": [
        {
          "output_type": "execute_result",
          "data": {
            "text/plain": [
              "survived      0\n",
              "pclass        0\n",
              "sex           0\n",
              "age         177\n",
              "sibsp         0\n",
              "parch         0\n",
              "fare          0\n",
              "cabin       687\n",
              "embarked      2\n",
              "dtype: int64"
            ]
          },
          "metadata": {
            "tags": []
          },
          "execution_count": 381
        }
      ]
    },
    {
      "cell_type": "markdown",
      "metadata": {
        "id": "hjlEbH3tRNEa",
        "colab_type": "text"
      },
      "source": [
        "there are 117, 687 and 2 missing values in age, cabin and embarked features respectively"
      ]
    },
    {
      "cell_type": "code",
      "metadata": {
        "id": "X-Sc28nmSO_0",
        "colab_type": "code",
        "colab": {
          "base_uri": "https://localhost:8080/",
          "height": 51
        },
        "outputId": "6d6bc43e-2bef-41d4-a768-5556bb544ef1"
      },
      "source": [
        "# we are going to fill the embarked feature with the most frequent data entry\n",
        "mode = titanic.embarked.mode()\n",
        "print (mode)\n",
        "\n",
        "titanic.embarked.fillna('S', inplace=True)"
      ],
      "execution_count": 382,
      "outputs": [
        {
          "output_type": "stream",
          "text": [
            "0    S\n",
            "dtype: object\n"
          ],
          "name": "stdout"
        }
      ]
    },
    {
      "cell_type": "markdown",
      "metadata": {
        "id": "PSp55ZU4SvLD",
        "colab_type": "text"
      },
      "source": [
        "we have filled embarked feature using the most frequent data entry"
      ]
    },
    {
      "cell_type": "code",
      "metadata": {
        "id": "MkHxW4itSsUR",
        "colab_type": "code",
        "colab": {}
      },
      "source": [
        "# for the cabin we are going to drop it\n",
        "titanic.drop('cabin', 1, inplace=True)"
      ],
      "execution_count": 0,
      "outputs": []
    },
    {
      "cell_type": "markdown",
      "metadata": {
        "id": "2YzTZeCrTGYL",
        "colab_type": "text"
      },
      "source": [
        "The reason behind this is that cabin has a lot of miising data, 687/891. this is more than 50% of the data."
      ]
    },
    {
      "cell_type": "code",
      "metadata": {
        "id": "k1mQU7BoTFxA",
        "colab_type": "code",
        "colab": {
          "base_uri": "https://localhost:8080/",
          "height": 34
        },
        "outputId": "b558e734-f173-46c7-97dd-aa197d54ed14"
      },
      "source": [
        "# AGE\n",
        "# get the skewness of the feature\n",
        "titanic.age.skew()\n"
      ],
      "execution_count": 384,
      "outputs": [
        {
          "output_type": "execute_result",
          "data": {
            "text/plain": [
              "0.38910778230082704"
            ]
          },
          "metadata": {
            "tags": []
          },
          "execution_count": 384
        }
      ]
    },
    {
      "cell_type": "markdown",
      "metadata": {
        "id": "W8udxZIKZUeG",
        "colab_type": "text"
      },
      "source": [
        "the skew is positive. so we are going to fill it with the mean so that we can try and achieve symmetry "
      ]
    },
    {
      "cell_type": "code",
      "metadata": {
        "id": "oVIcyKyQZvXB",
        "colab_type": "code",
        "colab": {}
      },
      "source": [
        "titanic.age.fillna(titanic.age.median(),inplace= True)"
      ],
      "execution_count": 0,
      "outputs": []
    },
    {
      "cell_type": "code",
      "metadata": {
        "id": "sE7V2hweaCJJ",
        "colab_type": "code",
        "colab": {
          "base_uri": "https://localhost:8080/",
          "height": 170
        },
        "outputId": "941aea81-7c42-4a1a-9fa2-a5837fde6c47"
      },
      "source": [
        "# checking whether the null values have been dealt with successfully\n",
        "titanic.isnull().sum()"
      ],
      "execution_count": 386,
      "outputs": [
        {
          "output_type": "execute_result",
          "data": {
            "text/plain": [
              "survived    0\n",
              "pclass      0\n",
              "sex         0\n",
              "age         0\n",
              "sibsp       0\n",
              "parch       0\n",
              "fare        0\n",
              "embarked    0\n",
              "dtype: int64"
            ]
          },
          "metadata": {
            "tags": []
          },
          "execution_count": 386
        }
      ]
    },
    {
      "cell_type": "markdown",
      "metadata": {
        "id": "QimDhu6wbwW7",
        "colab_type": "text"
      },
      "source": [
        "all the missing data has been removed. Lets check for the duplicates"
      ]
    },
    {
      "cell_type": "code",
      "metadata": {
        "id": "oFjX-y9BbvKe",
        "colab_type": "code",
        "colab": {
          "base_uri": "https://localhost:8080/",
          "height": 88
        },
        "outputId": "bc091382-69ae-4ea4-f98e-99198787573c"
      },
      "source": [
        "# duplicates\n",
        "print(titanic.duplicated().sum())\n",
        "print('*'*200)\n",
        "spambase.duplicated().sum()\n"
      ],
      "execution_count": 387,
      "outputs": [
        {
          "output_type": "stream",
          "text": [
            "116\n",
            "********************************************************************************************************************************************************************************************************\n"
          ],
          "name": "stdout"
        },
        {
          "output_type": "execute_result",
          "data": {
            "text/plain": [
              "391"
            ]
          },
          "metadata": {
            "tags": []
          },
          "execution_count": 387
        }
      ]
    },
    {
      "cell_type": "markdown",
      "metadata": {
        "id": "M0DCGhHkcQj4",
        "colab_type": "text"
      },
      "source": [
        "there are 111 and 391 duplicates in titanic and spambase datasets respectively"
      ]
    },
    {
      "cell_type": "code",
      "metadata": {
        "id": "jhe2noh-cjcb",
        "colab_type": "code",
        "colab": {}
      },
      "source": [
        "# droppping all the duplicates\n",
        "\n",
        "titanic.drop_duplicates(inplace=True)\n",
        "spambase.drop_duplicates(inplace=True)"
      ],
      "execution_count": 0,
      "outputs": []
    },
    {
      "cell_type": "code",
      "metadata": {
        "id": "dXAgJfKUcyTS",
        "colab_type": "code",
        "colab": {
          "base_uri": "https://localhost:8080/",
          "height": 88
        },
        "outputId": "8b13f9df-e3ca-4153-9230-0eb6ef51e6be"
      },
      "source": [
        "# checking whether all the duplicates have been dropped\n",
        "print(titanic.duplicated().sum())\n",
        "print('*'*200)\n",
        "spambase.duplicated().sum()\n"
      ],
      "execution_count": 389,
      "outputs": [
        {
          "output_type": "stream",
          "text": [
            "0\n",
            "********************************************************************************************************************************************************************************************************\n"
          ],
          "name": "stdout"
        },
        {
          "output_type": "execute_result",
          "data": {
            "text/plain": [
              "0"
            ]
          },
          "metadata": {
            "tags": []
          },
          "execution_count": 389
        }
      ]
    },
    {
      "cell_type": "markdown",
      "metadata": {
        "id": "_q0LGTcJdK6j",
        "colab_type": "text"
      },
      "source": [
        "all of the duplicated data has been dropped. now we can head on and do some label encoding"
      ]
    },
    {
      "cell_type": "code",
      "metadata": {
        "id": "btrSsewgfEm5",
        "colab_type": "code",
        "colab": {}
      },
      "source": [
        "# label encoding our data\n",
        "from sklearn.preprocessing import LabelEncoder as LE\n",
        "\n",
        "le = LE()\n",
        "\n",
        "titanic.sex = le.fit_transform(titanic.sex)\n",
        "titanic.embarked = le.fit_transform(titanic.embarked)"
      ],
      "execution_count": 0,
      "outputs": []
    },
    {
      "cell_type": "code",
      "metadata": {
        "id": "RBs5O8MUZwq1",
        "colab_type": "code",
        "colab": {}
      },
      "source": [
        ""
      ],
      "execution_count": 0,
      "outputs": []
    },
    {
      "cell_type": "markdown",
      "metadata": {
        "id": "rF2ABPsHUtbZ",
        "colab_type": "text"
      },
      "source": [
        "##**6.0 Exploratory Analysis - Titanic Dataset**"
      ]
    },
    {
      "cell_type": "markdown",
      "metadata": {
        "id": "lzraYlImU-ke",
        "colab_type": "text"
      },
      "source": [
        "# Univariate Analysis"
      ]
    },
    {
      "cell_type": "code",
      "metadata": {
        "id": "rF3FC90Pl7n5",
        "colab_type": "code",
        "colab": {
          "base_uri": "https://localhost:8080/",
          "height": 621
        },
        "outputId": "22e3c184-2f37-4c9e-e710-18dfb6c2cc75"
      },
      "source": [
        "f, ax= plt.subplots(1,2, figsize=(15, 10))\n",
        "titanic.survived.value_counts().plot.pie(explode=[0, 0.1], autopct='%1.1f%%',ax=ax[0], shadow=True)\n",
        "ax[0].set_title('Survived')\n",
        "sns.countplot('survived', data=titanic)\n",
        "ax[1].set_title('Survived')\n",
        "plt.show()"
      ],
      "execution_count": 391,
      "outputs": [
        {
          "output_type": "display_data",
          "data": {
            "image/png": "[encoded data removed]",
            "text/plain": [
              "<Figure size 1080x720 with 2 Axes>"
            ]
          },
          "metadata": {
            "tags": []
          }
        }
      ]
    },
    {
      "cell_type": "markdown",
      "metadata": {
        "id": "XZVAt2LwpLwx",
        "colab_type": "text"
      },
      "source": [
        "the number of passengers who did not survive was more than those who did"
      ]
    },
    {
      "cell_type": "code",
      "metadata": {
        "id": "RIK89N6zphK6",
        "colab_type": "code",
        "colab": {
          "base_uri": "https://localhost:8080/",
          "height": 239
        },
        "outputId": "72b3e44f-596b-42af-f9f2-1185f7bb9993"
      },
      "source": [
        "fig = plt.figure(figsize=(14,2))\n",
        "sns.countplot(y='pclass', data=titanic)\n",
        "print(titanic.pclass.value_counts())"
      ],
      "execution_count": 392,
      "outputs": [
        {
          "output_type": "stream",
          "text": [
            "3    401\n",
            "1    210\n",
            "2    164\n",
            "Name: pclass, dtype: int64\n"
          ],
          "name": "stdout"
        },
        {
          "output_type": "display_data",
          "data": {
            "image/png": "[encoded data removed]",
            "text/plain": [
              "<Figure size 1008x144 with 1 Axes>"
            ]
          },
          "metadata": {
            "tags": []
          }
        }
      ]
    },
    {
      "cell_type": "markdown",
      "metadata": {
        "id": "661JR5kMskZA",
        "colab_type": "text"
      },
      "source": [
        "most of the passengers who were on board were in class 3"
      ]
    },
    {
      "cell_type": "code",
      "metadata": {
        "id": "SzdQivEmsus4",
        "colab_type": "code",
        "colab": {
          "base_uri": "https://localhost:8080/",
          "height": 427
        },
        "outputId": "3d02a725-38b2-4e07-9b34-a7261d705c86"
      },
      "source": [
        "fig = plt.figure(figsize=(20,7))\n",
        "titanic.sex.value_counts().plot.pie(explode=[0, 0.1], autopct='%1.1f%%', shadow=True)\n",
        "plt.title('SEX')\n",
        "plt.show()"
      ],
      "execution_count": 393,
      "outputs": [
        {
          "output_type": "display_data",
          "data": {
            "image/png": "[encoded data removed]",
            "text/plain": [
              "<Figure size 1440x504 with 1 Axes>"
            ]
          },
          "metadata": {
            "tags": []
          }
        }
      ]
    },
    {
      "cell_type": "markdown",
      "metadata": {
        "id": "nr1epFA6tzwZ",
        "colab_type": "text"
      },
      "source": [
        "male was labelled as 1, therefore the males who were on board the titanic were more than females."
      ]
    },
    {
      "cell_type": "code",
      "metadata": {
        "id": "Qk0-FDlsvQ-R",
        "colab_type": "code",
        "colab": {
          "base_uri": "https://localhost:8080/",
          "height": 458
        },
        "outputId": "b9eada38-2f34-467a-e9b0-883a7e64a381"
      },
      "source": [
        "plt.figure(figsize=(15,7))\n",
        "sns.distplot(titanic.age)\n",
        "plt.title('Age')\n",
        "plt.xlabel('Age')\n",
        "plt.ylabel('Count')\n",
        "plt.show()"
      ],
      "execution_count": 394,
      "outputs": [
        {
          "output_type": "display_data",
          "data": {
            "image/png": "[encoded data removed]",
            "text/plain": [
              "<Figure size 1080x504 with 1 Axes>"
            ]
          },
          "metadata": {
            "tags": []
          }
        }
      ]
    },
    {
      "cell_type": "markdown",
      "metadata": {
        "id": "rtHPzeWO0YcK",
        "colab_type": "text"
      },
      "source": [
        "Most of the data is distributed between 20 and 40"
      ]
    },
    {
      "cell_type": "code",
      "metadata": {
        "id": "vhDYy8C70gNV",
        "colab_type": "code",
        "colab": {
          "base_uri": "https://localhost:8080/",
          "height": 452
        },
        "outputId": "fd836c1b-09c3-4561-a8a1-529aa25fbcd3"
      },
      "source": [
        "plt.figure(figsize=(10,5))\n",
        "titanic.sibsp.value_counts().plot.bar()\n",
        "print(titanic.sibsp.value_counts())\n",
        "plt.show()"
      ],
      "execution_count": 395,
      "outputs": [
        {
          "output_type": "stream",
          "text": [
            "0    508\n",
            "1    201\n",
            "2     27\n",
            "4     18\n",
            "3     14\n",
            "5      5\n",
            "8      2\n",
            "Name: sibsp, dtype: int64\n"
          ],
          "name": "stdout"
        },
        {
          "output_type": "display_data",
          "data": {
            "image/png": "[encoded data removed]",
            "text/plain": [
              "<Figure size 720x360 with 1 Axes>"
            ]
          },
          "metadata": {
            "tags": []
          }
        }
      ]
    },
    {
      "cell_type": "markdown",
      "metadata": {
        "id": "p1QbWs182Wac",
        "colab_type": "text"
      },
      "source": [
        "most of the passengers neither had a spouse nor a sibling."
      ]
    },
    {
      "cell_type": "code",
      "metadata": {
        "id": "R31x9Ntl3BGI",
        "colab_type": "code",
        "colab": {
          "base_uri": "https://localhost:8080/",
          "height": 334
        },
        "outputId": "484f7c20-a9a8-4a7e-b8d0-b204b716c1e4"
      },
      "source": [
        "plt.figure(figsize=(15,5))\n",
        "sns.distplot(titanic.fare)\n",
        "plt.xlabel('fare')\n",
        "plt.ylabel('count')\n",
        "plt.show()"
      ],
      "execution_count": 396,
      "outputs": [
        {
          "output_type": "display_data",
          "data": {
            "image/png": "[encoded data removed]",
            "text/plain": [
              "<Figure size 1080x360 with 1 Axes>"
            ]
          },
          "metadata": {
            "tags": []
          }
        }
      ]
    },
    {
      "cell_type": "markdown",
      "metadata": {
        "id": "smf_pVui3g1R",
        "colab_type": "text"
      },
      "source": [
        "most of the fare is distributed between 0 and 50"
      ]
    },
    {
      "cell_type": "code",
      "metadata": {
        "id": "6Tq-4Vfh2p9z",
        "colab_type": "code",
        "colab": {
          "base_uri": "https://localhost:8080/",
          "height": 427
        },
        "outputId": "9b214d12-e355-45fb-eeb9-c2a8ea041522"
      },
      "source": [
        "plt.figure(figsize=(15,7))\n",
        "titanic.embarked.value_counts().plot.pie(explode=[0,0,0.2], autopct='%1.1f%%', shadow=True)\n",
        "plt.title('Embarked')\n",
        "plt.show()"
      ],
      "execution_count": 397,
      "outputs": [
        {
          "output_type": "display_data",
          "data": {
            "image/png": "[encoded data removed]",
            "text/plain": [
              "<Figure size 1080x504 with 1 Axes>"
            ]
          },
          "metadata": {
            "tags": []
          }
        }
      ]
    },
    {
      "cell_type": "markdown",
      "metadata": {
        "id": "j-Z9ljlRPYSb",
        "colab_type": "text"
      },
      "source": [
        "most of the passengers who boarded the ship was at 2, which is southampton"
      ]
    },
    {
      "cell_type": "markdown",
      "metadata": {
        "id": "Ls370kPU3Cty",
        "colab_type": "text"
      },
      "source": [
        ""
      ]
    },
    {
      "cell_type": "markdown",
      "metadata": {
        "id": "gaglpA9k8BK4",
        "colab_type": "text"
      },
      "source": [
        "**Bivariate Analysis**- Titanic\n",
        "\n"
      ]
    },
    {
      "cell_type": "code",
      "metadata": {
        "id": "gnOuFTED88g3",
        "colab_type": "code",
        "colab": {
          "base_uri": "https://localhost:8080/",
          "height": 489
        },
        "outputId": "c950b27c-f932-4ac5-c2b1-fa8d38ac8fd5"
      },
      "source": [
        "ship = titanic.corr()\n",
        "mask = np.zeros_like(ship)\n",
        "mask[np.triu_indices_from(mask)] = True\n",
        "plt.figure(figsize=(10,8))\n",
        "sns.heatmap(ship, mask=mask, annot=True, linewidths=0.2, annot_kws={'size':10})\n",
        "plt.show()"
      ],
      "execution_count": 399,
      "outputs": [
        {
          "output_type": "display_data",
          "data": {
            "image/png": "[encoded data removed]",
            "text/plain": [
              "<Figure size 720x576 with 2 Axes>"
            ]
          },
          "metadata": {
            "tags": []
          }
        }
      ]
    },
    {
      "cell_type": "markdown",
      "metadata": {
        "id": "RwoOJNJ_-HSW",
        "colab_type": "text"
      },
      "source": [
        "all of the features have a week corelation with the dependant variable, survived "
      ]
    },
    {
      "cell_type": "code",
      "metadata": {
        "id": "lP1qLQH3DKeG",
        "colab_type": "code",
        "colab": {
          "base_uri": "https://localhost:8080/",
          "height": 334
        },
        "outputId": "17ddf131-ed56-4402-8db7-281087f5ccd3"
      },
      "source": [
        "plt.figure(figsize=(15,5))\n",
        "sns.countplot('pclass', hue='survived', data=titanic)\n",
        "plt.show()"
      ],
      "execution_count": 400,
      "outputs": [
        {
          "output_type": "display_data",
          "data": {
            "image/png": "[encoded data removed]",
            "text/plain": [
              "<Figure size 1080x360 with 1 Axes>"
            ]
          },
          "metadata": {
            "tags": []
          }
        }
      ]
    },
    {
      "cell_type": "markdown",
      "metadata": {
        "id": "OvqNA2ibD025",
        "colab_type": "text"
      },
      "source": [
        "\n",
        "\n",
        "\n",
        "*   most of the passengers in third class did not survive\n",
        "*   most of the passengers in the first class survived\n",
        "*   there was equality in terms of servival in second class\n",
        "\n",
        "\n",
        "\n",
        "\n",
        "\n"
      ]
    },
    {
      "cell_type": "code",
      "metadata": {
        "id": "E-MYL6vpDygO",
        "colab_type": "code",
        "colab": {
          "base_uri": "https://localhost:8080/",
          "height": 350
        },
        "outputId": "57b93646-c444-4791-e9af-20ef29416736"
      },
      "source": [
        "plt.figure(figsize=(15,5))\n",
        "sns.countplot('sex', hue='survived', data=titanic)\n",
        "plt.title('gender vs survival')\n",
        "plt.show()"
      ],
      "execution_count": 401,
      "outputs": [
        {
          "output_type": "display_data",
          "data": {
            "image/png": "[encoded data removed]",
            "text/plain": [
              "<Figure size 1080x360 with 1 Axes>"
            ]
          },
          "metadata": {
            "tags": []
          }
        }
      ]
    },
    {
      "cell_type": "markdown",
      "metadata": {
        "id": "nIP0Gh-uFt-z",
        "colab_type": "text"
      },
      "source": [
        "\n",
        "\n",
        "\n",
        "*   more males survied than those who did not.\n",
        "*   more females did not survive compared to those who did.\n",
        "\n"
      ]
    },
    {
      "cell_type": "code",
      "metadata": {
        "id": "faJsh6UKHLHa",
        "colab_type": "code",
        "colab": {
          "base_uri": "https://localhost:8080/",
          "height": 373
        },
        "outputId": "66186b4a-8c73-478e-f10a-faffc10269b9"
      },
      "source": [
        "plt.figure(figsize=(15,5))\n",
        "ax = sns.kdeplot(titanic.loc[(titanic['survived'] == 0), 'age'], color = 'gray', shade=True, label='not survived')\n",
        "ax = sns.kdeplot(titanic.loc[(titanic['survived'] == 1), 'age'], color = 'g', shade=True, label='survived')\n",
        "plt.title('Age Distribution - Survivor vs Non-survivor', fontsize=15)\n",
        "plt.xlabel('Age', fontsize=15, labelpad=20)\n",
        "plt.ylabel('Frequency', fontsize=15, labelpad=20)\n",
        "plt.show()"
      ],
      "execution_count": 402,
      "outputs": [
        {
          "output_type": "display_data",
          "data": {
            "image/png": "[encoded data removed]",
            "text/plain": [
              "<Figure size 1080x360 with 1 Axes>"
            ]
          },
          "metadata": {
            "tags": []
          }
        }
      ]
    },
    {
      "cell_type": "markdown",
      "metadata": {
        "id": "04X9YlGiKS11",
        "colab_type": "text"
      },
      "source": [
        "\n",
        "\n",
        "*   there are more passengers who survived at the age between 0 to 10 than those who were unfortunate\n",
        "\n",
        "\n"
      ]
    },
    {
      "cell_type": "code",
      "metadata": {
        "id": "pvAmuRnCJ984",
        "colab_type": "code",
        "colab": {
          "base_uri": "https://localhost:8080/",
          "height": 334
        },
        "outputId": "87ddb81d-5ad9-457b-c694-a590f3e5f354"
      },
      "source": [
        "plt.figure(figsize=(15,5))\n",
        "sns.countplot('sibsp', hue='survived', data=titanic)\n",
        "plt.show()"
      ],
      "execution_count": 403,
      "outputs": [
        {
          "output_type": "display_data",
          "data": {
            "image/png": "[encoded data removed]",
            "text/plain": [
              "<Figure size 1080x360 with 1 Axes>"
            ]
          },
          "metadata": {
            "tags": []
          }
        }
      ]
    },
    {
      "cell_type": "markdown",
      "metadata": {
        "id": "iaBnz7XuLsuV",
        "colab_type": "text"
      },
      "source": [
        "most of the passengers who did not survive neither had a sibling nor a spouse"
      ]
    },
    {
      "cell_type": "code",
      "metadata": {
        "id": "2AbecOYOL7tT",
        "colab_type": "code",
        "colab": {
          "base_uri": "https://localhost:8080/",
          "height": 334
        },
        "outputId": "f51fed94-940c-4260-dd2e-a4d2b2d28153"
      },
      "source": [
        "plt.figure(figsize=(15,5))\n",
        "sns.countplot('parch', hue='survived', data=titanic)\n",
        "plt.show()"
      ],
      "execution_count": 404,
      "outputs": [
        {
          "output_type": "display_data",
          "data": {
            "image/png": "[encoded data removed]",
            "text/plain": [
              "<Figure size 1080x360 with 1 Axes>"
            ]
          },
          "metadata": {
            "tags": []
          }
        }
      ]
    },
    {
      "cell_type": "markdown",
      "metadata": {
        "id": "GDuc1BaQNMvJ",
        "colab_type": "text"
      },
      "source": [
        "many patients who did not survive were neither a parent nor a child than those who did."
      ]
    },
    {
      "cell_type": "code",
      "metadata": {
        "id": "YCAwv7tGElJI",
        "colab_type": "code",
        "colab": {
          "base_uri": "https://localhost:8080/",
          "height": 68
        },
        "outputId": "9061ac39-b326-433a-fb38-beb8769ca5dc"
      },
      "source": [
        "titanic.columns"
      ],
      "execution_count": 405,
      "outputs": [
        {
          "output_type": "execute_result",
          "data": {
            "text/plain": [
              "Index(['survived', 'pclass', 'sex', 'age', 'sibsp', 'parch', 'fare',\n",
              "       'embarked'],\n",
              "      dtype='object')"
            ]
          },
          "metadata": {
            "tags": []
          },
          "execution_count": 405
        }
      ]
    },
    {
      "cell_type": "code",
      "metadata": {
        "id": "D9GmrH5ZP8jZ",
        "colab_type": "code",
        "colab": {
          "base_uri": "https://localhost:8080/",
          "height": 350
        },
        "outputId": "792db224-ba89-443d-b4dc-3d147d25a1c9"
      },
      "source": [
        "plt.figure(figsize=(15,5))\n",
        "plt.hist(x = [titanic[titanic['survived']==1]['fare'], titanic[titanic['survived']==0]['fare']], \n",
        "         stacked=True, color = ['g','r'],label = ['Survived','Not Survived'])\n",
        "plt.title('Fare Histogram by Survival')\n",
        "plt.xlabel('Fare ($)')\n",
        "plt.ylabel('# of Passengers')\n",
        "plt.legend()\n",
        "plt.show()"
      ],
      "execution_count": 441,
      "outputs": [
        {
          "output_type": "display_data",
          "data": {
            "image/png": "[encoded data removed]",
            "text/plain": [
              "<Figure size 1080x360 with 1 Axes>"
            ]
          },
          "metadata": {
            "tags": []
          }
        }
      ]
    },
    {
      "cell_type": "markdown",
      "metadata": {
        "id": "_-es5t0ESfm1",
        "colab_type": "text"
      },
      "source": [
        "most of the passengers paid there fare between the range of 0 to 50 and most of them did not survive."
      ]
    },
    {
      "cell_type": "code",
      "metadata": {
        "id": "PwENN4GnNZ4d",
        "colab_type": "code",
        "colab": {
          "base_uri": "https://localhost:8080/",
          "height": 334
        },
        "outputId": "6544d987-e031-49d2-93b6-dd39b5ebf571"
      },
      "source": [
        "plt.figure(figsize=(15,5))\n",
        "sns.countplot('embarked', hue='survived', data=titanic)\n",
        "plt.show()"
      ],
      "execution_count": 406,
      "outputs": [
        {
          "output_type": "display_data",
          "data": {
            "image/png": "[encoded data removed]",
            "text/plain": [
              "<Figure size 1080x360 with 1 Axes>"
            ]
          },
          "metadata": {
            "tags": []
          }
        }
      ]
    },
    {
      "cell_type": "markdown",
      "metadata": {
        "id": "1zGE5rnQN6rb",
        "colab_type": "text"
      },
      "source": [
        "most of the passengers had boarded the ship at port 2, which is Southampton, where those passengers most of them did not survive"
      ]
    },
    {
      "cell_type": "markdown",
      "metadata": {
        "id": "vTbdjSrhVIiT",
        "colab_type": "text"
      },
      "source": [
        "## 7. Modelling - Titanic"
      ]
    },
    {
      "cell_type": "markdown",
      "metadata": {
        "id": "GUaI09EKeXAt",
        "colab_type": "text"
      },
      "source": [
        "# **STEP 1**"
      ]
    },
    {
      "cell_type": "markdown",
      "metadata": {
        "id": "LV1D1dn4dggH",
        "colab_type": "text"
      },
      "source": [
        "**K-Nearest Neighbour**"
      ]
    },
    {
      "cell_type": "code",
      "metadata": {
        "id": "bjD2LlPwdevy",
        "colab_type": "code",
        "colab": {
          "base_uri": "https://localhost:8080/",
          "height": 68
        },
        "outputId": "9d474595-3e07-4263-bf1b-2d938e76a2a2"
      },
      "source": [
        "titanic.columns"
      ],
      "execution_count": 407,
      "outputs": [
        {
          "output_type": "execute_result",
          "data": {
            "text/plain": [
              "Index(['survived', 'pclass', 'sex', 'age', 'sibsp', 'parch', 'fare',\n",
              "       'embarked'],\n",
              "      dtype='object')"
            ]
          },
          "metadata": {
            "tags": []
          },
          "execution_count": 407
        }
      ]
    },
    {
      "cell_type": "code",
      "metadata": {
        "id": "cfpyZqlKdxli",
        "colab_type": "code",
        "colab": {}
      },
      "source": [
        "# preparing the dataset\n",
        "x = titanic.iloc[:,1:].values\n",
        "y = titanic.survived.values\n",
        "\n",
        "#splitting the dataset\n",
        "from sklearn.model_selection import train_test_split\n",
        "x_train, x_test, y_train, y_test = train_test_split(x, y, test_size=.2, random_state=0)"
      ],
      "execution_count": 0,
      "outputs": []
    },
    {
      "cell_type": "code",
      "metadata": {
        "id": "v9Y0vqjleKWA",
        "colab_type": "code",
        "colab": {}
      },
      "source": [
        "# scaling the data\n",
        "from sklearn.preprocessing import StandardScaler as SS\n",
        "\n",
        "scaler = SS()\n",
        "scaler.fit(x_train)\n",
        "\n",
        "x_train = scaler.transform(x_train)\n",
        "x_test = scaler.transform(x_test)"
      ],
      "execution_count": 0,
      "outputs": []
    },
    {
      "cell_type": "code",
      "metadata": {
        "id": "w40I0AftgWId",
        "colab_type": "code",
        "colab": {
          "base_uri": "https://localhost:8080/",
          "height": 68
        },
        "outputId": "4352295a-2b11-4834-8c93-e1e0d83ddbf6"
      },
      "source": [
        "# training the data\n",
        "from sklearn.neighbors import KNeighborsClassifier as KNN\n",
        "\n",
        "classifier = KNN()\n",
        "classifier.fit(x_train, y_train)"
      ],
      "execution_count": 410,
      "outputs": [
        {
          "output_type": "execute_result",
          "data": {
            "text/plain": [
              "KNeighborsClassifier(algorithm='auto', leaf_size=30, metric='minkowski',\n",
              "                     metric_params=None, n_jobs=None, n_neighbors=5, p=2,\n",
              "                     weights='uniform')"
            ]
          },
          "metadata": {
            "tags": []
          },
          "execution_count": 410
        }
      ]
    },
    {
      "cell_type": "code",
      "metadata": {
        "id": "r4Bc2u13hzzf",
        "colab_type": "code",
        "colab": {}
      },
      "source": [
        "# predictions\n",
        "y_pred = classifier.predict(x_test)\n"
      ],
      "execution_count": 0,
      "outputs": []
    },
    {
      "cell_type": "code",
      "metadata": {
        "id": "LFsvSGEvlvHY",
        "colab_type": "code",
        "colab": {
          "base_uri": "https://localhost:8080/",
          "height": 34
        },
        "outputId": "d9d1c041-bb5a-4285-8cd2-c177a4ea642e"
      },
      "source": [
        "# accuracy\n",
        "from sklearn.metrics import accuracy_score, confusion_matrix, classification_report\n",
        "accuracy_score(y_test, y_pred)"
      ],
      "execution_count": 412,
      "outputs": [
        {
          "output_type": "execute_result",
          "data": {
            "text/plain": [
              "0.7806451612903226"
            ]
          },
          "metadata": {
            "tags": []
          },
          "execution_count": 412
        }
      ]
    },
    {
      "cell_type": "code",
      "metadata": {
        "id": "6ZWLD0RLnAaP",
        "colab_type": "code",
        "colab": {
          "base_uri": "https://localhost:8080/",
          "height": 51
        },
        "outputId": "6c501950-aefa-48e1-cab0-5613aa642aee"
      },
      "source": [
        "confusion_matrix(y_test, y_pred)"
      ],
      "execution_count": 413,
      "outputs": [
        {
          "output_type": "execute_result",
          "data": {
            "text/plain": [
              "array([[74, 14],\n",
              "       [20, 47]])"
            ]
          },
          "metadata": {
            "tags": []
          },
          "execution_count": 413
        }
      ]
    },
    {
      "cell_type": "code",
      "metadata": {
        "id": "8rOjAch_nJyg",
        "colab_type": "code",
        "colab": {
          "base_uri": "https://localhost:8080/",
          "height": 170
        },
        "outputId": "afd0c63e-601a-4f41-f7f5-05344a823b4a"
      },
      "source": [
        "print(classification_report(y_test, y_pred))"
      ],
      "execution_count": 414,
      "outputs": [
        {
          "output_type": "stream",
          "text": [
            "              precision    recall  f1-score   support\n",
            "\n",
            "           0       0.79      0.84      0.81        88\n",
            "           1       0.77      0.70      0.73        67\n",
            "\n",
            "    accuracy                           0.78       155\n",
            "   macro avg       0.78      0.77      0.77       155\n",
            "weighted avg       0.78      0.78      0.78       155\n",
            "\n"
          ],
          "name": "stdout"
        }
      ]
    },
    {
      "cell_type": "code",
      "metadata": {
        "id": "oaLYArorovZC",
        "colab_type": "code",
        "colab": {
          "base_uri": "https://localhost:8080/",
          "height": 326
        },
        "outputId": "0f6ebaeb-df07-48d5-e71d-8c30f1956828"
      },
      "source": [
        "# splitting the titanic dataset\n",
        "x_train, x_test, y_train, y_test = train_test_split(x,y, test_size=.3, random_state=0)\n",
        "\n",
        "# scaling the data\n",
        "\n",
        "scaler.fit(x_train)\n",
        "\n",
        "x_train = scaler.transform(x_train)\n",
        "x_test = scaler.transform(x_test)\n",
        "\n",
        "# traning the dataset\n",
        "classifier.fit(x_train, y_train)\n",
        "\n",
        "# making the prediction\n",
        "y_pred2 = classifier.predict(x_test)\n",
        "\n",
        "# checking for accuracy\n",
        "print('Accuracy')\n",
        "print(accuracy_score(y_test, y_pred2))\n",
        "print('*'*200)\n",
        "\n",
        "# checking the confusion matrix\n",
        "print('Confusion Matrix')\n",
        "print(confusion_matrix(y_test, y_pred2))\n",
        "print('*'*200)\n",
        "\n",
        "# checking the classification report\n",
        "print('Classification Report')\n",
        "print(classification_report(y_test, y_pred2))"
      ],
      "execution_count": 423,
      "outputs": [
        {
          "output_type": "stream",
          "text": [
            "Accuracy\n",
            "0.7682403433476395\n",
            "********************************************************************************************************************************************************************************************************\n",
            "Confusion Matrix\n",
            "[[107  25]\n",
            " [ 29  72]]\n",
            "********************************************************************************************************************************************************************************************************\n",
            "Classification Report\n",
            "              precision    recall  f1-score   support\n",
            "\n",
            "           0       0.79      0.81      0.80       132\n",
            "           1       0.74      0.71      0.73       101\n",
            "\n",
            "    accuracy                           0.77       233\n",
            "   macro avg       0.76      0.76      0.76       233\n",
            "weighted avg       0.77      0.77      0.77       233\n",
            "\n"
          ],
          "name": "stdout"
        }
      ]
    },
    {
      "cell_type": "code",
      "metadata": {
        "id": "nlHLlVk_Ku2a",
        "colab_type": "code",
        "colab": {
          "base_uri": "https://localhost:8080/",
          "height": 326
        },
        "outputId": "5eef2160-9cf6-43a8-d196-4ec5103c6890"
      },
      "source": [
        "# splitting the itanic dataset\n",
        "x_train, x_test, y_train, y_test = train_test_split(x,y, test_size=.4, random_state=0)\n",
        "\n",
        "# scaling the data\n",
        "\n",
        "scaler.fit(x_train)\n",
        "\n",
        "x_train = scaler.transform(x_train)\n",
        "x_test = scaler.transform(x_test)\n",
        "\n",
        "# traning the dataset\n",
        "classifier.fit(x_train, y_train)\n",
        "\n",
        "# making the prediction\n",
        "y_pred3 = classifier.predict(x_test)\n",
        "\n",
        "# checking for accuracy\n",
        "print('Accuracy:')\n",
        "print(accuracy_score(y_test, y_pred3))\n",
        "print('*'*200)\n",
        "\n",
        "# checking the confusion matrix\n",
        "print('Confusion Matrix:')\n",
        "print(confusion_matrix(y_test, y_pred3))\n",
        "print('*'*200)\n",
        "\n",
        "# checking the classification report\n",
        "print('Classification Report:')\n",
        "print(classification_report(y_test, y_pred3))"
      ],
      "execution_count": 425,
      "outputs": [
        {
          "output_type": "stream",
          "text": [
            "Accuracy:\n",
            "0.7774193548387097\n",
            "********************************************************************************************************************************************************************************************************\n",
            "Confusion Matrix:\n",
            "[[147  32]\n",
            " [ 37  94]]\n",
            "********************************************************************************************************************************************************************************************************\n",
            "Classification Report:\n",
            "              precision    recall  f1-score   support\n",
            "\n",
            "           0       0.80      0.82      0.81       179\n",
            "           1       0.75      0.72      0.73       131\n",
            "\n",
            "    accuracy                           0.78       310\n",
            "   macro avg       0.77      0.77      0.77       310\n",
            "weighted avg       0.78      0.78      0.78       310\n",
            "\n"
          ],
          "name": "stdout"
        }
      ]
    },
    {
      "cell_type": "code",
      "metadata": {
        "id": "7RJnDbU-Lq6y",
        "colab_type": "code",
        "colab": {
          "base_uri": "https://localhost:8080/",
          "height": 326
        },
        "outputId": "8b8ab239-40b5-425b-8cac-dbb02871c74c"
      },
      "source": [
        "# splitting the itanic dataset\n",
        "x_train, x_test, y_train, y_test = train_test_split(x,y, test_size=.5, random_state=0)\n",
        "\n",
        "# scaling the data\n",
        "\n",
        "scaler.fit(x_train)\n",
        "\n",
        "x_train = scaler.transform(x_train)\n",
        "x_test = scaler.transform(x_test)\n",
        "\n",
        "# traning the dataset\n",
        "classifier.fit(x_train, y_train)\n",
        "\n",
        "# making the prediction\n",
        "y_pred4 = classifier.predict(x_test)\n",
        "\n",
        "# checking for accuracy\n",
        "print('Accuracy:')\n",
        "print(accuracy_score(y_test, y_pred4))\n",
        "print('*'*200)\n",
        "\n",
        "# checking the confusion matrix\n",
        "print('Confusion Matrix:')\n",
        "print(confusion_matrix(y_test, y_pred4))\n",
        "print('*'*200)\n",
        "\n",
        "# checking the classification report\n",
        "print('Classification Report:')\n",
        "print(classification_report(y_test, y_pred4))"
      ],
      "execution_count": 427,
      "outputs": [
        {
          "output_type": "stream",
          "text": [
            "Accuracy:\n",
            "0.7989690721649485\n",
            "********************************************************************************************************************************************************************************************************\n",
            "Confusion Matrix:\n",
            "[[195  33]\n",
            " [ 45 115]]\n",
            "********************************************************************************************************************************************************************************************************\n",
            "Classification Report:\n",
            "              precision    recall  f1-score   support\n",
            "\n",
            "           0       0.81      0.86      0.83       228\n",
            "           1       0.78      0.72      0.75       160\n",
            "\n",
            "    accuracy                           0.80       388\n",
            "   macro avg       0.79      0.79      0.79       388\n",
            "weighted avg       0.80      0.80      0.80       388\n",
            "\n"
          ],
          "name": "stdout"
        }
      ]
    },
    {
      "cell_type": "markdown",
      "metadata": {
        "colab_type": "text",
        "id": "Yqau-s0aNdXE"
      },
      "source": [
        "## 8. Challenging the solution"
      ]
    },
    {
      "cell_type": "markdown",
      "metadata": {
        "id": "dBNEdgj3MpYM",
        "colab_type": "text"
      },
      "source": [
        "## **Univariate Analysis - Spam Detection**"
      ]
    },
    {
      "cell_type": "markdown",
      "metadata": {
        "id": "3ggpOM58iUvh",
        "colab_type": "text"
      },
      "source": [
        "**Naive Bayes Classifier**"
      ]
    },
    {
      "cell_type": "code",
      "metadata": {
        "id": "ct0hnQOkiS6c",
        "colab_type": "code",
        "colab": {
          "base_uri": "https://localhost:8080/",
          "height": 153
        },
        "outputId": "24b3358c-035e-4e62-ee27-546385320a73"
      },
      "source": [
        "spambase.columns"
      ],
      "execution_count": 416,
      "outputs": [
        {
          "output_type": "execute_result",
          "data": {
            "text/plain": [
              "Index(['0', '0.64', '0.64.1', '0.1', '0.32', '0.2', '0.3', '0.4', '0.5', '0.6',\n",
              "       '0.7', '0.64.2', '0.8', '0.9', '0.10', '0.32.1', '0.11', '1.29', '1.93',\n",
              "       '0.12', '0.96', '0.13', '0.14', '0.15', '0.16', '0.17', '0.18', '0.19',\n",
              "       '0.20', '0.21', '0.22', '0.23', '0.24', '0.25', '0.26', '0.27', '0.28',\n",
              "       '0.29', '0.30', '0.31', '0.32.2', '0.33', '0.34', '0.35', '0.36',\n",
              "       '0.37', '0.38', '0.39', '0.40', '0.41', '0.42', '0.778', '0.43', '0.44',\n",
              "       '3.756', '61', '278', '1'],\n",
              "      dtype='object')"
            ]
          },
          "metadata": {
            "tags": []
          },
          "execution_count": 416
        }
      ]
    },
    {
      "cell_type": "code",
      "metadata": {
        "id": "LsMsu2O5jRqP",
        "colab_type": "code",
        "colab": {}
      },
      "source": [
        "# preparing the data\n",
        "X = spambase.iloc[:,:-1].values\n",
        "Y = spambase.iloc[:,-1].values\n",
        "\n",
        "# separating the data\n",
        "X_train, X_test, Y_train, Y_test = train_test_split(X, Y, test_size=.2, random_state=0)"
      ],
      "execution_count": 0,
      "outputs": []
    },
    {
      "cell_type": "code",
      "metadata": {
        "id": "o7T-lVH6jwj3",
        "colab_type": "code",
        "colab": {
          "base_uri": "https://localhost:8080/",
          "height": 34
        },
        "outputId": "018d7fd7-9c9b-41d6-c266-2d4472d1ca39"
      },
      "source": [
        "# training the data\n",
        "from sklearn.naive_bayes import GaussianNB as G\n",
        "\n",
        "classify = G()\n",
        "classify.fit(X_train, Y_train)"
      ],
      "execution_count": 418,
      "outputs": [
        {
          "output_type": "execute_result",
          "data": {
            "text/plain": [
              "GaussianNB(priors=None, var_smoothing=1e-09)"
            ]
          },
          "metadata": {
            "tags": []
          },
          "execution_count": 418
        }
      ]
    },
    {
      "cell_type": "code",
      "metadata": {
        "id": "u_JtVqlCkqG9",
        "colab_type": "code",
        "colab": {
          "base_uri": "https://localhost:8080/",
          "height": 34
        },
        "outputId": "6796bf5a-7590-4eb7-87d3-ebf095c6b798"
      },
      "source": [
        "# prediction\n",
        "Y_pred_naive = classify.predict(X_test)\n",
        "\n",
        "# accuracy\n",
        "\n",
        "accuracy_score(Y_test, Y_pred_naive)\n"
      ],
      "execution_count": 419,
      "outputs": [
        {
          "output_type": "execute_result",
          "data": {
            "text/plain": [
              "0.8147268408551069"
            ]
          },
          "metadata": {
            "tags": []
          },
          "execution_count": 419
        }
      ]
    },
    {
      "cell_type": "code",
      "metadata": {
        "id": "rhQfGJCvnVxR",
        "colab_type": "code",
        "colab": {
          "base_uri": "https://localhost:8080/",
          "height": 51
        },
        "outputId": "4d14e9cf-7934-4b66-83b5-7dd486e61118"
      },
      "source": [
        "confusion_matrix(Y_test, Y_pred_naive)"
      ],
      "execution_count": 420,
      "outputs": [
        {
          "output_type": "execute_result",
          "data": {
            "text/plain": [
              "array([[350, 145],\n",
              "       [ 11, 336]])"
            ]
          },
          "metadata": {
            "tags": []
          },
          "execution_count": 420
        }
      ]
    },
    {
      "cell_type": "code",
      "metadata": {
        "id": "wF7_X7_pneWt",
        "colab_type": "code",
        "colab": {
          "base_uri": "https://localhost:8080/",
          "height": 170
        },
        "outputId": "e1896e0c-4a98-4344-d8c3-d3ffac34a71b"
      },
      "source": [
        "print(classification_report(Y_test, Y_pred_naive))"
      ],
      "execution_count": 421,
      "outputs": [
        {
          "output_type": "stream",
          "text": [
            "              precision    recall  f1-score   support\n",
            "\n",
            "           0       0.97      0.71      0.82       495\n",
            "           1       0.70      0.97      0.81       347\n",
            "\n",
            "    accuracy                           0.81       842\n",
            "   macro avg       0.83      0.84      0.81       842\n",
            "weighted avg       0.86      0.81      0.82       842\n",
            "\n"
          ],
          "name": "stdout"
        }
      ]
    },
    {
      "cell_type": "code",
      "metadata": {
        "id": "9hgLLrZwJhWa",
        "colab_type": "code",
        "colab": {
          "base_uri": "https://localhost:8080/",
          "height": 326
        },
        "outputId": "c6fc1608-57d8-4046-f2e1-901d491b7bb1"
      },
      "source": [
        "# splitting the data to 30% for testing and 70% for training\n",
        "X_train, X_test, Y_train, Y_test = train_test_split(X, Y, test_size=.3, random_state=0)\n",
        "\n",
        "# training\n",
        "classify.fit(X_train, Y_train)\n",
        "\n",
        "# prediction\n",
        "Y_pred_naive2 = classify.predict(X_test)\n",
        "\n",
        "# accuracy\n",
        "print('Accuracy:')\n",
        "print(accuracy_score(Y_test, Y_pred_naive2))\n",
        "print('*'*200)\n",
        "\n",
        "# confusion_matrix\n",
        "print('Classification Report:')\n",
        "print(confusion_matrix(Y_test, Y_pred_naive2))\n",
        "print('*'*200)\n",
        "\n",
        "# classification_report\n",
        "print('Classification Report:')\n",
        "print(classification_report(Y_test, Y_pred_naive2))\n"
      ],
      "execution_count": 424,
      "outputs": [
        {
          "output_type": "stream",
          "text": [
            "Accuracy:\n",
            "0.8250197941409343\n",
            "********************************************************************************************************************************************************************************************************\n",
            "Classification Report:\n",
            "[[536 201]\n",
            " [ 20 506]]\n",
            "********************************************************************************************************************************************************************************************************\n",
            "Classification Report:\n",
            "              precision    recall  f1-score   support\n",
            "\n",
            "           0       0.96      0.73      0.83       737\n",
            "           1       0.72      0.96      0.82       526\n",
            "\n",
            "    accuracy                           0.83      1263\n",
            "   macro avg       0.84      0.84      0.82      1263\n",
            "weighted avg       0.86      0.83      0.83      1263\n",
            "\n"
          ],
          "name": "stdout"
        }
      ]
    },
    {
      "cell_type": "code",
      "metadata": {
        "id": "PC6KTS7ALG_x",
        "colab_type": "code",
        "colab": {
          "base_uri": "https://localhost:8080/",
          "height": 326
        },
        "outputId": "7186efe5-46de-4925-930e-4e1203a07f71"
      },
      "source": [
        "# splitting the data to 40% for testing and 70% for training\n",
        "X_train, X_test, Y_train, Y_test = train_test_split(X, Y, test_size=.4, random_state=0)\n",
        "\n",
        "# training\n",
        "classify.fit(X_train, Y_train)\n",
        "\n",
        "# prediction\n",
        "Y_pred_naive4 = classify.predict(X_test)\n",
        "\n",
        "# accuracy\n",
        "print('Accuracy:')\n",
        "print(accuracy_score(Y_test, Y_pred_naive4))\n",
        "print('*'*200)\n",
        "\n",
        "# confusion_matrix\n",
        "print('Confusion matrix:')\n",
        "print(confusion_matrix(Y_test, Y_pred_naive4))\n",
        "print('*'*200)\n",
        "\n",
        "# classification_report\n",
        "print('Classification Report:')\n",
        "print(classification_report(Y_test, Y_pred_naive4))"
      ],
      "execution_count": 426,
      "outputs": [
        {
          "output_type": "stream",
          "text": [
            "Accuracy:\n",
            "0.830166270783848\n",
            "********************************************************************************************************************************************************************************************************\n",
            "Confusion matrix:\n",
            "[[735 259]\n",
            " [ 27 663]]\n",
            "********************************************************************************************************************************************************************************************************\n",
            "Classification Report:\n",
            "              precision    recall  f1-score   support\n",
            "\n",
            "           0       0.96      0.74      0.84       994\n",
            "           1       0.72      0.96      0.82       690\n",
            "\n",
            "    accuracy                           0.83      1684\n",
            "   macro avg       0.84      0.85      0.83      1684\n",
            "weighted avg       0.86      0.83      0.83      1684\n",
            "\n"
          ],
          "name": "stdout"
        }
      ]
    },
    {
      "cell_type": "code",
      "metadata": {
        "id": "at-51wbML_1K",
        "colab_type": "code",
        "colab": {
          "base_uri": "https://localhost:8080/",
          "height": 326
        },
        "outputId": "403c1744-f5be-449c-ca2d-75f0836f0894"
      },
      "source": [
        "# splitting the data to 40% for testing and 70% for training\n",
        "X_train, X_test, Y_train, Y_test = train_test_split(X, Y, test_size=.5, random_state=0)\n",
        "\n",
        "# training\n",
        "classify.fit(X_train, Y_train)\n",
        "\n",
        "# prediction\n",
        "Y_pred_naive4 = classify.predict(X_test)\n",
        "\n",
        "# accuracy\n",
        "print('Accuracy:')\n",
        "print(accuracy_score(Y_test, Y_pred_naive4))\n",
        "print('*'*200)\n",
        "\n",
        "# confusion_matrix\n",
        "print('Confusion Matrix:')\n",
        "print(confusion_matrix(Y_test, Y_pred_naive4))\n",
        "print('*'*200)\n",
        "\n",
        "# classification_report\n",
        "print('Classification Report:')\n",
        "print(classification_report(Y_test, Y_pred_naive4))"
      ],
      "execution_count": 428,
      "outputs": [
        {
          "output_type": "stream",
          "text": [
            "Accuracy:\n",
            "0.833729216152019\n",
            "********************************************************************************************************************************************************************************************************\n",
            "Confusion Matrix:\n",
            "[[923 316]\n",
            " [ 34 832]]\n",
            "********************************************************************************************************************************************************************************************************\n",
            "Classification Report:\n",
            "              precision    recall  f1-score   support\n",
            "\n",
            "           0       0.96      0.74      0.84      1239\n",
            "           1       0.72      0.96      0.83       866\n",
            "\n",
            "    accuracy                           0.83      2105\n",
            "   macro avg       0.84      0.85      0.83      2105\n",
            "weighted avg       0.87      0.83      0.83      2105\n",
            "\n"
          ],
          "name": "stdout"
        }
      ]
    },
    {
      "cell_type": "markdown",
      "metadata": {
        "colab_type": "text",
        "id": "9TABgQgWM-Gv"
      },
      "source": [
        "## 8. Challenging the solution"
      ]
    },
    {
      "cell_type": "code",
      "metadata": {
        "id": "o4Hhhm23KuMH",
        "colab_type": "code",
        "colab": {}
      },
      "source": [
        ""
      ],
      "execution_count": 0,
      "outputs": []
    }
  ]
}